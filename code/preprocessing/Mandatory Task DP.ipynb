{
 "cells": [
  {
   "cell_type": "code",
   "execution_count": null,
   "id": "ad7cf1c5",
   "metadata": {},
   "outputs": [],
   "source": [
    "# Uncomment the below command if you don't have openpyxl\n",
    "#!pip install openpyxl "
   ]
  },
  {
   "cell_type": "code",
   "execution_count": 1,
   "id": "917ec2ff",
   "metadata": {},
   "outputs": [],
   "source": [
    "import pandas as pd\n",
    "import seaborn as sns\n",
    "import matplotlib.pyplot as plt"
   ]
  },
  {
   "cell_type": "code",
   "execution_count": 2,
   "id": "82a16e71",
   "metadata": {},
   "outputs": [],
   "source": [
    "market_data = pd.read_excel(\"../../raw_data/market_data.xlsx\")"
   ]
  },
  {
   "cell_type": "markdown",
   "id": "a407af46",
   "metadata": {},
   "source": [
    "### Missing Values"
   ]
  },
  {
   "cell_type": "code",
   "execution_count": 3,
   "id": "93dc3293",
   "metadata": {
    "scrolled": true
   },
   "outputs": [
    {
     "data": {
      "text/plain": [
       "Time (UTC+10)                                             0\n",
       "Regions NSW Trading Price ($/MWh)                         0\n",
       "Regions SA Trading Price ($/MWh)                          0\n",
       "Regions TAS Trading Price ($/MWh)                         0\n",
       "Regions VIC Trading Price ($/MWh)                         0\n",
       "Regions NSW Trading Total Intermittent Generation (MW)    0\n",
       "Regions SA Trading Total Intermittent Generation (MW)     0\n",
       "Regions TAS Trading Total Intermittent Generation (MW)    0\n",
       "Regions VIC Trading Total Intermittent Generation (MW)    0\n",
       "Regions NSW Operational Demand (MW)                       0\n",
       "Regions SA Operational Demand (MW)                        0\n",
       "Regions TAS Operational Demand (MW)                       0\n",
       "Regions VIC Operational Demand (MW)                       0\n",
       "dtype: int64"
      ]
     },
     "execution_count": 3,
     "metadata": {},
     "output_type": "execute_result"
    }
   ],
   "source": [
    "market_data.isnull().sum()"
   ]
  },
  {
   "cell_type": "markdown",
   "id": "62dff2e5",
   "metadata": {},
   "source": [
    "> Apparently, no missing values are found!"
   ]
  },
  {
   "cell_type": "markdown",
   "id": "6525be9f",
   "metadata": {},
   "source": [
    "### Mandatory Task Training and Test set"
   ]
  },
  {
   "cell_type": "code",
   "execution_count": 4,
   "id": "6cc744ee",
   "metadata": {},
   "outputs": [],
   "source": [
    "# NOTE DATETIME IS IN 'YYYY-MM-DD HH:mm:ss' FORMAT\n",
    "market_data['Time (UTC+10)'] = pd.to_datetime(market_data['Time (UTC+10)'])"
   ]
  },
  {
   "cell_type": "code",
   "execution_count": 4,
   "id": "a7f9cb0e",
   "metadata": {},
   "outputs": [
    {
     "data": {
      "text/html": [
       "<div>\n",
       "<style scoped>\n",
       "    .dataframe tbody tr th:only-of-type {\n",
       "        vertical-align: middle;\n",
       "    }\n",
       "\n",
       "    .dataframe tbody tr th {\n",
       "        vertical-align: top;\n",
       "    }\n",
       "\n",
       "    .dataframe thead th {\n",
       "        text-align: right;\n",
       "    }\n",
       "</style>\n",
       "<table border=\"1\" class=\"dataframe\">\n",
       "  <thead>\n",
       "    <tr style=\"text-align: right;\">\n",
       "      <th></th>\n",
       "      <th>Time (UTC+10)</th>\n",
       "      <th>Regions NSW Trading Price ($/MWh)</th>\n",
       "      <th>Regions SA Trading Price ($/MWh)</th>\n",
       "      <th>Regions TAS Trading Price ($/MWh)</th>\n",
       "      <th>Regions VIC Trading Price ($/MWh)</th>\n",
       "      <th>Regions NSW Trading Total Intermittent Generation (MW)</th>\n",
       "      <th>Regions SA Trading Total Intermittent Generation (MW)</th>\n",
       "      <th>Regions TAS Trading Total Intermittent Generation (MW)</th>\n",
       "      <th>Regions VIC Trading Total Intermittent Generation (MW)</th>\n",
       "      <th>Regions NSW Operational Demand (MW)</th>\n",
       "      <th>Regions SA Operational Demand (MW)</th>\n",
       "      <th>Regions TAS Operational Demand (MW)</th>\n",
       "      <th>Regions VIC Operational Demand (MW)</th>\n",
       "    </tr>\n",
       "  </thead>\n",
       "  <tbody>\n",
       "    <tr>\n",
       "      <th>35358</th>\n",
       "      <td>2020-01-07 15:00:00</td>\n",
       "      <td>57.3</td>\n",
       "      <td>59.09</td>\n",
       "      <td>57.14</td>\n",
       "      <td>55.93</td>\n",
       "      <td>131.93</td>\n",
       "      <td>79.13</td>\n",
       "      <td>24.73</td>\n",
       "      <td>191.99</td>\n",
       "      <td>9533</td>\n",
       "      <td>1109</td>\n",
       "      <td>1110</td>\n",
       "      <td>4889</td>\n",
       "    </tr>\n",
       "  </tbody>\n",
       "</table>\n",
       "</div>"
      ],
      "text/plain": [
       "            Time (UTC+10)  Regions NSW Trading Price ($/MWh)  \\\n",
       "35358 2020-01-07 15:00:00                               57.3   \n",
       "\n",
       "       Regions SA Trading Price ($/MWh)  Regions TAS Trading Price ($/MWh)  \\\n",
       "35358                             59.09                              57.14   \n",
       "\n",
       "       Regions VIC Trading Price ($/MWh)  \\\n",
       "35358                              55.93   \n",
       "\n",
       "       Regions NSW Trading Total Intermittent Generation (MW)  \\\n",
       "35358                                             131.93        \n",
       "\n",
       "       Regions SA Trading Total Intermittent Generation (MW)  \\\n",
       "35358                                              79.13       \n",
       "\n",
       "       Regions TAS Trading Total Intermittent Generation (MW)  \\\n",
       "35358                                              24.73        \n",
       "\n",
       "       Regions VIC Trading Total Intermittent Generation (MW)  \\\n",
       "35358                                             191.99        \n",
       "\n",
       "       Regions NSW Operational Demand (MW)  \\\n",
       "35358                                 9533   \n",
       "\n",
       "       Regions SA Operational Demand (MW)  \\\n",
       "35358                                1109   \n",
       "\n",
       "       Regions TAS Operational Demand (MW)  \\\n",
       "35358                                 1110   \n",
       "\n",
       "       Regions VIC Operational Demand (MW)  \n",
       "35358                                 4889  "
      ]
     },
     "execution_count": 4,
     "metadata": {},
     "output_type": "execute_result"
    }
   ],
   "source": [
    "market_data.loc[market_data['Time (UTC+10)'] == \"2020-01-07 15:00:00\"]"
   ]
  },
  {
   "cell_type": "markdown",
   "id": "e056b8a8",
   "metadata": {},
   "source": [
    "> Checkpoint 2 Spot prices at 01/07/2020 15:00 is 55.93 ($/MWh)"
   ]
  },
  {
   "cell_type": "code",
   "execution_count": 5,
   "id": "1fad635c",
   "metadata": {},
   "outputs": [],
   "source": [
    "# TRAINING SET\n",
    "# Training period is from 01/01/2018 to 30/06/2021 provided in the spec\n",
    "train_start_period = '2018-01-01 00:00:00'\n",
    "train_end_period   = '2021-06-30 23:30:00'\n",
    "\n",
    "train_period = (market_data['Time (UTC+10)'] >= train_start_period) & \\\n",
    "               (market_data['Time (UTC+10)'] <= train_end_period)"
   ]
  },
  {
   "cell_type": "code",
   "execution_count": 6,
   "id": "f6aeea0b",
   "metadata": {},
   "outputs": [],
   "source": [
    "train_data = market_data.loc[train_period]"
   ]
  },
  {
   "cell_type": "code",
   "execution_count": 7,
   "id": "93ff876f",
   "metadata": {},
   "outputs": [
    {
     "data": {
      "text/html": [
       "<div>\n",
       "<style scoped>\n",
       "    .dataframe tbody tr th:only-of-type {\n",
       "        vertical-align: middle;\n",
       "    }\n",
       "\n",
       "    .dataframe tbody tr th {\n",
       "        vertical-align: top;\n",
       "    }\n",
       "\n",
       "    .dataframe thead th {\n",
       "        text-align: right;\n",
       "    }\n",
       "</style>\n",
       "<table border=\"1\" class=\"dataframe\">\n",
       "  <thead>\n",
       "    <tr style=\"text-align: right;\">\n",
       "      <th></th>\n",
       "      <th>Time (UTC+10)</th>\n",
       "      <th>Regions NSW Trading Price ($/MWh)</th>\n",
       "      <th>Regions SA Trading Price ($/MWh)</th>\n",
       "      <th>Regions TAS Trading Price ($/MWh)</th>\n",
       "      <th>Regions VIC Trading Price ($/MWh)</th>\n",
       "      <th>Regions NSW Trading Total Intermittent Generation (MW)</th>\n",
       "      <th>Regions SA Trading Total Intermittent Generation (MW)</th>\n",
       "      <th>Regions TAS Trading Total Intermittent Generation (MW)</th>\n",
       "      <th>Regions VIC Trading Total Intermittent Generation (MW)</th>\n",
       "      <th>Regions NSW Operational Demand (MW)</th>\n",
       "      <th>Regions SA Operational Demand (MW)</th>\n",
       "      <th>Regions TAS Operational Demand (MW)</th>\n",
       "      <th>Regions VIC Operational Demand (MW)</th>\n",
       "    </tr>\n",
       "  </thead>\n",
       "  <tbody>\n",
       "    <tr>\n",
       "      <th>0</th>\n",
       "      <td>2018-01-01</td>\n",
       "      <td>88.0</td>\n",
       "      <td>103.11</td>\n",
       "      <td>90.55</td>\n",
       "      <td>90.43</td>\n",
       "      <td>0.18</td>\n",
       "      <td>60.53</td>\n",
       "      <td>121.68</td>\n",
       "      <td>146.87</td>\n",
       "      <td>7100</td>\n",
       "      <td>1398</td>\n",
       "      <td>1091</td>\n",
       "      <td>4599</td>\n",
       "    </tr>\n",
       "  </tbody>\n",
       "</table>\n",
       "</div>"
      ],
      "text/plain": [
       "  Time (UTC+10)  Regions NSW Trading Price ($/MWh)  \\\n",
       "0    2018-01-01                               88.0   \n",
       "\n",
       "   Regions SA Trading Price ($/MWh)  Regions TAS Trading Price ($/MWh)  \\\n",
       "0                            103.11                              90.55   \n",
       "\n",
       "   Regions VIC Trading Price ($/MWh)  \\\n",
       "0                              90.43   \n",
       "\n",
       "   Regions NSW Trading Total Intermittent Generation (MW)  \\\n",
       "0                                               0.18        \n",
       "\n",
       "   Regions SA Trading Total Intermittent Generation (MW)  \\\n",
       "0                                              60.53       \n",
       "\n",
       "   Regions TAS Trading Total Intermittent Generation (MW)  \\\n",
       "0                                             121.68        \n",
       "\n",
       "   Regions VIC Trading Total Intermittent Generation (MW)  \\\n",
       "0                                             146.87        \n",
       "\n",
       "   Regions NSW Operational Demand (MW)  Regions SA Operational Demand (MW)  \\\n",
       "0                                 7100                                1398   \n",
       "\n",
       "   Regions TAS Operational Demand (MW)  Regions VIC Operational Demand (MW)  \n",
       "0                                 1091                                 4599  "
      ]
     },
     "execution_count": 7,
     "metadata": {},
     "output_type": "execute_result"
    }
   ],
   "source": [
    "train_data.head(1)"
   ]
  },
  {
   "cell_type": "code",
   "execution_count": 8,
   "id": "252308d6",
   "metadata": {},
   "outputs": [
    {
     "data": {
      "text/html": [
       "<div>\n",
       "<style scoped>\n",
       "    .dataframe tbody tr th:only-of-type {\n",
       "        vertical-align: middle;\n",
       "    }\n",
       "\n",
       "    .dataframe tbody tr th {\n",
       "        vertical-align: top;\n",
       "    }\n",
       "\n",
       "    .dataframe thead th {\n",
       "        text-align: right;\n",
       "    }\n",
       "</style>\n",
       "<table border=\"1\" class=\"dataframe\">\n",
       "  <thead>\n",
       "    <tr style=\"text-align: right;\">\n",
       "      <th></th>\n",
       "      <th>Time (UTC+10)</th>\n",
       "      <th>Regions NSW Trading Price ($/MWh)</th>\n",
       "      <th>Regions SA Trading Price ($/MWh)</th>\n",
       "      <th>Regions TAS Trading Price ($/MWh)</th>\n",
       "      <th>Regions VIC Trading Price ($/MWh)</th>\n",
       "      <th>Regions NSW Trading Total Intermittent Generation (MW)</th>\n",
       "      <th>Regions SA Trading Total Intermittent Generation (MW)</th>\n",
       "      <th>Regions TAS Trading Total Intermittent Generation (MW)</th>\n",
       "      <th>Regions VIC Trading Total Intermittent Generation (MW)</th>\n",
       "      <th>Regions NSW Operational Demand (MW)</th>\n",
       "      <th>Regions SA Operational Demand (MW)</th>\n",
       "      <th>Regions TAS Operational Demand (MW)</th>\n",
       "      <th>Regions VIC Operational Demand (MW)</th>\n",
       "    </tr>\n",
       "  </thead>\n",
       "  <tbody>\n",
       "    <tr>\n",
       "      <th>61295</th>\n",
       "      <td>2021-06-30 23:30:00</td>\n",
       "      <td>80.41</td>\n",
       "      <td>88.37</td>\n",
       "      <td>71.57</td>\n",
       "      <td>73.85</td>\n",
       "      <td>3.41</td>\n",
       "      <td>6.33</td>\n",
       "      <td>81.11</td>\n",
       "      <td>190.95</td>\n",
       "      <td>8654</td>\n",
       "      <td>1587</td>\n",
       "      <td>1231</td>\n",
       "      <td>5487</td>\n",
       "    </tr>\n",
       "  </tbody>\n",
       "</table>\n",
       "</div>"
      ],
      "text/plain": [
       "            Time (UTC+10)  Regions NSW Trading Price ($/MWh)  \\\n",
       "61295 2021-06-30 23:30:00                              80.41   \n",
       "\n",
       "       Regions SA Trading Price ($/MWh)  Regions TAS Trading Price ($/MWh)  \\\n",
       "61295                             88.37                              71.57   \n",
       "\n",
       "       Regions VIC Trading Price ($/MWh)  \\\n",
       "61295                              73.85   \n",
       "\n",
       "       Regions NSW Trading Total Intermittent Generation (MW)  \\\n",
       "61295                                               3.41        \n",
       "\n",
       "       Regions SA Trading Total Intermittent Generation (MW)  \\\n",
       "61295                                               6.33       \n",
       "\n",
       "       Regions TAS Trading Total Intermittent Generation (MW)  \\\n",
       "61295                                              81.11        \n",
       "\n",
       "       Regions VIC Trading Total Intermittent Generation (MW)  \\\n",
       "61295                                             190.95        \n",
       "\n",
       "       Regions NSW Operational Demand (MW)  \\\n",
       "61295                                 8654   \n",
       "\n",
       "       Regions SA Operational Demand (MW)  \\\n",
       "61295                                1587   \n",
       "\n",
       "       Regions TAS Operational Demand (MW)  \\\n",
       "61295                                 1231   \n",
       "\n",
       "       Regions VIC Operational Demand (MW)  \n",
       "61295                                 5487  "
      ]
     },
     "execution_count": 8,
     "metadata": {},
     "output_type": "execute_result"
    }
   ],
   "source": [
    "train_data.tail(1)"
   ]
  },
  {
   "cell_type": "code",
   "execution_count": 9,
   "id": "7efead6d",
   "metadata": {},
   "outputs": [],
   "source": [
    "# TESTING SET\n",
    "# Testing period is from 01/07/2021 to 11/08/2021 provided in the spec\n",
    "test_start_period = '2021-07-01 00:30:00'\n",
    "test_end_period   = '2021-08-11 23:30:00'\n",
    "\n",
    "test_period = (market_data['Time (UTC+10)'] >= test_start_period) & \\\n",
    "               (market_data['Time (UTC+10)'] <= test_end_period)"
   ]
  },
  {
   "cell_type": "code",
   "execution_count": 10,
   "id": "3cf6722a",
   "metadata": {},
   "outputs": [],
   "source": [
    "test_data = market_data.loc[test_period]"
   ]
  },
  {
   "cell_type": "code",
   "execution_count": 11,
   "id": "8e45a1ee",
   "metadata": {},
   "outputs": [
    {
     "data": {
      "text/html": [
       "<div>\n",
       "<style scoped>\n",
       "    .dataframe tbody tr th:only-of-type {\n",
       "        vertical-align: middle;\n",
       "    }\n",
       "\n",
       "    .dataframe tbody tr th {\n",
       "        vertical-align: top;\n",
       "    }\n",
       "\n",
       "    .dataframe thead th {\n",
       "        text-align: right;\n",
       "    }\n",
       "</style>\n",
       "<table border=\"1\" class=\"dataframe\">\n",
       "  <thead>\n",
       "    <tr style=\"text-align: right;\">\n",
       "      <th></th>\n",
       "      <th>Time (UTC+10)</th>\n",
       "      <th>Regions NSW Trading Price ($/MWh)</th>\n",
       "      <th>Regions SA Trading Price ($/MWh)</th>\n",
       "      <th>Regions TAS Trading Price ($/MWh)</th>\n",
       "      <th>Regions VIC Trading Price ($/MWh)</th>\n",
       "      <th>Regions NSW Trading Total Intermittent Generation (MW)</th>\n",
       "      <th>Regions SA Trading Total Intermittent Generation (MW)</th>\n",
       "      <th>Regions TAS Trading Total Intermittent Generation (MW)</th>\n",
       "      <th>Regions VIC Trading Total Intermittent Generation (MW)</th>\n",
       "      <th>Regions NSW Operational Demand (MW)</th>\n",
       "      <th>Regions SA Operational Demand (MW)</th>\n",
       "      <th>Regions TAS Operational Demand (MW)</th>\n",
       "      <th>Regions VIC Operational Demand (MW)</th>\n",
       "    </tr>\n",
       "  </thead>\n",
       "  <tbody>\n",
       "    <tr>\n",
       "      <th>61297</th>\n",
       "      <td>2021-07-01 00:30:00</td>\n",
       "      <td>190.22</td>\n",
       "      <td>96.47</td>\n",
       "      <td>99.43</td>\n",
       "      <td>90.51</td>\n",
       "      <td>5.26</td>\n",
       "      <td>4.92</td>\n",
       "      <td>77.71</td>\n",
       "      <td>175.53</td>\n",
       "      <td>8402</td>\n",
       "      <td>1679</td>\n",
       "      <td>1154</td>\n",
       "      <td>5192</td>\n",
       "    </tr>\n",
       "  </tbody>\n",
       "</table>\n",
       "</div>"
      ],
      "text/plain": [
       "            Time (UTC+10)  Regions NSW Trading Price ($/MWh)  \\\n",
       "61297 2021-07-01 00:30:00                             190.22   \n",
       "\n",
       "       Regions SA Trading Price ($/MWh)  Regions TAS Trading Price ($/MWh)  \\\n",
       "61297                             96.47                              99.43   \n",
       "\n",
       "       Regions VIC Trading Price ($/MWh)  \\\n",
       "61297                              90.51   \n",
       "\n",
       "       Regions NSW Trading Total Intermittent Generation (MW)  \\\n",
       "61297                                               5.26        \n",
       "\n",
       "       Regions SA Trading Total Intermittent Generation (MW)  \\\n",
       "61297                                               4.92       \n",
       "\n",
       "       Regions TAS Trading Total Intermittent Generation (MW)  \\\n",
       "61297                                              77.71        \n",
       "\n",
       "       Regions VIC Trading Total Intermittent Generation (MW)  \\\n",
       "61297                                             175.53        \n",
       "\n",
       "       Regions NSW Operational Demand (MW)  \\\n",
       "61297                                 8402   \n",
       "\n",
       "       Regions SA Operational Demand (MW)  \\\n",
       "61297                                1679   \n",
       "\n",
       "       Regions TAS Operational Demand (MW)  \\\n",
       "61297                                 1154   \n",
       "\n",
       "       Regions VIC Operational Demand (MW)  \n",
       "61297                                 5192  "
      ]
     },
     "execution_count": 11,
     "metadata": {},
     "output_type": "execute_result"
    }
   ],
   "source": [
    "test_data.head(1)"
   ]
  },
  {
   "cell_type": "code",
   "execution_count": 12,
   "id": "4cf6ddf4",
   "metadata": {},
   "outputs": [
    {
     "data": {
      "text/html": [
       "<div>\n",
       "<style scoped>\n",
       "    .dataframe tbody tr th:only-of-type {\n",
       "        vertical-align: middle;\n",
       "    }\n",
       "\n",
       "    .dataframe tbody tr th {\n",
       "        vertical-align: top;\n",
       "    }\n",
       "\n",
       "    .dataframe thead th {\n",
       "        text-align: right;\n",
       "    }\n",
       "</style>\n",
       "<table border=\"1\" class=\"dataframe\">\n",
       "  <thead>\n",
       "    <tr style=\"text-align: right;\">\n",
       "      <th></th>\n",
       "      <th>Time (UTC+10)</th>\n",
       "      <th>Regions NSW Trading Price ($/MWh)</th>\n",
       "      <th>Regions SA Trading Price ($/MWh)</th>\n",
       "      <th>Regions TAS Trading Price ($/MWh)</th>\n",
       "      <th>Regions VIC Trading Price ($/MWh)</th>\n",
       "      <th>Regions NSW Trading Total Intermittent Generation (MW)</th>\n",
       "      <th>Regions SA Trading Total Intermittent Generation (MW)</th>\n",
       "      <th>Regions TAS Trading Total Intermittent Generation (MW)</th>\n",
       "      <th>Regions VIC Trading Total Intermittent Generation (MW)</th>\n",
       "      <th>Regions NSW Operational Demand (MW)</th>\n",
       "      <th>Regions SA Operational Demand (MW)</th>\n",
       "      <th>Regions TAS Operational Demand (MW)</th>\n",
       "      <th>Regions VIC Operational Demand (MW)</th>\n",
       "    </tr>\n",
       "  </thead>\n",
       "  <tbody>\n",
       "    <tr>\n",
       "      <th>63311</th>\n",
       "      <td>2021-08-11 23:30:00</td>\n",
       "      <td>54.42</td>\n",
       "      <td>49.82</td>\n",
       "      <td>11.29</td>\n",
       "      <td>51.37</td>\n",
       "      <td>146.67</td>\n",
       "      <td>242.53</td>\n",
       "      <td>167.19</td>\n",
       "      <td>296.36</td>\n",
       "      <td>7795</td>\n",
       "      <td>1571</td>\n",
       "      <td>1259</td>\n",
       "      <td>5332</td>\n",
       "    </tr>\n",
       "  </tbody>\n",
       "</table>\n",
       "</div>"
      ],
      "text/plain": [
       "            Time (UTC+10)  Regions NSW Trading Price ($/MWh)  \\\n",
       "63311 2021-08-11 23:30:00                              54.42   \n",
       "\n",
       "       Regions SA Trading Price ($/MWh)  Regions TAS Trading Price ($/MWh)  \\\n",
       "63311                             49.82                              11.29   \n",
       "\n",
       "       Regions VIC Trading Price ($/MWh)  \\\n",
       "63311                              51.37   \n",
       "\n",
       "       Regions NSW Trading Total Intermittent Generation (MW)  \\\n",
       "63311                                             146.67        \n",
       "\n",
       "       Regions SA Trading Total Intermittent Generation (MW)  \\\n",
       "63311                                             242.53       \n",
       "\n",
       "       Regions TAS Trading Total Intermittent Generation (MW)  \\\n",
       "63311                                             167.19        \n",
       "\n",
       "       Regions VIC Trading Total Intermittent Generation (MW)  \\\n",
       "63311                                             296.36        \n",
       "\n",
       "       Regions NSW Operational Demand (MW)  \\\n",
       "63311                                 7795   \n",
       "\n",
       "       Regions SA Operational Demand (MW)  \\\n",
       "63311                                1571   \n",
       "\n",
       "       Regions TAS Operational Demand (MW)  \\\n",
       "63311                                 1259   \n",
       "\n",
       "       Regions VIC Operational Demand (MW)  \n",
       "63311                                 5332  "
      ]
     },
     "execution_count": 12,
     "metadata": {},
     "output_type": "execute_result"
    }
   ],
   "source": [
    "test_data.tail(1)"
   ]
  },
  {
   "cell_type": "code",
   "execution_count": 13,
   "id": "6208c4cc",
   "metadata": {},
   "outputs": [],
   "source": [
    "# SAVE TRAIN AND TEST SET TO CSV\n",
    "train_data.to_csv('../../preprocessed_data/mandatory_train.csv')\n",
    "test_data.to_csv('../../preprocessed_data/mandatory_test.csv')"
   ]
  }
 ],
 "metadata": {
  "kernelspec": {
   "display_name": "Python 3",
   "language": "python",
   "name": "python3"
  },
  "language_info": {
   "codemirror_mode": {
    "name": "ipython",
    "version": 3
   },
   "file_extension": ".py",
   "mimetype": "text/x-python",
   "name": "python",
   "nbconvert_exporter": "python",
   "pygments_lexer": "ipython3",
   "version": "3.9.6"
  },
  "varInspector": {
   "cols": {
    "lenName": 16,
    "lenType": 16,
    "lenVar": 40
   },
   "kernels_config": {
    "python": {
     "delete_cmd_postfix": "",
     "delete_cmd_prefix": "del ",
     "library": "var_list.py",
     "varRefreshCmd": "print(var_dic_list())"
    },
    "r": {
     "delete_cmd_postfix": ") ",
     "delete_cmd_prefix": "rm(",
     "library": "var_list.r",
     "varRefreshCmd": "cat(var_dic_list()) "
    }
   },
   "types_to_exclude": [
    "module",
    "function",
    "builtin_function_or_method",
    "instance",
    "_Feature"
   ],
   "window_display": false
  }
 },
 "nbformat": 4,
 "nbformat_minor": 5
}
