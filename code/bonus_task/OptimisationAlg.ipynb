{
 "cells": [
  {
   "cell_type": "code",
   "execution_count": null,
   "id": "dc91d262",
   "metadata": {},
   "outputs": [],
   "source": [
    "#!pip install openpyxl # Uncomment to install openpyxl"
   ]
  },
  {
   "cell_type": "markdown",
   "id": "58687304",
   "metadata": {},
   "source": [
    "# NOTE\n",
    "\n",
    "### THIS IS A COPY OF FINAL OPTIMISATION ALGORITHM FROM MANDATORY TASK DIRECTORY"
   ]
  },
  {
   "cell_type": "markdown",
   "id": "79a2b40b",
   "metadata": {},
   "source": [
    "### Libraries"
   ]
  },
  {
   "cell_type": "code",
   "execution_count": 1,
   "id": "5f1cd9b9",
   "metadata": {},
   "outputs": [],
   "source": [
    "import pandas as pd\n",
    "import numpy as np\n",
    "import time\n",
    "\n",
    "import PeriodMaximisation as pm\n",
    "from Battery import Battery\n",
    "\n",
    "%run ./MiniModels.ipynb"
   ]
  },
  {
   "cell_type": "markdown",
   "id": "1b2c2093",
   "metadata": {},
   "source": [
    "## Optimisation Algorithm"
   ]
  },
  {
   "cell_type": "code",
   "execution_count": 2,
   "id": "246824f4",
   "metadata": {},
   "outputs": [],
   "source": [
    "def ConvertFormat_BunToMeat(df):\n",
    "    \n",
    "    # Converting simple format to actual format\n",
    "    df[\"Power\"] = np.where(df[\"Status\"] == \"Charge\", df[\"Actual\"] * 2, df[\"Actual\"] * 2 / 0.9)\n",
    "    df = pm.renameColumns(df[[\"Time\", \"Price\", \"Power\", \"Actual\", \"Opening Capacity\", \"Closing Capacity\"]])\n",
    "    \n",
    "    return df\n",
    "\n",
    "def ConvertFormat_MeatToBun(act, df):\n",
    "    \n",
    "    # Converting actual format to simple format\n",
    "    act = act[[\"Time (UTC+10)\", \"Regions VIC Trading Price ($/MWh)\", \n",
    "               \"Market Dispatch (MWh)\", \"Opening Capacity (MWh)\", \n",
    "               \"Closing Capacity (MWh)\"]] # Select time and victoria prices\n",
    "    act.columns = [\"Time\", \"Price\", \"Actual\", \"Opening Capacity\", \"Closing Capacity\"] # Rename columns\n",
    "    act[\"Time\"] = pd.to_datetime(df[\"Time\"]) # Convert data type\n",
    "    act = act.sort_values(\"Time\").reset_index(drop = True) # Finalise\n",
    "    act[\"Restrict\"] = - np.where(act[\"Actual\"] <= 0, act[\"Actual\"] * 0.9, act[\"Actual\"] / 0.9)\n",
    "    act[\"Status\"] = np.where(act[\"Actual\"] < 0, \"Charge\", np.where(act[\"Actual\"] > 0, \"Discharge\", \"Do Nothing\"))\n",
    "\n",
    "    sim = pd.merge(df[\"Time\"], act.drop(\"Time\", axis = 1), left_index = True, right_index = True)\n",
    "\n",
    "    return sim"
   ]
  },
  {
   "cell_type": "code",
   "execution_count": 6,
   "id": "725bcdf2",
   "metadata": {},
   "outputs": [],
   "source": [
    "def TopBun(df, n = 17):\n",
    "    Model = MovingAverage(n, df) # Moving Average\n",
    "    Model = Maximisation(Model, df) # Region Maximisation\n",
    "    Model = LossRemoval(Model) # Loss Removal\n",
    "    Model = Stationary(Model, df) # Stationary Maximisation\n",
    "    Model = ShiftAction(Model, df) # Action Shift\n",
    "    \n",
    "    return Model\n",
    "\n",
    "def Meat(df):\n",
    "    tmp = df.copy()\n",
    "    # Converting format\n",
    "    tmp = ConvertFormat_BunToMeat(tmp)\n",
    "    \n",
    "    # Get time period\n",
    "    time = pm.getTimePeriod(tmp)\n",
    "    \n",
    "    # Run Dependendy Optimisation Algorithm\n",
    "    tmp = pm.DependencyOptimisation(tmp, time) # PeriodOptimisation\n",
    "    \n",
    "    # Convert back format\n",
    "    tmp = ConvertFormat_MeatToBun(tmp, df)\n",
    "    \n",
    "    return tmp\n",
    "\n",
    "def LowerBun(Model, df):\n",
    "    \n",
    "    Model = Maximisation(Model, df = df, Chronos = False) # Region Maximisation\n",
    "    Model = Stationary(Model, df = df) # Stationary Maximisation\n",
    "    Model = ShiftAction(Model, df = df) # Action Shift\n",
    "\n",
    "    return Model\n",
    "\n",
    "def SandwichModel(original_data):\n",
    "    tmp = original_data.copy()\n",
    "    \n",
    "    start = time.time()\n",
    "    print(\"Calculating First Step\")\n",
    "    tmp = TopBun(tmp, n = 17)\n",
    "    first = time.time()\n",
    "    print(f\"It took {first - start} seconds for First Step\")\n",
    "    \n",
    "    print(\"#######################\\n\")\n",
    "    \n",
    "    print(\"Calculating Second Step\")\n",
    "    tmp = Meat(tmp)\n",
    "    second = time.time()\n",
    "    print(f\"It took {second - first} seconds for Second Step\")\n",
    "    \n",
    "    print(\"#######################\\n\")\n",
    "    \n",
    "    print(\"Calculating Final Step\")\n",
    "    tmp = LowerBun(tmp, original_data)\n",
    "    third = time.time()\n",
    "    print(f\"It took {third - second} seconds for Third Step\")\n",
    "    total = time.time()\n",
    "    \n",
    "    print(\"#######################\\n\")\n",
    "    \n",
    "    print(f\"In total cooking time took {total - start} seconds\")\n",
    "    tmp = ConvertFormat_BunToMeat(tmp)\n",
    "    return tmp"
   ]
  }
 ],
 "metadata": {
  "kernelspec": {
   "display_name": "Python 3 (ipykernel)",
   "language": "python",
   "name": "python3"
  },
  "language_info": {
   "codemirror_mode": {
    "name": "ipython",
    "version": 3
   },
   "file_extension": ".py",
   "mimetype": "text/x-python",
   "name": "python",
   "nbconvert_exporter": "python",
   "pygments_lexer": "ipython3",
   "version": "3.9.5"
  },
  "varInspector": {
   "cols": {
    "lenName": 16,
    "lenType": 16,
    "lenVar": 40
   },
   "kernels_config": {
    "python": {
     "delete_cmd_postfix": "",
     "delete_cmd_prefix": "del ",
     "library": "var_list.py",
     "varRefreshCmd": "print(var_dic_list())"
    },
    "r": {
     "delete_cmd_postfix": ") ",
     "delete_cmd_prefix": "rm(",
     "library": "var_list.r",
     "varRefreshCmd": "cat(var_dic_list()) "
    }
   },
   "types_to_exclude": [
    "module",
    "function",
    "builtin_function_or_method",
    "instance",
    "_Feature"
   ],
   "window_display": false
  }
 },
 "nbformat": 4,
 "nbformat_minor": 5
}
