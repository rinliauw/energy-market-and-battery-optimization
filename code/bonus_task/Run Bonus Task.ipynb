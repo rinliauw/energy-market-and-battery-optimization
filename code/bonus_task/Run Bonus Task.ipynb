{
 "cells": [
  {
   "cell_type": "code",
   "execution_count": 1,
   "id": "3101a7db",
   "metadata": {
    "scrolled": false
   },
   "outputs": [],
   "source": [
    "# This notebook is to run the predicted price using VAR Model on the mandatory task's algorithm.\n",
    "# First, we run mandatory task algorithm\n",
    "%run OptimisationAlg.ipynb"
   ]
  },
  {
   "cell_type": "markdown",
   "id": "7123bd43",
   "metadata": {},
   "source": [
    "# <font color = 'brown'> Bonus Task (On Test Period)</font>\n"
   ]
  },
  {
   "cell_type": "markdown",
   "id": "e611a547",
   "metadata": {},
   "source": [
    "Below, we are running the main task's algorithms on test period based on:\n",
    "1. Actual Price\n",
    "2. Predicted Price using Vector Auto-Regression\n",
    "3. Predicted Price using ARMA"
   ]
  },
  {
   "cell_type": "code",
   "execution_count": 15,
   "id": "7153479e",
   "metadata": {},
   "outputs": [],
   "source": [
    "# Obtain the actual price\n",
    "df = pd.read_excel('../../preprocessed_data/testing_data.xlsx')"
   ]
  },
  {
   "cell_type": "code",
   "execution_count": 18,
   "id": "c78c1cd1",
   "metadata": {},
   "outputs": [],
   "source": [
    "actual_price = df['Regions VIC Trading Price ($/MWh)']"
   ]
  },
  {
   "cell_type": "markdown",
   "id": "767192c2",
   "metadata": {},
   "source": [
    "## <font color = 'brown'>2. Predicted Price on VAR</font>"
   ]
  },
  {
   "cell_type": "code",
   "execution_count": 24,
   "id": "e87e13ad",
   "metadata": {},
   "outputs": [],
   "source": [
    "# Read file\n",
    "df_VAR = pd.read_excel('../../prediction_data/VAR_predictions_log.xlsx')"
   ]
  },
  {
   "cell_type": "code",
   "execution_count": 25,
   "id": "fbdabbae",
   "metadata": {},
   "outputs": [],
   "source": [
    "df_VAR.columns = ['Time', 'Price']\n",
    "df_VAR['Time'] = pd.to_datetime(df_VAR['Time'])"
   ]
  },
  {
   "cell_type": "code",
   "execution_count": 26,
   "id": "21e20dbc",
   "metadata": {},
   "outputs": [],
   "source": [
    "time_t = df_VAR['Time']"
   ]
  },
  {
   "cell_type": "code",
   "execution_count": 27,
   "id": "fefb25c8",
   "metadata": {},
   "outputs": [
    {
     "data": {
      "text/html": [
       "<div>\n",
       "<style scoped>\n",
       "    .dataframe tbody tr th:only-of-type {\n",
       "        vertical-align: middle;\n",
       "    }\n",
       "\n",
       "    .dataframe tbody tr th {\n",
       "        vertical-align: top;\n",
       "    }\n",
       "\n",
       "    .dataframe thead th {\n",
       "        text-align: right;\n",
       "    }\n",
       "</style>\n",
       "<table border=\"1\" class=\"dataframe\">\n",
       "  <thead>\n",
       "    <tr style=\"text-align: right;\">\n",
       "      <th></th>\n",
       "      <th>Time</th>\n",
       "      <th>Price</th>\n",
       "    </tr>\n",
       "  </thead>\n",
       "  <tbody>\n",
       "    <tr>\n",
       "      <th>0</th>\n",
       "      <td>2021-07-01 00:30:00</td>\n",
       "      <td>45.901292</td>\n",
       "    </tr>\n",
       "    <tr>\n",
       "      <th>1</th>\n",
       "      <td>2021-07-01 01:00:00</td>\n",
       "      <td>64.415976</td>\n",
       "    </tr>\n",
       "    <tr>\n",
       "      <th>2</th>\n",
       "      <td>2021-07-01 01:30:00</td>\n",
       "      <td>67.715684</td>\n",
       "    </tr>\n",
       "    <tr>\n",
       "      <th>3</th>\n",
       "      <td>2021-07-01 02:00:00</td>\n",
       "      <td>43.141678</td>\n",
       "    </tr>\n",
       "    <tr>\n",
       "      <th>4</th>\n",
       "      <td>2021-07-01 02:30:00</td>\n",
       "      <td>39.571492</td>\n",
       "    </tr>\n",
       "    <tr>\n",
       "      <th>...</th>\n",
       "      <td>...</td>\n",
       "      <td>...</td>\n",
       "    </tr>\n",
       "    <tr>\n",
       "      <th>2155</th>\n",
       "      <td>2021-08-14 22:00:00</td>\n",
       "      <td>58.635315</td>\n",
       "    </tr>\n",
       "    <tr>\n",
       "      <th>2156</th>\n",
       "      <td>2021-08-14 22:30:00</td>\n",
       "      <td>52.664372</td>\n",
       "    </tr>\n",
       "    <tr>\n",
       "      <th>2157</th>\n",
       "      <td>2021-08-14 23:00:00</td>\n",
       "      <td>50.100266</td>\n",
       "    </tr>\n",
       "    <tr>\n",
       "      <th>2158</th>\n",
       "      <td>2021-08-14 23:30:00</td>\n",
       "      <td>41.263355</td>\n",
       "    </tr>\n",
       "    <tr>\n",
       "      <th>2159</th>\n",
       "      <td>2021-08-15 00:00:00</td>\n",
       "      <td>44.978704</td>\n",
       "    </tr>\n",
       "  </tbody>\n",
       "</table>\n",
       "<p>2160 rows × 2 columns</p>\n",
       "</div>"
      ],
      "text/plain": [
       "                    Time      Price\n",
       "0    2021-07-01 00:30:00  45.901292\n",
       "1    2021-07-01 01:00:00  64.415976\n",
       "2    2021-07-01 01:30:00  67.715684\n",
       "3    2021-07-01 02:00:00  43.141678\n",
       "4    2021-07-01 02:30:00  39.571492\n",
       "...                  ...        ...\n",
       "2155 2021-08-14 22:00:00  58.635315\n",
       "2156 2021-08-14 22:30:00  52.664372\n",
       "2157 2021-08-14 23:00:00  50.100266\n",
       "2158 2021-08-14 23:30:00  41.263355\n",
       "2159 2021-08-15 00:00:00  44.978704\n",
       "\n",
       "[2160 rows x 2 columns]"
      ]
     },
     "execution_count": 27,
     "metadata": {},
     "output_type": "execute_result"
    }
   ],
   "source": [
    "df_VAR"
   ]
  },
  {
   "cell_type": "code",
   "execution_count": 28,
   "id": "b2668b0b",
   "metadata": {},
   "outputs": [
    {
     "name": "stdout",
     "output_type": "stream",
     "text": [
      "Calculating First Step\n",
      "It took 5.232676267623901 seconds for First Step\n",
      "#######################\n",
      "\n",
      "Calculating Second Step\n",
      "It took 35.01722598075867 seconds for Second Step\n",
      "#######################\n",
      "\n",
      "Calculating Final Step\n",
      "It took 2.7998030185699463 seconds for Third Step\n",
      "#######################\n",
      "\n",
      "In total cooking time took 43.04984903335571 seconds\n"
     ]
    }
   ],
   "source": [
    "VAR_Prediction = SandwichModel(df_VAR)"
   ]
  },
  {
   "cell_type": "code",
   "execution_count": 29,
   "id": "400c4c28",
   "metadata": {},
   "outputs": [],
   "source": [
    "VAR_Prediction.to_excel('../../prediction_data/VAR_Prediction_MainModel.xlsx')"
   ]
  },
  {
   "cell_type": "code",
   "execution_count": 21,
   "id": "52aad85b",
   "metadata": {},
   "outputs": [],
   "source": [
    "# Calculate the revenue by replacing price with actual price\n",
    "VAR_Prediction['Price'] = actual_price"
   ]
  },
  {
   "cell_type": "code",
   "execution_count": 23,
   "id": "ddee62ef",
   "metadata": {},
   "outputs": [
    {
     "name": "stdout",
     "output_type": "stream",
     "text": [
      "Total Revenue for VAR model on training set is : 4681595.705736717\n"
     ]
    }
   ],
   "source": [
    "print(f\"Total Revenue for VAR model on training set is : {pm.computeRevenue(VAR_Prediction)}\")"
   ]
  },
  {
   "cell_type": "markdown",
   "id": "3a1ff377",
   "metadata": {},
   "source": [
    "## <font color = 'brown'>3. Predicted Price on ARMA</font>"
   ]
  },
  {
   "cell_type": "code",
   "execution_count": 30,
   "id": "58f24748",
   "metadata": {},
   "outputs": [],
   "source": [
    "# Preprocessing\n",
    "df_ARIMA = pd.read_excel('../../prediction_data/ARIMA_predictions.xlsx')\n",
    "df_ARIMA.columns = ['Actual Price', 'Predicted Price']\n",
    "df_ARIMA['Time'] = time_t"
   ]
  },
  {
   "cell_type": "code",
   "execution_count": 31,
   "id": "ecdc161c",
   "metadata": {},
   "outputs": [],
   "source": [
    "df_ARIMA = df_ARIMA[['Predicted Price', 'Time']]"
   ]
  },
  {
   "cell_type": "code",
   "execution_count": 32,
   "id": "abd63ef5",
   "metadata": {},
   "outputs": [],
   "source": [
    "df_ARIMA.columns = ['Price', 'Time']\n",
    "df_ARIMA['Time'] = df_ARIMA['Time'].astype('datetime64[ns]')\n",
    "df_ARIMA = df_ARIMA[['Time', 'Price']]"
   ]
  },
  {
   "cell_type": "code",
   "execution_count": 33,
   "id": "e569b72a",
   "metadata": {},
   "outputs": [],
   "source": [
    "df_ARIMA = df_ARIMA.loc[0:2159]"
   ]
  },
  {
   "cell_type": "code",
   "execution_count": 34,
   "id": "031cd958",
   "metadata": {},
   "outputs": [
    {
     "name": "stdout",
     "output_type": "stream",
     "text": [
      "Calculating First Step\n",
      "It took 7.520076751708984 seconds for First Step\n",
      "#######################\n",
      "\n",
      "Calculating Second Step\n",
      "It took 222.6300699710846 seconds for Second Step\n",
      "#######################\n",
      "\n",
      "Calculating Final Step\n",
      "It took 4.472929000854492 seconds for Third Step\n",
      "#######################\n",
      "\n",
      "In total cooking time took 234.6232898235321 seconds\n"
     ]
    }
   ],
   "source": [
    "# Run using mandatory task algorithm\n",
    "ARIMA_Prediction = SandwichModel(df_ARIMA)"
   ]
  },
  {
   "cell_type": "code",
   "execution_count": 35,
   "id": "0dbbaa6f",
   "metadata": {
    "scrolled": false
   },
   "outputs": [
    {
     "data": {
      "text/html": [
       "<div>\n",
       "<style scoped>\n",
       "    .dataframe tbody tr th:only-of-type {\n",
       "        vertical-align: middle;\n",
       "    }\n",
       "\n",
       "    .dataframe tbody tr th {\n",
       "        vertical-align: top;\n",
       "    }\n",
       "\n",
       "    .dataframe thead th {\n",
       "        text-align: right;\n",
       "    }\n",
       "</style>\n",
       "<table border=\"1\" class=\"dataframe\">\n",
       "  <thead>\n",
       "    <tr style=\"text-align: right;\">\n",
       "      <th></th>\n",
       "      <th>Time (UTC+10)</th>\n",
       "      <th>Regions VIC Trading Price ($/MWh)</th>\n",
       "      <th>Raw Power (MW)</th>\n",
       "      <th>Market Dispatch (MWh)</th>\n",
       "      <th>Opening Capacity (MWh)</th>\n",
       "      <th>Closing Capacity (MWh)</th>\n",
       "    </tr>\n",
       "  </thead>\n",
       "  <tbody>\n",
       "    <tr>\n",
       "      <th>0</th>\n",
       "      <td>2021-07-01 00:30:00</td>\n",
       "      <td>86.648190</td>\n",
       "      <td>-0.0</td>\n",
       "      <td>-0.0</td>\n",
       "      <td>0.0</td>\n",
       "      <td>0.0</td>\n",
       "    </tr>\n",
       "    <tr>\n",
       "      <th>1</th>\n",
       "      <td>2021-07-01 01:00:00</td>\n",
       "      <td>79.544752</td>\n",
       "      <td>-0.0</td>\n",
       "      <td>-0.0</td>\n",
       "      <td>0.0</td>\n",
       "      <td>0.0</td>\n",
       "    </tr>\n",
       "    <tr>\n",
       "      <th>2</th>\n",
       "      <td>2021-07-01 01:30:00</td>\n",
       "      <td>87.232014</td>\n",
       "      <td>-0.0</td>\n",
       "      <td>-0.0</td>\n",
       "      <td>0.0</td>\n",
       "      <td>0.0</td>\n",
       "    </tr>\n",
       "    <tr>\n",
       "      <th>3</th>\n",
       "      <td>2021-07-01 02:00:00</td>\n",
       "      <td>67.978892</td>\n",
       "      <td>-0.0</td>\n",
       "      <td>-0.0</td>\n",
       "      <td>0.0</td>\n",
       "      <td>0.0</td>\n",
       "    </tr>\n",
       "    <tr>\n",
       "      <th>4</th>\n",
       "      <td>2021-07-01 02:30:00</td>\n",
       "      <td>83.347320</td>\n",
       "      <td>-0.0</td>\n",
       "      <td>-0.0</td>\n",
       "      <td>0.0</td>\n",
       "      <td>0.0</td>\n",
       "    </tr>\n",
       "    <tr>\n",
       "      <th>...</th>\n",
       "      <td>...</td>\n",
       "      <td>...</td>\n",
       "      <td>...</td>\n",
       "      <td>...</td>\n",
       "      <td>...</td>\n",
       "      <td>...</td>\n",
       "    </tr>\n",
       "    <tr>\n",
       "      <th>2155</th>\n",
       "      <td>2021-08-14 22:00:00</td>\n",
       "      <td>135.088449</td>\n",
       "      <td>300.0</td>\n",
       "      <td>135.0</td>\n",
       "      <td>390.0</td>\n",
       "      <td>240.0</td>\n",
       "    </tr>\n",
       "    <tr>\n",
       "      <th>2156</th>\n",
       "      <td>2021-08-14 22:30:00</td>\n",
       "      <td>120.369142</td>\n",
       "      <td>300.0</td>\n",
       "      <td>135.0</td>\n",
       "      <td>240.0</td>\n",
       "      <td>90.0</td>\n",
       "    </tr>\n",
       "    <tr>\n",
       "      <th>2157</th>\n",
       "      <td>2021-08-14 23:00:00</td>\n",
       "      <td>108.510558</td>\n",
       "      <td>180.0</td>\n",
       "      <td>81.0</td>\n",
       "      <td>90.0</td>\n",
       "      <td>0.0</td>\n",
       "    </tr>\n",
       "    <tr>\n",
       "      <th>2158</th>\n",
       "      <td>2021-08-14 23:30:00</td>\n",
       "      <td>85.123126</td>\n",
       "      <td>-0.0</td>\n",
       "      <td>-0.0</td>\n",
       "      <td>0.0</td>\n",
       "      <td>0.0</td>\n",
       "    </tr>\n",
       "    <tr>\n",
       "      <th>2159</th>\n",
       "      <td>2021-08-15 00:00:00</td>\n",
       "      <td>45.348283</td>\n",
       "      <td>-0.0</td>\n",
       "      <td>-0.0</td>\n",
       "      <td>0.0</td>\n",
       "      <td>0.0</td>\n",
       "    </tr>\n",
       "  </tbody>\n",
       "</table>\n",
       "<p>2160 rows × 6 columns</p>\n",
       "</div>"
      ],
      "text/plain": [
       "           Time (UTC+10)  Regions VIC Trading Price ($/MWh)  Raw Power (MW)  \\\n",
       "0    2021-07-01 00:30:00                          86.648190            -0.0   \n",
       "1    2021-07-01 01:00:00                          79.544752            -0.0   \n",
       "2    2021-07-01 01:30:00                          87.232014            -0.0   \n",
       "3    2021-07-01 02:00:00                          67.978892            -0.0   \n",
       "4    2021-07-01 02:30:00                          83.347320            -0.0   \n",
       "...                  ...                                ...             ...   \n",
       "2155 2021-08-14 22:00:00                         135.088449           300.0   \n",
       "2156 2021-08-14 22:30:00                         120.369142           300.0   \n",
       "2157 2021-08-14 23:00:00                         108.510558           180.0   \n",
       "2158 2021-08-14 23:30:00                          85.123126            -0.0   \n",
       "2159 2021-08-15 00:00:00                          45.348283            -0.0   \n",
       "\n",
       "      Market Dispatch (MWh)  Opening Capacity (MWh)  Closing Capacity (MWh)  \n",
       "0                      -0.0                     0.0                     0.0  \n",
       "1                      -0.0                     0.0                     0.0  \n",
       "2                      -0.0                     0.0                     0.0  \n",
       "3                      -0.0                     0.0                     0.0  \n",
       "4                      -0.0                     0.0                     0.0  \n",
       "...                     ...                     ...                     ...  \n",
       "2155                  135.0                   390.0                   240.0  \n",
       "2156                  135.0                   240.0                    90.0  \n",
       "2157                   81.0                    90.0                     0.0  \n",
       "2158                   -0.0                     0.0                     0.0  \n",
       "2159                   -0.0                     0.0                     0.0  \n",
       "\n",
       "[2160 rows x 6 columns]"
      ]
     },
     "execution_count": 35,
     "metadata": {},
     "output_type": "execute_result"
    }
   ],
   "source": [
    "ARIMA_Prediction"
   ]
  },
  {
   "cell_type": "code",
   "execution_count": 36,
   "id": "25704038",
   "metadata": {},
   "outputs": [],
   "source": [
    "# Save\n",
    "ARIMA_Prediction.to_excel('../../prediction_data/ARIMA_Prediction_MainModel.xlsx')"
   ]
  },
  {
   "cell_type": "code",
   "execution_count": 37,
   "id": "ef5f2c88",
   "metadata": {},
   "outputs": [],
   "source": [
    "# Calculate the revenue by replacing price with actual price\n",
    "ARIMA_Prediction['Price'] = actual_price"
   ]
  },
  {
   "cell_type": "code",
   "execution_count": 38,
   "id": "06184887",
   "metadata": {},
   "outputs": [
    {
     "name": "stdout",
     "output_type": "stream",
     "text": [
      "Total Revenue for ARIMA model on training set is : 6421582.014186269\n"
     ]
    }
   ],
   "source": [
    "print(f\"Total Revenue for ARIMA model on training set is : {pm.computeRevenue(ARIMA_Prediction)}\")"
   ]
  }
 ],
 "metadata": {
  "kernelspec": {
   "display_name": "Python 3",
   "language": "python",
   "name": "python3"
  },
  "language_info": {
   "codemirror_mode": {
    "name": "ipython",
    "version": 3
   },
   "file_extension": ".py",
   "mimetype": "text/x-python",
   "name": "python",
   "nbconvert_exporter": "python",
   "pygments_lexer": "ipython3",
   "version": "3.7.11"
  },
  "varInspector": {
   "cols": {
    "lenName": 16,
    "lenType": 16,
    "lenVar": 40
   },
   "kernels_config": {
    "python": {
     "delete_cmd_postfix": "",
     "delete_cmd_prefix": "del ",
     "library": "var_list.py",
     "varRefreshCmd": "print(var_dic_list())"
    },
    "r": {
     "delete_cmd_postfix": ") ",
     "delete_cmd_prefix": "rm(",
     "library": "var_list.r",
     "varRefreshCmd": "cat(var_dic_list()) "
    }
   },
   "types_to_exclude": [
    "module",
    "function",
    "builtin_function_or_method",
    "instance",
    "_Feature"
   ],
   "window_display": false
  }
 },
 "nbformat": 4,
 "nbformat_minor": 5
}
