{
 "cells": [
  {
   "cell_type": "code",
   "execution_count": 19,
   "id": "3101a7db",
   "metadata": {
    "scrolled": false
   },
   "outputs": [],
   "source": [
    "# This notebook is to run the predicted price using VAR Model on the mandatory task's algorithm.\n",
    "# First, we run mandatory task algorithm\n",
    "%run ../mandatory_task/MiniModels.ipynb"
   ]
  },
  {
   "cell_type": "markdown",
   "id": "7123bd43",
   "metadata": {},
   "source": [
    "# <font color = 'brown'> Bonus Task (On Test Period)</font>\n"
   ]
  },
  {
   "cell_type": "markdown",
   "id": "e611a547",
   "metadata": {},
   "source": [
    "Below, we are running the main task's algorithms on test period based on:\n",
    "1. Actual Price\n",
    "2. Predicted Price using Vector Auto-Regression\n",
    "3. Predicted Price using ARMA"
   ]
  },
  {
   "cell_type": "markdown",
   "id": "be531db9",
   "metadata": {},
   "source": [
    "## <font color = 'brown'> 1. Actual Price</font>"
   ]
  },
  {
   "cell_type": "code",
   "execution_count": 20,
   "id": "236b79be",
   "metadata": {},
   "outputs": [],
   "source": [
    "test_start_period = '2021-07-01 00:00:00'\n",
    "test_end_period   = '2021-08-15 23:30:00'\n",
    "\n",
    "df_test = df[(df['Time'] >= test_start_period) & (df['Time'] <= test_end_period)]"
   ]
  },
  {
   "cell_type": "code",
   "execution_count": 21,
   "id": "8682d7b6",
   "metadata": {},
   "outputs": [],
   "source": [
    "actual_price = df_test['Price'].reset_index(drop = True)"
   ]
  },
  {
   "cell_type": "code",
   "execution_count": 22,
   "id": "6da170f1",
   "metadata": {},
   "outputs": [],
   "source": [
    "# Run on the main model\n",
    "Test_Prediction = main(n = 17, df = df_test)"
   ]
  },
  {
   "cell_type": "code",
   "execution_count": null,
   "id": "c75f7382",
   "metadata": {},
   "outputs": [],
   "source": [
    "# Add sandwich model"
   ]
  },
  {
   "cell_type": "code",
   "execution_count": 23,
   "id": "ed398adb",
   "metadata": {
    "scrolled": true
   },
   "outputs": [
    {
     "data": {
      "text/plain": [
       "5860635.067351179"
      ]
     },
     "execution_count": 23,
     "metadata": {},
     "output_type": "execute_result"
    }
   ],
   "source": [
    "CalculateRevenue(Test_Prediction)"
   ]
  },
  {
   "cell_type": "code",
   "execution_count": 91,
   "id": "73d7f54e",
   "metadata": {},
   "outputs": [],
   "source": [
    "Test_Prediction.to_excel('../../preprocessed_data/Mandatory_Test_MainModel.xlsx')"
   ]
  },
  {
   "cell_type": "markdown",
   "id": "767192c2",
   "metadata": {},
   "source": [
    "## <font color = 'brown'>2. Predicted Price on VAR</font>"
   ]
  },
  {
   "cell_type": "code",
   "execution_count": 24,
   "id": "e87e13ad",
   "metadata": {},
   "outputs": [],
   "source": [
    "# Read file\n",
    "df_VAR = pd.read_excel('../../prediction_data/VAR_predictions_log.xlsx')"
   ]
  },
  {
   "cell_type": "code",
   "execution_count": 25,
   "id": "fbdabbae",
   "metadata": {},
   "outputs": [],
   "source": [
    "df_VAR.columns = ['Time', 'Price']\n",
    "df_VAR['Time'] = df_VAR['Time'].astype('datetime64[ns]')"
   ]
  },
  {
   "cell_type": "code",
   "execution_count": 26,
   "id": "21e20dbc",
   "metadata": {},
   "outputs": [],
   "source": [
    "time = df_VAR['Time']"
   ]
  },
  {
   "cell_type": "code",
   "execution_count": 27,
   "id": "0d72f202",
   "metadata": {},
   "outputs": [],
   "source": [
    "# MA = MovingAverage(17, df = df_VAR)\n",
    "# RM = Maximisation(MA, df = df_VAR)\n",
    "# LR = LossRemoval(RM)\n",
    "# SM = Stationary(LR, df = df_VAR)\n",
    "# SA = ShiftAction(SM)"
   ]
  },
  {
   "cell_type": "code",
   "execution_count": 29,
   "id": "2b955a03",
   "metadata": {
    "scrolled": true
   },
   "outputs": [],
   "source": [
    "# Running mandatory task's algorithm using predicted price\n",
    "VAR_Prediction = main(n = 17, df = df_VAR)"
   ]
  },
  {
   "cell_type": "code",
   "execution_count": 30,
   "id": "cf931b52",
   "metadata": {},
   "outputs": [
    {
     "data": {
      "text/html": [
       "<div>\n",
       "<style scoped>\n",
       "    .dataframe tbody tr th:only-of-type {\n",
       "        vertical-align: middle;\n",
       "    }\n",
       "\n",
       "    .dataframe tbody tr th {\n",
       "        vertical-align: top;\n",
       "    }\n",
       "\n",
       "    .dataframe thead th {\n",
       "        text-align: right;\n",
       "    }\n",
       "</style>\n",
       "<table border=\"1\" class=\"dataframe\">\n",
       "  <thead>\n",
       "    <tr style=\"text-align: right;\">\n",
       "      <th></th>\n",
       "      <th>Time</th>\n",
       "      <th>Price</th>\n",
       "      <th>Status</th>\n",
       "      <th>Actual</th>\n",
       "      <th>Restrict</th>\n",
       "      <th>Opening Capacity</th>\n",
       "      <th>Closing Capacity</th>\n",
       "      <th>Period</th>\n",
       "      <th>ROCNACharge</th>\n",
       "      <th>ROCNADischarge</th>\n",
       "      <th>Shift</th>\n",
       "    </tr>\n",
       "  </thead>\n",
       "  <tbody>\n",
       "    <tr>\n",
       "      <th>0</th>\n",
       "      <td>2021-07-01 00:30:00</td>\n",
       "      <td>45.901292</td>\n",
       "      <td>Charge</td>\n",
       "      <td>-150.0</td>\n",
       "      <td>135.0</td>\n",
       "      <td>0.0</td>\n",
       "      <td>135.0</td>\n",
       "      <td>1</td>\n",
       "      <td>1.0</td>\n",
       "      <td>NaN</td>\n",
       "      <td>False</td>\n",
       "    </tr>\n",
       "    <tr>\n",
       "      <th>1</th>\n",
       "      <td>2021-07-01 01:00:00</td>\n",
       "      <td>64.415976</td>\n",
       "      <td>Do Nothing</td>\n",
       "      <td>-0.0</td>\n",
       "      <td>0.0</td>\n",
       "      <td>135.0</td>\n",
       "      <td>135.0</td>\n",
       "      <td>2</td>\n",
       "      <td>NaN</td>\n",
       "      <td>1.0</td>\n",
       "      <td>True</td>\n",
       "    </tr>\n",
       "    <tr>\n",
       "      <th>2</th>\n",
       "      <td>2021-07-01 01:30:00</td>\n",
       "      <td>67.715684</td>\n",
       "      <td>Discharge</td>\n",
       "      <td>121.5</td>\n",
       "      <td>-135.0</td>\n",
       "      <td>135.0</td>\n",
       "      <td>0.0</td>\n",
       "      <td>3</td>\n",
       "      <td>2.0</td>\n",
       "      <td>1.0</td>\n",
       "      <td>True</td>\n",
       "    </tr>\n",
       "    <tr>\n",
       "      <th>3</th>\n",
       "      <td>2021-07-01 02:00:00</td>\n",
       "      <td>43.141678</td>\n",
       "      <td>Do Nothing</td>\n",
       "      <td>-0.0</td>\n",
       "      <td>0.0</td>\n",
       "      <td>0.0</td>\n",
       "      <td>0.0</td>\n",
       "      <td>3</td>\n",
       "      <td>2.0</td>\n",
       "      <td>1.0</td>\n",
       "      <td>True</td>\n",
       "    </tr>\n",
       "    <tr>\n",
       "      <th>4</th>\n",
       "      <td>2021-07-01 02:30:00</td>\n",
       "      <td>39.571492</td>\n",
       "      <td>Do Nothing</td>\n",
       "      <td>-0.0</td>\n",
       "      <td>0.0</td>\n",
       "      <td>0.0</td>\n",
       "      <td>0.0</td>\n",
       "      <td>3</td>\n",
       "      <td>2.0</td>\n",
       "      <td>1.0</td>\n",
       "      <td>True</td>\n",
       "    </tr>\n",
       "    <tr>\n",
       "      <th>...</th>\n",
       "      <td>...</td>\n",
       "      <td>...</td>\n",
       "      <td>...</td>\n",
       "      <td>...</td>\n",
       "      <td>...</td>\n",
       "      <td>...</td>\n",
       "      <td>...</td>\n",
       "      <td>...</td>\n",
       "      <td>...</td>\n",
       "      <td>...</td>\n",
       "      <td>...</td>\n",
       "    </tr>\n",
       "    <tr>\n",
       "      <th>2155</th>\n",
       "      <td>2021-08-14 22:00:00</td>\n",
       "      <td>58.635315</td>\n",
       "      <td>Do Nothing</td>\n",
       "      <td>-0.0</td>\n",
       "      <td>0.0</td>\n",
       "      <td>580.0</td>\n",
       "      <td>580.0</td>\n",
       "      <td>782</td>\n",
       "      <td>166.0</td>\n",
       "      <td>NaN</td>\n",
       "      <td>False</td>\n",
       "    </tr>\n",
       "    <tr>\n",
       "      <th>2156</th>\n",
       "      <td>2021-08-14 22:30:00</td>\n",
       "      <td>52.664372</td>\n",
       "      <td>Do Nothing</td>\n",
       "      <td>-0.0</td>\n",
       "      <td>0.0</td>\n",
       "      <td>580.0</td>\n",
       "      <td>580.0</td>\n",
       "      <td>782</td>\n",
       "      <td>166.0</td>\n",
       "      <td>NaN</td>\n",
       "      <td>False</td>\n",
       "    </tr>\n",
       "    <tr>\n",
       "      <th>2157</th>\n",
       "      <td>2021-08-14 23:00:00</td>\n",
       "      <td>50.100266</td>\n",
       "      <td>Do Nothing</td>\n",
       "      <td>-0.0</td>\n",
       "      <td>0.0</td>\n",
       "      <td>580.0</td>\n",
       "      <td>580.0</td>\n",
       "      <td>782</td>\n",
       "      <td>166.0</td>\n",
       "      <td>NaN</td>\n",
       "      <td>False</td>\n",
       "    </tr>\n",
       "    <tr>\n",
       "      <th>2158</th>\n",
       "      <td>2021-08-14 23:30:00</td>\n",
       "      <td>41.263355</td>\n",
       "      <td>Do Nothing</td>\n",
       "      <td>-0.0</td>\n",
       "      <td>0.0</td>\n",
       "      <td>580.0</td>\n",
       "      <td>580.0</td>\n",
       "      <td>782</td>\n",
       "      <td>166.0</td>\n",
       "      <td>NaN</td>\n",
       "      <td>False</td>\n",
       "    </tr>\n",
       "    <tr>\n",
       "      <th>2159</th>\n",
       "      <td>2021-08-15 00:00:00</td>\n",
       "      <td>44.978704</td>\n",
       "      <td>Do Nothing</td>\n",
       "      <td>-0.0</td>\n",
       "      <td>0.0</td>\n",
       "      <td>580.0</td>\n",
       "      <td>580.0</td>\n",
       "      <td>782</td>\n",
       "      <td>166.0</td>\n",
       "      <td>NaN</td>\n",
       "      <td>False</td>\n",
       "    </tr>\n",
       "  </tbody>\n",
       "</table>\n",
       "<p>2160 rows × 11 columns</p>\n",
       "</div>"
      ],
      "text/plain": [
       "                    Time      Price      Status  Actual  Restrict  \\\n",
       "0    2021-07-01 00:30:00  45.901292      Charge  -150.0     135.0   \n",
       "1    2021-07-01 01:00:00  64.415976  Do Nothing    -0.0       0.0   \n",
       "2    2021-07-01 01:30:00  67.715684   Discharge   121.5    -135.0   \n",
       "3    2021-07-01 02:00:00  43.141678  Do Nothing    -0.0       0.0   \n",
       "4    2021-07-01 02:30:00  39.571492  Do Nothing    -0.0       0.0   \n",
       "...                  ...        ...         ...     ...       ...   \n",
       "2155 2021-08-14 22:00:00  58.635315  Do Nothing    -0.0       0.0   \n",
       "2156 2021-08-14 22:30:00  52.664372  Do Nothing    -0.0       0.0   \n",
       "2157 2021-08-14 23:00:00  50.100266  Do Nothing    -0.0       0.0   \n",
       "2158 2021-08-14 23:30:00  41.263355  Do Nothing    -0.0       0.0   \n",
       "2159 2021-08-15 00:00:00  44.978704  Do Nothing    -0.0       0.0   \n",
       "\n",
       "      Opening Capacity  Closing Capacity  Period  ROCNACharge  ROCNADischarge  \\\n",
       "0                  0.0             135.0       1          1.0             NaN   \n",
       "1                135.0             135.0       2          NaN             1.0   \n",
       "2                135.0               0.0       3          2.0             1.0   \n",
       "3                  0.0               0.0       3          2.0             1.0   \n",
       "4                  0.0               0.0       3          2.0             1.0   \n",
       "...                ...               ...     ...          ...             ...   \n",
       "2155             580.0             580.0     782        166.0             NaN   \n",
       "2156             580.0             580.0     782        166.0             NaN   \n",
       "2157             580.0             580.0     782        166.0             NaN   \n",
       "2158             580.0             580.0     782        166.0             NaN   \n",
       "2159             580.0             580.0     782        166.0             NaN   \n",
       "\n",
       "      Shift  \n",
       "0     False  \n",
       "1      True  \n",
       "2      True  \n",
       "3      True  \n",
       "4      True  \n",
       "...     ...  \n",
       "2155  False  \n",
       "2156  False  \n",
       "2157  False  \n",
       "2158  False  \n",
       "2159  False  \n",
       "\n",
       "[2160 rows x 11 columns]"
      ]
     },
     "execution_count": 30,
     "metadata": {},
     "output_type": "execute_result"
    }
   ],
   "source": [
    "VAR_Prediction"
   ]
  },
  {
   "cell_type": "code",
   "execution_count": 82,
   "id": "52aad85b",
   "metadata": {},
   "outputs": [],
   "source": [
    "# Uncomment this if we are only using MainModel\n",
    "#VAR_Prediction['Price'] = actual_price"
   ]
  },
  {
   "cell_type": "code",
   "execution_count": 83,
   "id": "ddee62ef",
   "metadata": {},
   "outputs": [
    {
     "data": {
      "text/plain": [
       "4432015.445977503"
      ]
     },
     "execution_count": 83,
     "metadata": {},
     "output_type": "execute_result"
    }
   ],
   "source": [
    "# CalculateRevenue(VAR_Prediction)"
   ]
  },
  {
   "cell_type": "code",
   "execution_count": 31,
   "id": "400c4c28",
   "metadata": {},
   "outputs": [],
   "source": [
    "# Save -> to be sent to gil\n",
    "VAR_Prediction.to_excel('../../prediction_data/VAR_Prediction_MainModel.xlsx')"
   ]
  },
  {
   "cell_type": "markdown",
   "id": "3a1ff377",
   "metadata": {},
   "source": [
    "## <font color = 'brown'>3. Predicted Price on ARMA</font>"
   ]
  },
  {
   "cell_type": "code",
   "execution_count": 35,
   "id": "58f24748",
   "metadata": {},
   "outputs": [],
   "source": [
    "# Preprocessing\n",
    "df_ARIMA = pd.read_excel('../../prediction_data/ARIMA_predictions.xlsx')\n",
    "df_ARIMA.columns = ['Actual Price', 'Predicted Price']\n",
    "df_ARIMA['Time'] = time"
   ]
  },
  {
   "cell_type": "code",
   "execution_count": 36,
   "id": "ecdc161c",
   "metadata": {},
   "outputs": [],
   "source": [
    "df_ARIMA = df_ARIMA[['Predicted Price', 'Time']]"
   ]
  },
  {
   "cell_type": "code",
   "execution_count": 37,
   "id": "abd63ef5",
   "metadata": {},
   "outputs": [],
   "source": [
    "df_ARIMA.columns = ['Price', 'Time']\n",
    "df_ARIMA['Time'] = df_ARIMA['Time'].astype('datetime64[ns]')\n",
    "df_ARIMA = df_ARIMA[['Time', 'Price']]"
   ]
  },
  {
   "cell_type": "code",
   "execution_count": 38,
   "id": "7d4111f2",
   "metadata": {},
   "outputs": [],
   "source": [
    "ARIMA_Prediction = main(n = 17, df = df_ARIMA)"
   ]
  },
  {
   "cell_type": "code",
   "execution_count": 39,
   "id": "0dbbaa6f",
   "metadata": {
    "scrolled": false
   },
   "outputs": [
    {
     "data": {
      "text/html": [
       "<div>\n",
       "<style scoped>\n",
       "    .dataframe tbody tr th:only-of-type {\n",
       "        vertical-align: middle;\n",
       "    }\n",
       "\n",
       "    .dataframe tbody tr th {\n",
       "        vertical-align: top;\n",
       "    }\n",
       "\n",
       "    .dataframe thead th {\n",
       "        text-align: right;\n",
       "    }\n",
       "</style>\n",
       "<table border=\"1\" class=\"dataframe\">\n",
       "  <thead>\n",
       "    <tr style=\"text-align: right;\">\n",
       "      <th></th>\n",
       "      <th>Time</th>\n",
       "      <th>Price</th>\n",
       "      <th>Status</th>\n",
       "      <th>Actual</th>\n",
       "      <th>Restrict</th>\n",
       "      <th>Opening Capacity</th>\n",
       "      <th>Closing Capacity</th>\n",
       "      <th>Period</th>\n",
       "      <th>ROCNACharge</th>\n",
       "      <th>ROCNADischarge</th>\n",
       "      <th>Shift</th>\n",
       "    </tr>\n",
       "  </thead>\n",
       "  <tbody>\n",
       "    <tr>\n",
       "      <th>0</th>\n",
       "      <td>2021-07-01 00:30:00</td>\n",
       "      <td>86.648190</td>\n",
       "      <td>Do Nothing</td>\n",
       "      <td>-0.0</td>\n",
       "      <td>0.0</td>\n",
       "      <td>0.0</td>\n",
       "      <td>0.0</td>\n",
       "      <td>1</td>\n",
       "      <td>1.0</td>\n",
       "      <td>NaN</td>\n",
       "      <td>True</td>\n",
       "    </tr>\n",
       "    <tr>\n",
       "      <th>1</th>\n",
       "      <td>2021-07-01 01:00:00</td>\n",
       "      <td>79.544752</td>\n",
       "      <td>Do Nothing</td>\n",
       "      <td>-0.0</td>\n",
       "      <td>0.0</td>\n",
       "      <td>0.0</td>\n",
       "      <td>0.0</td>\n",
       "      <td>1</td>\n",
       "      <td>1.0</td>\n",
       "      <td>NaN</td>\n",
       "      <td>True</td>\n",
       "    </tr>\n",
       "    <tr>\n",
       "      <th>2</th>\n",
       "      <td>2021-07-01 01:30:00</td>\n",
       "      <td>87.232014</td>\n",
       "      <td>Do Nothing</td>\n",
       "      <td>-0.0</td>\n",
       "      <td>0.0</td>\n",
       "      <td>0.0</td>\n",
       "      <td>0.0</td>\n",
       "      <td>1</td>\n",
       "      <td>1.0</td>\n",
       "      <td>NaN</td>\n",
       "      <td>True</td>\n",
       "    </tr>\n",
       "    <tr>\n",
       "      <th>3</th>\n",
       "      <td>2021-07-01 02:00:00</td>\n",
       "      <td>67.978892</td>\n",
       "      <td>Do Nothing</td>\n",
       "      <td>-0.0</td>\n",
       "      <td>0.0</td>\n",
       "      <td>0.0</td>\n",
       "      <td>0.0</td>\n",
       "      <td>1</td>\n",
       "      <td>1.0</td>\n",
       "      <td>NaN</td>\n",
       "      <td>True</td>\n",
       "    </tr>\n",
       "    <tr>\n",
       "      <th>4</th>\n",
       "      <td>2021-07-01 02:30:00</td>\n",
       "      <td>83.347320</td>\n",
       "      <td>Do Nothing</td>\n",
       "      <td>-0.0</td>\n",
       "      <td>0.0</td>\n",
       "      <td>0.0</td>\n",
       "      <td>0.0</td>\n",
       "      <td>1</td>\n",
       "      <td>1.0</td>\n",
       "      <td>NaN</td>\n",
       "      <td>True</td>\n",
       "    </tr>\n",
       "    <tr>\n",
       "      <th>...</th>\n",
       "      <td>...</td>\n",
       "      <td>...</td>\n",
       "      <td>...</td>\n",
       "      <td>...</td>\n",
       "      <td>...</td>\n",
       "      <td>...</td>\n",
       "      <td>...</td>\n",
       "      <td>...</td>\n",
       "      <td>...</td>\n",
       "      <td>...</td>\n",
       "      <td>...</td>\n",
       "    </tr>\n",
       "    <tr>\n",
       "      <th>2156</th>\n",
       "      <td>2021-08-14 22:30:00</td>\n",
       "      <td>120.369142</td>\n",
       "      <td>Do Nothing</td>\n",
       "      <td>-0.0</td>\n",
       "      <td>0.0</td>\n",
       "      <td>580.0</td>\n",
       "      <td>580.0</td>\n",
       "      <td>1209</td>\n",
       "      <td>309.0</td>\n",
       "      <td>NaN</td>\n",
       "      <td>False</td>\n",
       "    </tr>\n",
       "    <tr>\n",
       "      <th>2157</th>\n",
       "      <td>2021-08-14 23:00:00</td>\n",
       "      <td>108.510558</td>\n",
       "      <td>Do Nothing</td>\n",
       "      <td>-0.0</td>\n",
       "      <td>0.0</td>\n",
       "      <td>580.0</td>\n",
       "      <td>580.0</td>\n",
       "      <td>1209</td>\n",
       "      <td>309.0</td>\n",
       "      <td>NaN</td>\n",
       "      <td>False</td>\n",
       "    </tr>\n",
       "    <tr>\n",
       "      <th>2158</th>\n",
       "      <td>2021-08-14 23:30:00</td>\n",
       "      <td>85.123126</td>\n",
       "      <td>Do Nothing</td>\n",
       "      <td>-0.0</td>\n",
       "      <td>0.0</td>\n",
       "      <td>580.0</td>\n",
       "      <td>580.0</td>\n",
       "      <td>1209</td>\n",
       "      <td>309.0</td>\n",
       "      <td>NaN</td>\n",
       "      <td>False</td>\n",
       "    </tr>\n",
       "    <tr>\n",
       "      <th>2159</th>\n",
       "      <td>2021-08-15 00:00:00</td>\n",
       "      <td>45.348283</td>\n",
       "      <td>Do Nothing</td>\n",
       "      <td>-0.0</td>\n",
       "      <td>0.0</td>\n",
       "      <td>580.0</td>\n",
       "      <td>580.0</td>\n",
       "      <td>1209</td>\n",
       "      <td>309.0</td>\n",
       "      <td>NaN</td>\n",
       "      <td>False</td>\n",
       "    </tr>\n",
       "    <tr>\n",
       "      <th>2160</th>\n",
       "      <td>NaT</td>\n",
       "      <td>45.342830</td>\n",
       "      <td>Do Nothing</td>\n",
       "      <td>-0.0</td>\n",
       "      <td>0.0</td>\n",
       "      <td>580.0</td>\n",
       "      <td>580.0</td>\n",
       "      <td>1209</td>\n",
       "      <td>309.0</td>\n",
       "      <td>NaN</td>\n",
       "      <td>False</td>\n",
       "    </tr>\n",
       "  </tbody>\n",
       "</table>\n",
       "<p>2161 rows × 11 columns</p>\n",
       "</div>"
      ],
      "text/plain": [
       "                    Time       Price      Status  Actual  Restrict  \\\n",
       "0    2021-07-01 00:30:00   86.648190  Do Nothing    -0.0       0.0   \n",
       "1    2021-07-01 01:00:00   79.544752  Do Nothing    -0.0       0.0   \n",
       "2    2021-07-01 01:30:00   87.232014  Do Nothing    -0.0       0.0   \n",
       "3    2021-07-01 02:00:00   67.978892  Do Nothing    -0.0       0.0   \n",
       "4    2021-07-01 02:30:00   83.347320  Do Nothing    -0.0       0.0   \n",
       "...                  ...         ...         ...     ...       ...   \n",
       "2156 2021-08-14 22:30:00  120.369142  Do Nothing    -0.0       0.0   \n",
       "2157 2021-08-14 23:00:00  108.510558  Do Nothing    -0.0       0.0   \n",
       "2158 2021-08-14 23:30:00   85.123126  Do Nothing    -0.0       0.0   \n",
       "2159 2021-08-15 00:00:00   45.348283  Do Nothing    -0.0       0.0   \n",
       "2160                 NaT   45.342830  Do Nothing    -0.0       0.0   \n",
       "\n",
       "      Opening Capacity  Closing Capacity  Period  ROCNACharge  ROCNADischarge  \\\n",
       "0                  0.0               0.0       1          1.0             NaN   \n",
       "1                  0.0               0.0       1          1.0             NaN   \n",
       "2                  0.0               0.0       1          1.0             NaN   \n",
       "3                  0.0               0.0       1          1.0             NaN   \n",
       "4                  0.0               0.0       1          1.0             NaN   \n",
       "...                ...               ...     ...          ...             ...   \n",
       "2156             580.0             580.0    1209        309.0             NaN   \n",
       "2157             580.0             580.0    1209        309.0             NaN   \n",
       "2158             580.0             580.0    1209        309.0             NaN   \n",
       "2159             580.0             580.0    1209        309.0             NaN   \n",
       "2160             580.0             580.0    1209        309.0             NaN   \n",
       "\n",
       "      Shift  \n",
       "0      True  \n",
       "1      True  \n",
       "2      True  \n",
       "3      True  \n",
       "4      True  \n",
       "...     ...  \n",
       "2156  False  \n",
       "2157  False  \n",
       "2158  False  \n",
       "2159  False  \n",
       "2160  False  \n",
       "\n",
       "[2161 rows x 11 columns]"
      ]
     },
     "execution_count": 39,
     "metadata": {},
     "output_type": "execute_result"
    }
   ],
   "source": [
    "ARIMA_Prediction"
   ]
  },
  {
   "cell_type": "code",
   "execution_count": 59,
   "id": "25704038",
   "metadata": {},
   "outputs": [],
   "source": [
    "# Save\n",
    "ARIMA_Prediction.to_excel('../../prediction_data/ARIMA_Prediction_MainModel.xlsx')"
   ]
  }
 ],
 "metadata": {
  "kernelspec": {
   "display_name": "Python 3",
   "language": "python",
   "name": "python3"
  },
  "language_info": {
   "codemirror_mode": {
    "name": "ipython",
    "version": 3
   },
   "file_extension": ".py",
   "mimetype": "text/x-python",
   "name": "python",
   "nbconvert_exporter": "python",
   "pygments_lexer": "ipython3",
   "version": "3.7.11"
  }
 },
 "nbformat": 4,
 "nbformat_minor": 5
}
