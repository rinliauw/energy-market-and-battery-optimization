{
 "cells": [
  {
   "cell_type": "code",
   "execution_count": 1,
   "id": "3101a7db",
   "metadata": {
    "scrolled": false
   },
   "outputs": [],
   "source": [
    "# This notebook is to run the predicted price using VAR Model on the mandatory task's algorithm.\n",
    "# First, we run mandatory task algorithm\n",
    "%run OptimisationAlg.ipynb"
   ]
  },
  {
   "cell_type": "markdown",
   "id": "7123bd43",
   "metadata": {},
   "source": [
    "# <font color = 'brown'> Bonus Task (On Test Period)</font>\n"
   ]
  },
  {
   "cell_type": "markdown",
   "id": "e611a547",
   "metadata": {},
   "source": [
    "Below, we are running the main task's algorithms on test period based on:\n",
    "1. Actual Price\n",
    "2. Predicted Price using Vector Auto-Regression\n",
    "3. Predicted Price using ARMA"
   ]
  },
  {
   "cell_type": "markdown",
   "id": "be531db9",
   "metadata": {},
   "source": [
    "## <font color = 'brown'> 1. Actual Price</font>"
   ]
  },
  {
   "cell_type": "code",
   "execution_count": null,
   "id": "236b79be",
   "metadata": {},
   "outputs": [],
   "source": [
    "test_start_period = '2021-07-01 00:00:00'\n",
    "test_end_period   = '2021-08-15 23:30:00'\n",
    "\n",
    "df_test = df[(df['Time'] >= test_start_period) & (df['Time'] <= test_end_period)]"
   ]
  },
  {
   "cell_type": "code",
   "execution_count": null,
   "id": "8682d7b6",
   "metadata": {},
   "outputs": [],
   "source": [
    "actual_price = df_test['Price'].reset_index(drop = True)"
   ]
  },
  {
   "cell_type": "code",
   "execution_count": null,
   "id": "6da170f1",
   "metadata": {},
   "outputs": [],
   "source": [
    "# Run on the main model\n",
    "Test_Prediction = main(n = 17, df = df_test)"
   ]
  },
  {
   "cell_type": "code",
   "execution_count": null,
   "id": "c75f7382",
   "metadata": {},
   "outputs": [],
   "source": [
    "# Add sandwich model"
   ]
  },
  {
   "cell_type": "code",
   "execution_count": null,
   "id": "ed398adb",
   "metadata": {
    "scrolled": true
   },
   "outputs": [],
   "source": [
    "CalculateRevenue(Test_Prediction)"
   ]
  },
  {
   "cell_type": "code",
   "execution_count": null,
   "id": "73d7f54e",
   "metadata": {},
   "outputs": [],
   "source": [
    "Test_Prediction.to_excel('../../preprocessed_data/Mandatory_Test_MainModel.xlsx')"
   ]
  },
  {
   "cell_type": "markdown",
   "id": "767192c2",
   "metadata": {},
   "source": [
    "## <font color = 'brown'>2. Predicted Price on VAR</font>"
   ]
  },
  {
   "cell_type": "code",
   "execution_count": 2,
   "id": "e87e13ad",
   "metadata": {},
   "outputs": [],
   "source": [
    "# Read file\n",
    "df_VAR = pd.read_excel('../../prediction_data/VAR_predictions_log.xlsx')"
   ]
  },
  {
   "cell_type": "code",
   "execution_count": 3,
   "id": "fbdabbae",
   "metadata": {},
   "outputs": [],
   "source": [
    "df_VAR.columns = ['Time', 'Price']\n",
    "df_VAR['Time'] = df_VAR['Time'].astype('datetime64[ns]')"
   ]
  },
  {
   "cell_type": "code",
   "execution_count": 4,
   "id": "21e20dbc",
   "metadata": {},
   "outputs": [],
   "source": [
    "time = df_VAR['Time']"
   ]
  },
  {
   "cell_type": "code",
   "execution_count": 5,
   "id": "4ed3d4b9",
   "metadata": {},
   "outputs": [
    {
     "data": {
      "text/html": [
       "<div>\n",
       "<style scoped>\n",
       "    .dataframe tbody tr th:only-of-type {\n",
       "        vertical-align: middle;\n",
       "    }\n",
       "\n",
       "    .dataframe tbody tr th {\n",
       "        vertical-align: top;\n",
       "    }\n",
       "\n",
       "    .dataframe thead th {\n",
       "        text-align: right;\n",
       "    }\n",
       "</style>\n",
       "<table border=\"1\" class=\"dataframe\">\n",
       "  <thead>\n",
       "    <tr style=\"text-align: right;\">\n",
       "      <th></th>\n",
       "      <th>Time</th>\n",
       "      <th>Price</th>\n",
       "    </tr>\n",
       "  </thead>\n",
       "  <tbody>\n",
       "    <tr>\n",
       "      <th>0</th>\n",
       "      <td>2021-07-01 00:30:00</td>\n",
       "      <td>45.901292</td>\n",
       "    </tr>\n",
       "    <tr>\n",
       "      <th>1</th>\n",
       "      <td>2021-07-01 01:00:00</td>\n",
       "      <td>64.415976</td>\n",
       "    </tr>\n",
       "    <tr>\n",
       "      <th>2</th>\n",
       "      <td>2021-07-01 01:30:00</td>\n",
       "      <td>67.715684</td>\n",
       "    </tr>\n",
       "    <tr>\n",
       "      <th>3</th>\n",
       "      <td>2021-07-01 02:00:00</td>\n",
       "      <td>43.141678</td>\n",
       "    </tr>\n",
       "    <tr>\n",
       "      <th>4</th>\n",
       "      <td>2021-07-01 02:30:00</td>\n",
       "      <td>39.571492</td>\n",
       "    </tr>\n",
       "    <tr>\n",
       "      <th>...</th>\n",
       "      <td>...</td>\n",
       "      <td>...</td>\n",
       "    </tr>\n",
       "    <tr>\n",
       "      <th>2155</th>\n",
       "      <td>2021-08-14 22:00:00</td>\n",
       "      <td>58.635315</td>\n",
       "    </tr>\n",
       "    <tr>\n",
       "      <th>2156</th>\n",
       "      <td>2021-08-14 22:30:00</td>\n",
       "      <td>52.664372</td>\n",
       "    </tr>\n",
       "    <tr>\n",
       "      <th>2157</th>\n",
       "      <td>2021-08-14 23:00:00</td>\n",
       "      <td>50.100266</td>\n",
       "    </tr>\n",
       "    <tr>\n",
       "      <th>2158</th>\n",
       "      <td>2021-08-14 23:30:00</td>\n",
       "      <td>41.263355</td>\n",
       "    </tr>\n",
       "    <tr>\n",
       "      <th>2159</th>\n",
       "      <td>2021-08-15 00:00:00</td>\n",
       "      <td>44.978704</td>\n",
       "    </tr>\n",
       "  </tbody>\n",
       "</table>\n",
       "<p>2160 rows × 2 columns</p>\n",
       "</div>"
      ],
      "text/plain": [
       "                    Time      Price\n",
       "0    2021-07-01 00:30:00  45.901292\n",
       "1    2021-07-01 01:00:00  64.415976\n",
       "2    2021-07-01 01:30:00  67.715684\n",
       "3    2021-07-01 02:00:00  43.141678\n",
       "4    2021-07-01 02:30:00  39.571492\n",
       "...                  ...        ...\n",
       "2155 2021-08-14 22:00:00  58.635315\n",
       "2156 2021-08-14 22:30:00  52.664372\n",
       "2157 2021-08-14 23:00:00  50.100266\n",
       "2158 2021-08-14 23:30:00  41.263355\n",
       "2159 2021-08-15 00:00:00  44.978704\n",
       "\n",
       "[2160 rows x 2 columns]"
      ]
     },
     "execution_count": 5,
     "metadata": {},
     "output_type": "execute_result"
    }
   ],
   "source": [
    "df_VAR"
   ]
  },
  {
   "cell_type": "code",
   "execution_count": 6,
   "id": "b342c9a3",
   "metadata": {},
   "outputs": [
    {
     "ename": "AttributeError",
     "evalue": "'Series' object has no attribute 'time'",
     "output_type": "error",
     "traceback": [
      "\u001b[0;31m---------------------------------------------------------------------------\u001b[0m",
      "\u001b[0;31mAttributeError\u001b[0m                            Traceback (most recent call last)",
      "\u001b[0;32m/var/folders/t0/y9rzrsb50h96xrz3rnb9j_7m0000gn/T/ipykernel_19604/1659245560.py\u001b[0m in \u001b[0;36m<module>\u001b[0;34m\u001b[0m\n\u001b[0;32m----> 1\u001b[0;31m \u001b[0mdf\u001b[0m \u001b[0;34m=\u001b[0m \u001b[0mSandwichModel\u001b[0m\u001b[0;34m(\u001b[0m\u001b[0mdf_VAR\u001b[0m\u001b[0;34m)\u001b[0m\u001b[0;34m\u001b[0m\u001b[0;34m\u001b[0m\u001b[0m\n\u001b[0m",
      "\u001b[0;32m/var/folders/t0/y9rzrsb50h96xrz3rnb9j_7m0000gn/T/ipykernel_19604/2707183474.py\u001b[0m in \u001b[0;36mSandwichModel\u001b[0;34m(original_data)\u001b[0m\n\u001b[1;32m     35\u001b[0m     \u001b[0mtmp\u001b[0m \u001b[0;34m=\u001b[0m \u001b[0moriginal_data\u001b[0m\u001b[0;34m.\u001b[0m\u001b[0mcopy\u001b[0m\u001b[0;34m(\u001b[0m\u001b[0;34m)\u001b[0m\u001b[0;34m\u001b[0m\u001b[0;34m\u001b[0m\u001b[0m\n\u001b[1;32m     36\u001b[0m \u001b[0;34m\u001b[0m\u001b[0m\n\u001b[0;32m---> 37\u001b[0;31m     \u001b[0mstart\u001b[0m \u001b[0;34m=\u001b[0m \u001b[0mtime\u001b[0m\u001b[0;34m.\u001b[0m\u001b[0mtime\u001b[0m\u001b[0;34m(\u001b[0m\u001b[0;34m)\u001b[0m\u001b[0;34m\u001b[0m\u001b[0;34m\u001b[0m\u001b[0m\n\u001b[0m\u001b[1;32m     38\u001b[0m     \u001b[0mprint\u001b[0m\u001b[0;34m(\u001b[0m\u001b[0;34m\"Calculating First Step\"\u001b[0m\u001b[0;34m)\u001b[0m\u001b[0;34m\u001b[0m\u001b[0;34m\u001b[0m\u001b[0m\n\u001b[1;32m     39\u001b[0m     \u001b[0mtmp\u001b[0m \u001b[0;34m=\u001b[0m \u001b[0mTopBun\u001b[0m\u001b[0;34m(\u001b[0m\u001b[0mtmp\u001b[0m\u001b[0;34m,\u001b[0m \u001b[0mn\u001b[0m \u001b[0;34m=\u001b[0m \u001b[0;36m17\u001b[0m\u001b[0;34m)\u001b[0m\u001b[0;34m\u001b[0m\u001b[0;34m\u001b[0m\u001b[0m\n",
      "\u001b[0;32m~/opt/miniconda3/lib/python3.9/site-packages/pandas/core/generic.py\u001b[0m in \u001b[0;36m__getattr__\u001b[0;34m(self, name)\u001b[0m\n\u001b[1;32m   5476\u001b[0m         ):\n\u001b[1;32m   5477\u001b[0m             \u001b[0;32mreturn\u001b[0m \u001b[0mself\u001b[0m\u001b[0;34m[\u001b[0m\u001b[0mname\u001b[0m\u001b[0;34m]\u001b[0m\u001b[0;34m\u001b[0m\u001b[0;34m\u001b[0m\u001b[0m\n\u001b[0;32m-> 5478\u001b[0;31m         \u001b[0;32mreturn\u001b[0m \u001b[0mobject\u001b[0m\u001b[0;34m.\u001b[0m\u001b[0m__getattribute__\u001b[0m\u001b[0;34m(\u001b[0m\u001b[0mself\u001b[0m\u001b[0;34m,\u001b[0m \u001b[0mname\u001b[0m\u001b[0;34m)\u001b[0m\u001b[0;34m\u001b[0m\u001b[0;34m\u001b[0m\u001b[0m\n\u001b[0m\u001b[1;32m   5479\u001b[0m \u001b[0;34m\u001b[0m\u001b[0m\n\u001b[1;32m   5480\u001b[0m     \u001b[0;32mdef\u001b[0m \u001b[0m__setattr__\u001b[0m\u001b[0;34m(\u001b[0m\u001b[0mself\u001b[0m\u001b[0;34m,\u001b[0m \u001b[0mname\u001b[0m\u001b[0;34m:\u001b[0m \u001b[0mstr\u001b[0m\u001b[0;34m,\u001b[0m \u001b[0mvalue\u001b[0m\u001b[0;34m)\u001b[0m \u001b[0;34m->\u001b[0m \u001b[0;32mNone\u001b[0m\u001b[0;34m:\u001b[0m\u001b[0;34m\u001b[0m\u001b[0;34m\u001b[0m\u001b[0m\n",
      "\u001b[0;31mAttributeError\u001b[0m: 'Series' object has no attribute 'time'"
     ]
    }
   ],
   "source": [
    "df = SandwichModel(df_VAR)"
   ]
  },
  {
   "cell_type": "code",
   "execution_count": null,
   "id": "0d72f202",
   "metadata": {},
   "outputs": [],
   "source": [
    "# MA = MovingAverage(17, df = df_VAR)\n",
    "# RM = Maximisation(MA, df = df_VAR)\n",
    "# LR = LossRemoval(RM)\n",
    "# SM = Stationary(LR, df = df_VAR)\n",
    "# SA = ShiftAction(SM)"
   ]
  },
  {
   "cell_type": "code",
   "execution_count": null,
   "id": "2b955a03",
   "metadata": {
    "scrolled": true
   },
   "outputs": [],
   "source": [
    "# Running mandatory task's algorithm using predicted price\n",
    "VAR_Prediction = main(n = 17, df = df_VAR)"
   ]
  },
  {
   "cell_type": "code",
   "execution_count": null,
   "id": "cf931b52",
   "metadata": {},
   "outputs": [],
   "source": [
    "VAR_Prediction"
   ]
  },
  {
   "cell_type": "code",
   "execution_count": null,
   "id": "52aad85b",
   "metadata": {},
   "outputs": [],
   "source": [
    "# Uncomment this if we are only using MainModel\n",
    "#VAR_Prediction['Price'] = actual_price"
   ]
  },
  {
   "cell_type": "code",
   "execution_count": null,
   "id": "ddee62ef",
   "metadata": {},
   "outputs": [],
   "source": [
    "# CalculateRevenue(VAR_Prediction)"
   ]
  },
  {
   "cell_type": "code",
   "execution_count": null,
   "id": "400c4c28",
   "metadata": {},
   "outputs": [],
   "source": [
    "# Save -> to be sent to gil\n",
    "VAR_Prediction.to_excel('../../prediction_data/VAR_Prediction_MainModel.xlsx')"
   ]
  },
  {
   "cell_type": "markdown",
   "id": "3a1ff377",
   "metadata": {},
   "source": [
    "## <font color = 'brown'>3. Predicted Price on ARMA</font>"
   ]
  },
  {
   "cell_type": "code",
   "execution_count": null,
   "id": "58f24748",
   "metadata": {},
   "outputs": [],
   "source": [
    "# Preprocessing\n",
    "df_ARIMA = pd.read_excel('../../prediction_data/ARIMA_predictions.xlsx')\n",
    "df_ARIMA.columns = ['Actual Price', 'Predicted Price']\n",
    "df_ARIMA['Time'] = time"
   ]
  },
  {
   "cell_type": "code",
   "execution_count": null,
   "id": "ecdc161c",
   "metadata": {},
   "outputs": [],
   "source": [
    "df_ARIMA = df_ARIMA[['Predicted Price', 'Time']]"
   ]
  },
  {
   "cell_type": "code",
   "execution_count": null,
   "id": "abd63ef5",
   "metadata": {},
   "outputs": [],
   "source": [
    "df_ARIMA.columns = ['Price', 'Time']\n",
    "df_ARIMA['Time'] = df_ARIMA['Time'].astype('datetime64[ns]')\n",
    "df_ARIMA = df_ARIMA[['Time', 'Price']]"
   ]
  },
  {
   "cell_type": "code",
   "execution_count": null,
   "id": "7d4111f2",
   "metadata": {},
   "outputs": [],
   "source": [
    "ARIMA_Prediction = main(n = 17, df = df_ARIMA)"
   ]
  },
  {
   "cell_type": "code",
   "execution_count": null,
   "id": "0dbbaa6f",
   "metadata": {
    "scrolled": false
   },
   "outputs": [],
   "source": [
    "ARIMA_Prediction"
   ]
  },
  {
   "cell_type": "code",
   "execution_count": null,
   "id": "25704038",
   "metadata": {},
   "outputs": [],
   "source": [
    "# Save\n",
    "ARIMA_Prediction.to_excel('../../prediction_data/ARIMA_Prediction_MainModel.xlsx')"
   ]
  }
 ],
 "metadata": {
  "kernelspec": {
   "display_name": "Python 3 (ipykernel)",
   "language": "python",
   "name": "python3"
  },
  "language_info": {
   "codemirror_mode": {
    "name": "ipython",
    "version": 3
   },
   "file_extension": ".py",
   "mimetype": "text/x-python",
   "name": "python",
   "nbconvert_exporter": "python",
   "pygments_lexer": "ipython3",
   "version": "3.9.5"
  },
  "varInspector": {
   "cols": {
    "lenName": 16,
    "lenType": 16,
    "lenVar": 40
   },
   "kernels_config": {
    "python": {
     "delete_cmd_postfix": "",
     "delete_cmd_prefix": "del ",
     "library": "var_list.py",
     "varRefreshCmd": "print(var_dic_list())"
    },
    "r": {
     "delete_cmd_postfix": ") ",
     "delete_cmd_prefix": "rm(",
     "library": "var_list.r",
     "varRefreshCmd": "cat(var_dic_list()) "
    }
   },
   "types_to_exclude": [
    "module",
    "function",
    "builtin_function_or_method",
    "instance",
    "_Feature"
   ],
   "window_display": false
  }
 },
 "nbformat": 4,
 "nbformat_minor": 5
}
