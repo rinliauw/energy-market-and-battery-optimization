{
 "cells": [
  {
   "cell_type": "code",
   "execution_count": null,
   "id": "dc91d262",
   "metadata": {},
   "outputs": [],
   "source": [
    "#!pip install openpyxl # Uncomment to install openpyxl"
   ]
  },
  {
   "cell_type": "markdown",
   "id": "58687304",
   "metadata": {},
   "source": [
    "# Instructions\n",
    "1. Run `Libraries`.\n",
    "1. Run `Optimisation Algorithm` (Top to Bottom).\n",
    "1. Make sure `MiniModels.ipynb`, `PeriodMaximisation.py` and `Battery.py` are in the same directory with this notebook.\n",
    "1. Go to `User Usage` Section, put the `input` and `output` filepath including the formats.\n",
    "1. Go to respective sections, run and save to respective formats (Top to Bottom)."
   ]
  },
  {
   "cell_type": "markdown",
   "id": "79a2b40b",
   "metadata": {},
   "source": [
    "### Libraries"
   ]
  },
  {
   "cell_type": "code",
   "execution_count": 1,
   "id": "5f1cd9b9",
   "metadata": {},
   "outputs": [],
   "source": [
    "import pandas as pd\n",
    "import numpy as np\n",
    "import time\n",
    "\n",
    "import PeriodMaximisation as pm\n",
    "from Battery import Battery\n",
    "\n",
    "%run ./MiniModels.ipynb"
   ]
  },
  {
   "cell_type": "markdown",
   "id": "1b2c2093",
   "metadata": {},
   "source": [
    "## Optimisation Algorithm"
   ]
  },
  {
   "cell_type": "code",
   "execution_count": 2,
   "id": "246824f4",
   "metadata": {},
   "outputs": [],
   "source": [
    "def ConvertFormat_BunToMeat(df):\n",
    "    \n",
    "    # Converting simple format to actual format\n",
    "    df[\"Power\"] = np.where(df[\"Status\"] == \"Charge\", df[\"Actual\"] * 2, df[\"Actual\"] * 2 / 0.9)\n",
    "    df = pm.renameColumns(df[[\"Time\", \"Price\", \"Power\", \"Actual\", \"Opening Capacity\", \"Closing Capacity\"]])\n",
    "    \n",
    "    return df\n",
    "\n",
    "def ConvertFormat_MeatToBun(act, df):\n",
    "    \n",
    "    # Converting actual format to simple format\n",
    "    act = act[[\"Time (UTC+10)\", \"Regions VIC Trading Price ($/MWh)\", \n",
    "               \"Market Dispatch (MWh)\", \"Opening Capacity (MWh)\", \n",
    "               \"Closing Capacity (MWh)\"]] # Select time and victoria prices\n",
    "    act.columns = [\"Time\", \"Price\", \"Actual\", \"Opening Capacity\", \"Closing Capacity\"] # Rename columns\n",
    "    act[\"Time\"] = pd.to_datetime(df[\"Time\"]) # Convert data type\n",
    "    act = act.sort_values(\"Time\").reset_index(drop = True) # Finalise\n",
    "    act[\"Restrict\"] = - np.where(act[\"Actual\"] <= 0, act[\"Actual\"] * 0.9, act[\"Actual\"] / 0.9)\n",
    "    act[\"Status\"] = np.where(act[\"Actual\"] < 0, \"Charge\", np.where(act[\"Actual\"] > 0, \"Discharge\", \"Do Nothing\"))\n",
    "\n",
    "    sim = pd.merge(df[\"Time\"], act.drop(\"Time\", axis = 1), left_index = True, right_index = True)\n",
    "\n",
    "    return sim"
   ]
  },
  {
   "cell_type": "code",
   "execution_count": 7,
   "id": "725bcdf2",
   "metadata": {},
   "outputs": [],
   "source": [
    "def TopBun(df, n = 17):\n",
    "    Model = MovingAverage(n, df) # Moving Average\n",
    "    Model = Maximisation(Model, df) # Region Maximisation\n",
    "    Model = LossRemoval(Model) # Loss Removal\n",
    "    Model = Stationary(Model, df) # Stationary Maximisation\n",
    "    Model = ShiftAction(Model, df) # Action Shift\n",
    "    \n",
    "    return Model\n",
    "\n",
    "def Meat(df):\n",
    "    tmp = df.copy()\n",
    "    # Converting format\n",
    "    tmp = ConvertFormat_BunToMeat(tmp)\n",
    "    \n",
    "    # Get time period\n",
    "    time = pm.getTimePeriod(tmp)\n",
    "    \n",
    "    # Run Dependendy Optimisation Algorithm\n",
    "    tmp = pm.DependencyOptimisation(tmp, time) # PeriodOptimisation\n",
    "    \n",
    "    # Convert back format\n",
    "    tmp = ConvertFormat_MeatToBun(tmp, df)\n",
    "    \n",
    "    return tmp\n",
    "\n",
    "def LowerBun(df):\n",
    "    \n",
    "    Model = Maximisation(df, df = df) # Region Maximisation\n",
    "    Model = Stationary(Model, df = df) # Stationary Maximisation\n",
    "    Model = ShiftAction(Model, df = df) # Action Shift\n",
    "\n",
    "    return Model\n",
    "\n",
    "def SandwichModel(original_data):\n",
    "    tmp = original_data.copy()\n",
    "    \n",
    "    start = time.time()\n",
    "    print(\"Calculating First Step\")\n",
    "    df = TopBun(tmp, n = 17)\n",
    "    first = time.time()\n",
    "    print(f\"It took {first - start} seconds for First Step\")\n",
    "    \n",
    "    print(\"#######################\\n\")\n",
    "    \n",
    "    print(\"Calculating Second Step\")\n",
    "    df = Meat(df)\n",
    "    second = time.time()\n",
    "    print(f\"It took {second - first} seconds for Second Step\")\n",
    "    \n",
    "    print(\"#######################\\n\")\n",
    "    \n",
    "    print(\"Calculating Final Step\")\n",
    "    #df = LowerBun(df)\n",
    "    third = time.time()\n",
    "    print(f\"It took {third - second} seconds for Third Step\")\n",
    "    total = time.time()\n",
    "    \n",
    "    print(\"#######################\\n\")\n",
    "    \n",
    "    print(f\"In total cooking time took {total - start} seconds\")\n",
    "    df = ConvertFormat_BunToMeat(df)\n",
    "    return df"
   ]
  },
  {
   "cell_type": "markdown",
   "id": "302468e4",
   "metadata": {},
   "source": [
    "### All Data"
   ]
  },
  {
   "cell_type": "code",
   "execution_count": 4,
   "id": "43f50e01",
   "metadata": {},
   "outputs": [
    {
     "ename": "KeyboardInterrupt",
     "evalue": "",
     "output_type": "error",
     "traceback": [
      "\u001b[1;31m---------------------------------------------------------------------------\u001b[0m",
      "\u001b[1;31mKeyboardInterrupt\u001b[0m                         Traceback (most recent call last)",
      "\u001b[1;32m~\\AppData\\Local\\Temp/ipykernel_6176/1450072632.py\u001b[0m in \u001b[0;36m<module>\u001b[1;34m\u001b[0m\n\u001b[1;32m----> 1\u001b[1;33m \u001b[0mdf\u001b[0m \u001b[1;33m=\u001b[0m \u001b[0mpd\u001b[0m\u001b[1;33m.\u001b[0m\u001b[0mread_excel\u001b[0m\u001b[1;33m(\u001b[0m\u001b[1;34m\"../../preprocessed_data/original_data.xlsx\"\u001b[0m\u001b[1;33m)\u001b[0m \u001b[1;31m# Open original data\u001b[0m\u001b[1;33m\u001b[0m\u001b[1;33m\u001b[0m\u001b[0m\n\u001b[0m\u001b[0;32m      2\u001b[0m \u001b[0mdf\u001b[0m \u001b[1;33m=\u001b[0m \u001b[0mdf\u001b[0m\u001b[1;33m[\u001b[0m\u001b[1;33m[\u001b[0m\u001b[1;34m\"Time (UTC+10)\"\u001b[0m\u001b[1;33m,\u001b[0m \u001b[1;34m\"Regions VIC Trading Price ($/MWh)\"\u001b[0m\u001b[1;33m]\u001b[0m\u001b[1;33m]\u001b[0m \u001b[1;31m# Select time and victoria prices\u001b[0m\u001b[1;33m\u001b[0m\u001b[1;33m\u001b[0m\u001b[0m\n\u001b[0;32m      3\u001b[0m \u001b[0mdf\u001b[0m\u001b[1;33m.\u001b[0m\u001b[0mcolumns\u001b[0m \u001b[1;33m=\u001b[0m \u001b[1;33m[\u001b[0m\u001b[1;34m\"Time\"\u001b[0m\u001b[1;33m,\u001b[0m \u001b[1;34m\"Price\"\u001b[0m\u001b[1;33m]\u001b[0m \u001b[1;31m# Rename columns\u001b[0m\u001b[1;33m\u001b[0m\u001b[1;33m\u001b[0m\u001b[0m\n\u001b[0;32m      4\u001b[0m \u001b[0mdf\u001b[0m\u001b[1;33m[\u001b[0m\u001b[1;34m\"Time\"\u001b[0m\u001b[1;33m]\u001b[0m \u001b[1;33m=\u001b[0m \u001b[0mpd\u001b[0m\u001b[1;33m.\u001b[0m\u001b[0mto_datetime\u001b[0m\u001b[1;33m(\u001b[0m\u001b[0mdf\u001b[0m\u001b[1;33m[\u001b[0m\u001b[1;34m\"Time\"\u001b[0m\u001b[1;33m]\u001b[0m\u001b[1;33m)\u001b[0m \u001b[1;31m# Convert data type\u001b[0m\u001b[1;33m\u001b[0m\u001b[1;33m\u001b[0m\u001b[0m\n\u001b[0;32m      5\u001b[0m \u001b[0mdf\u001b[0m \u001b[1;33m=\u001b[0m \u001b[0mdf\u001b[0m\u001b[1;33m.\u001b[0m\u001b[0msort_values\u001b[0m\u001b[1;33m(\u001b[0m\u001b[1;34m\"Time\"\u001b[0m\u001b[1;33m)\u001b[0m\u001b[1;33m.\u001b[0m\u001b[0mreset_index\u001b[0m\u001b[1;33m(\u001b[0m\u001b[0mdrop\u001b[0m \u001b[1;33m=\u001b[0m \u001b[1;32mTrue\u001b[0m\u001b[1;33m)\u001b[0m \u001b[1;31m# Finalise\u001b[0m\u001b[1;33m\u001b[0m\u001b[1;33m\u001b[0m\u001b[0m\n",
      "\u001b[1;32m~\\anaconda3\\envs\\tf_gpu\\lib\\site-packages\\pandas\\util\\_decorators.py\u001b[0m in \u001b[0;36mwrapper\u001b[1;34m(*args, **kwargs)\u001b[0m\n\u001b[0;32m    309\u001b[0m                     \u001b[0mstacklevel\u001b[0m\u001b[1;33m=\u001b[0m\u001b[0mstacklevel\u001b[0m\u001b[1;33m,\u001b[0m\u001b[1;33m\u001b[0m\u001b[1;33m\u001b[0m\u001b[0m\n\u001b[0;32m    310\u001b[0m                 )\n\u001b[1;32m--> 311\u001b[1;33m             \u001b[1;32mreturn\u001b[0m \u001b[0mfunc\u001b[0m\u001b[1;33m(\u001b[0m\u001b[1;33m*\u001b[0m\u001b[0margs\u001b[0m\u001b[1;33m,\u001b[0m \u001b[1;33m**\u001b[0m\u001b[0mkwargs\u001b[0m\u001b[1;33m)\u001b[0m\u001b[1;33m\u001b[0m\u001b[1;33m\u001b[0m\u001b[0m\n\u001b[0m\u001b[0;32m    312\u001b[0m \u001b[1;33m\u001b[0m\u001b[0m\n\u001b[0;32m    313\u001b[0m         \u001b[1;32mreturn\u001b[0m \u001b[0mwrapper\u001b[0m\u001b[1;33m\u001b[0m\u001b[1;33m\u001b[0m\u001b[0m\n",
      "\u001b[1;32m~\\anaconda3\\envs\\tf_gpu\\lib\\site-packages\\pandas\\io\\excel\\_base.py\u001b[0m in \u001b[0;36mread_excel\u001b[1;34m(io, sheet_name, header, names, index_col, usecols, squeeze, dtype, engine, converters, true_values, false_values, skiprows, nrows, na_values, keep_default_na, na_filter, verbose, parse_dates, date_parser, thousands, comment, skipfooter, convert_float, mangle_dupe_cols, storage_options)\u001b[0m\n\u001b[0;32m    393\u001b[0m             \u001b[0mskipfooter\u001b[0m\u001b[1;33m=\u001b[0m\u001b[0mskipfooter\u001b[0m\u001b[1;33m,\u001b[0m\u001b[1;33m\u001b[0m\u001b[1;33m\u001b[0m\u001b[0m\n\u001b[0;32m    394\u001b[0m             \u001b[0mconvert_float\u001b[0m\u001b[1;33m=\u001b[0m\u001b[0mconvert_float\u001b[0m\u001b[1;33m,\u001b[0m\u001b[1;33m\u001b[0m\u001b[1;33m\u001b[0m\u001b[0m\n\u001b[1;32m--> 395\u001b[1;33m             \u001b[0mmangle_dupe_cols\u001b[0m\u001b[1;33m=\u001b[0m\u001b[0mmangle_dupe_cols\u001b[0m\u001b[1;33m,\u001b[0m\u001b[1;33m\u001b[0m\u001b[1;33m\u001b[0m\u001b[0m\n\u001b[0m\u001b[0;32m    396\u001b[0m         )\n\u001b[0;32m    397\u001b[0m     \u001b[1;32mfinally\u001b[0m\u001b[1;33m:\u001b[0m\u001b[1;33m\u001b[0m\u001b[1;33m\u001b[0m\u001b[0m\n",
      "\u001b[1;32m~\\anaconda3\\envs\\tf_gpu\\lib\\site-packages\\pandas\\io\\excel\\_base.py\u001b[0m in \u001b[0;36mparse\u001b[1;34m(self, sheet_name, header, names, index_col, usecols, squeeze, converters, true_values, false_values, skiprows, nrows, na_values, parse_dates, date_parser, thousands, comment, skipfooter, convert_float, mangle_dupe_cols, **kwds)\u001b[0m\n\u001b[0;32m   1290\u001b[0m             \u001b[0mconvert_float\u001b[0m\u001b[1;33m=\u001b[0m\u001b[0mconvert_float\u001b[0m\u001b[1;33m,\u001b[0m\u001b[1;33m\u001b[0m\u001b[1;33m\u001b[0m\u001b[0m\n\u001b[0;32m   1291\u001b[0m             \u001b[0mmangle_dupe_cols\u001b[0m\u001b[1;33m=\u001b[0m\u001b[0mmangle_dupe_cols\u001b[0m\u001b[1;33m,\u001b[0m\u001b[1;33m\u001b[0m\u001b[1;33m\u001b[0m\u001b[0m\n\u001b[1;32m-> 1292\u001b[1;33m             \u001b[1;33m**\u001b[0m\u001b[0mkwds\u001b[0m\u001b[1;33m,\u001b[0m\u001b[1;33m\u001b[0m\u001b[1;33m\u001b[0m\u001b[0m\n\u001b[0m\u001b[0;32m   1293\u001b[0m         )\n\u001b[0;32m   1294\u001b[0m \u001b[1;33m\u001b[0m\u001b[0m\n",
      "\u001b[1;32m~\\anaconda3\\envs\\tf_gpu\\lib\\site-packages\\pandas\\io\\excel\\_base.py\u001b[0m in \u001b[0;36mparse\u001b[1;34m(self, sheet_name, header, names, index_col, usecols, squeeze, dtype, true_values, false_values, skiprows, nrows, na_values, verbose, parse_dates, date_parser, thousands, comment, skipfooter, convert_float, mangle_dupe_cols, **kwds)\u001b[0m\n\u001b[0;32m    537\u001b[0m                 \u001b[0msheet\u001b[0m \u001b[1;33m=\u001b[0m \u001b[0mself\u001b[0m\u001b[1;33m.\u001b[0m\u001b[0mget_sheet_by_index\u001b[0m\u001b[1;33m(\u001b[0m\u001b[0masheetname\u001b[0m\u001b[1;33m)\u001b[0m\u001b[1;33m\u001b[0m\u001b[1;33m\u001b[0m\u001b[0m\n\u001b[0;32m    538\u001b[0m \u001b[1;33m\u001b[0m\u001b[0m\n\u001b[1;32m--> 539\u001b[1;33m             \u001b[0mdata\u001b[0m \u001b[1;33m=\u001b[0m \u001b[0mself\u001b[0m\u001b[1;33m.\u001b[0m\u001b[0mget_sheet_data\u001b[0m\u001b[1;33m(\u001b[0m\u001b[0msheet\u001b[0m\u001b[1;33m,\u001b[0m \u001b[0mconvert_float\u001b[0m\u001b[1;33m)\u001b[0m\u001b[1;33m\u001b[0m\u001b[1;33m\u001b[0m\u001b[0m\n\u001b[0m\u001b[0;32m    540\u001b[0m             \u001b[1;32mif\u001b[0m \u001b[0mhasattr\u001b[0m\u001b[1;33m(\u001b[0m\u001b[0msheet\u001b[0m\u001b[1;33m,\u001b[0m \u001b[1;34m\"close\"\u001b[0m\u001b[1;33m)\u001b[0m\u001b[1;33m:\u001b[0m\u001b[1;33m\u001b[0m\u001b[1;33m\u001b[0m\u001b[0m\n\u001b[0;32m    541\u001b[0m                 \u001b[1;31m# pyxlsb opens two TemporaryFiles\u001b[0m\u001b[1;33m\u001b[0m\u001b[1;33m\u001b[0m\u001b[1;33m\u001b[0m\u001b[0m\n",
      "\u001b[1;32m~\\anaconda3\\envs\\tf_gpu\\lib\\site-packages\\pandas\\io\\excel\\_openpyxl.py\u001b[0m in \u001b[0;36mget_sheet_data\u001b[1;34m(self, sheet, convert_float)\u001b[0m\n\u001b[0;32m    570\u001b[0m         \u001b[0mdata\u001b[0m\u001b[1;33m:\u001b[0m \u001b[0mlist\u001b[0m\u001b[1;33m[\u001b[0m\u001b[0mlist\u001b[0m\u001b[1;33m[\u001b[0m\u001b[0mScalar\u001b[0m\u001b[1;33m]\u001b[0m\u001b[1;33m]\u001b[0m \u001b[1;33m=\u001b[0m \u001b[1;33m[\u001b[0m\u001b[1;33m]\u001b[0m\u001b[1;33m\u001b[0m\u001b[1;33m\u001b[0m\u001b[0m\n\u001b[0;32m    571\u001b[0m         \u001b[0mlast_row_with_data\u001b[0m \u001b[1;33m=\u001b[0m \u001b[1;33m-\u001b[0m\u001b[1;36m1\u001b[0m\u001b[1;33m\u001b[0m\u001b[1;33m\u001b[0m\u001b[0m\n\u001b[1;32m--> 572\u001b[1;33m         \u001b[1;32mfor\u001b[0m \u001b[0mrow_number\u001b[0m\u001b[1;33m,\u001b[0m \u001b[0mrow\u001b[0m \u001b[1;32min\u001b[0m \u001b[0menumerate\u001b[0m\u001b[1;33m(\u001b[0m\u001b[0msheet\u001b[0m\u001b[1;33m.\u001b[0m\u001b[0mrows\u001b[0m\u001b[1;33m)\u001b[0m\u001b[1;33m:\u001b[0m\u001b[1;33m\u001b[0m\u001b[1;33m\u001b[0m\u001b[0m\n\u001b[0m\u001b[0;32m    573\u001b[0m             \u001b[0mconverted_row\u001b[0m \u001b[1;33m=\u001b[0m \u001b[1;33m[\u001b[0m\u001b[0mself\u001b[0m\u001b[1;33m.\u001b[0m\u001b[0m_convert_cell\u001b[0m\u001b[1;33m(\u001b[0m\u001b[0mcell\u001b[0m\u001b[1;33m,\u001b[0m \u001b[0mconvert_float\u001b[0m\u001b[1;33m)\u001b[0m \u001b[1;32mfor\u001b[0m \u001b[0mcell\u001b[0m \u001b[1;32min\u001b[0m \u001b[0mrow\u001b[0m\u001b[1;33m]\u001b[0m\u001b[1;33m\u001b[0m\u001b[1;33m\u001b[0m\u001b[0m\n\u001b[0;32m    574\u001b[0m             \u001b[1;32mwhile\u001b[0m \u001b[0mconverted_row\u001b[0m \u001b[1;32mand\u001b[0m \u001b[0mconverted_row\u001b[0m\u001b[1;33m[\u001b[0m\u001b[1;33m-\u001b[0m\u001b[1;36m1\u001b[0m\u001b[1;33m]\u001b[0m \u001b[1;33m==\u001b[0m \u001b[1;34m\"\"\u001b[0m\u001b[1;33m:\u001b[0m\u001b[1;33m\u001b[0m\u001b[1;33m\u001b[0m\u001b[0m\n",
      "\u001b[1;32m~\\anaconda3\\envs\\tf_gpu\\lib\\site-packages\\openpyxl\\worksheet\\_read_only.py\u001b[0m in \u001b[0;36m_cells_by_row\u001b[1;34m(self, min_col, min_row, max_col, max_row, values_only)\u001b[0m\n\u001b[0;32m     77\u001b[0m                                  \u001b[0mdata_only\u001b[0m\u001b[1;33m=\u001b[0m\u001b[0mself\u001b[0m\u001b[1;33m.\u001b[0m\u001b[0mparent\u001b[0m\u001b[1;33m.\u001b[0m\u001b[0mdata_only\u001b[0m\u001b[1;33m,\u001b[0m \u001b[0mepoch\u001b[0m\u001b[1;33m=\u001b[0m\u001b[0mself\u001b[0m\u001b[1;33m.\u001b[0m\u001b[0mparent\u001b[0m\u001b[1;33m.\u001b[0m\u001b[0mepoch\u001b[0m\u001b[1;33m,\u001b[0m\u001b[1;33m\u001b[0m\u001b[1;33m\u001b[0m\u001b[0m\n\u001b[0;32m     78\u001b[0m                                  date_formats=self.parent._date_formats)\n\u001b[1;32m---> 79\u001b[1;33m         \u001b[1;32mfor\u001b[0m \u001b[0midx\u001b[0m\u001b[1;33m,\u001b[0m \u001b[0mrow\u001b[0m \u001b[1;32min\u001b[0m \u001b[0mparser\u001b[0m\u001b[1;33m.\u001b[0m\u001b[0mparse\u001b[0m\u001b[1;33m(\u001b[0m\u001b[1;33m)\u001b[0m\u001b[1;33m:\u001b[0m\u001b[1;33m\u001b[0m\u001b[1;33m\u001b[0m\u001b[0m\n\u001b[0m\u001b[0;32m     80\u001b[0m             \u001b[1;32mif\u001b[0m \u001b[0mmax_row\u001b[0m \u001b[1;32mis\u001b[0m \u001b[1;32mnot\u001b[0m \u001b[1;32mNone\u001b[0m \u001b[1;32mand\u001b[0m \u001b[0midx\u001b[0m \u001b[1;33m>\u001b[0m \u001b[0mmax_row\u001b[0m\u001b[1;33m:\u001b[0m\u001b[1;33m\u001b[0m\u001b[1;33m\u001b[0m\u001b[0m\n\u001b[0;32m     81\u001b[0m                 \u001b[1;32mbreak\u001b[0m\u001b[1;33m\u001b[0m\u001b[1;33m\u001b[0m\u001b[0m\n",
      "\u001b[1;32m~\\anaconda3\\envs\\tf_gpu\\lib\\site-packages\\openpyxl\\worksheet\\_reader.py\u001b[0m in \u001b[0;36mparse\u001b[1;34m(self)\u001b[0m\n\u001b[0;32m    142\u001b[0m         \u001b[0mit\u001b[0m \u001b[1;33m=\u001b[0m \u001b[0miterparse\u001b[0m\u001b[1;33m(\u001b[0m\u001b[0mself\u001b[0m\u001b[1;33m.\u001b[0m\u001b[0msource\u001b[0m\u001b[1;33m)\u001b[0m \u001b[1;31m# add a finaliser to close the source when this becomes possible\u001b[0m\u001b[1;33m\u001b[0m\u001b[1;33m\u001b[0m\u001b[0m\n\u001b[0;32m    143\u001b[0m \u001b[1;33m\u001b[0m\u001b[0m\n\u001b[1;32m--> 144\u001b[1;33m         \u001b[1;32mfor\u001b[0m \u001b[0m_\u001b[0m\u001b[1;33m,\u001b[0m \u001b[0melement\u001b[0m \u001b[1;32min\u001b[0m \u001b[0mit\u001b[0m\u001b[1;33m:\u001b[0m\u001b[1;33m\u001b[0m\u001b[1;33m\u001b[0m\u001b[0m\n\u001b[0m\u001b[0;32m    145\u001b[0m             \u001b[0mtag_name\u001b[0m \u001b[1;33m=\u001b[0m \u001b[0melement\u001b[0m\u001b[1;33m.\u001b[0m\u001b[0mtag\u001b[0m\u001b[1;33m\u001b[0m\u001b[1;33m\u001b[0m\u001b[0m\n\u001b[0;32m    146\u001b[0m             \u001b[1;32mif\u001b[0m \u001b[0mtag_name\u001b[0m \u001b[1;32min\u001b[0m \u001b[0mdispatcher\u001b[0m\u001b[1;33m:\u001b[0m\u001b[1;33m\u001b[0m\u001b[1;33m\u001b[0m\u001b[0m\n",
      "\u001b[1;32m~\\anaconda3\\envs\\tf_gpu\\lib\\xml\\etree\\ElementTree.py\u001b[0m in \u001b[0;36miterator\u001b[1;34m()\u001b[0m\n\u001b[0;32m   1222\u001b[0m                 \u001b[1;32myield\u001b[0m \u001b[1;32mfrom\u001b[0m \u001b[0mpullparser\u001b[0m\u001b[1;33m.\u001b[0m\u001b[0mread_events\u001b[0m\u001b[1;33m(\u001b[0m\u001b[1;33m)\u001b[0m\u001b[1;33m\u001b[0m\u001b[1;33m\u001b[0m\u001b[0m\n\u001b[0;32m   1223\u001b[0m                 \u001b[1;31m# load event buffer\u001b[0m\u001b[1;33m\u001b[0m\u001b[1;33m\u001b[0m\u001b[1;33m\u001b[0m\u001b[0m\n\u001b[1;32m-> 1224\u001b[1;33m                 \u001b[0mdata\u001b[0m \u001b[1;33m=\u001b[0m \u001b[0msource\u001b[0m\u001b[1;33m.\u001b[0m\u001b[0mread\u001b[0m\u001b[1;33m(\u001b[0m\u001b[1;36m16\u001b[0m \u001b[1;33m*\u001b[0m \u001b[1;36m1024\u001b[0m\u001b[1;33m)\u001b[0m\u001b[1;33m\u001b[0m\u001b[1;33m\u001b[0m\u001b[0m\n\u001b[0m\u001b[0;32m   1225\u001b[0m                 \u001b[1;32mif\u001b[0m \u001b[1;32mnot\u001b[0m \u001b[0mdata\u001b[0m\u001b[1;33m:\u001b[0m\u001b[1;33m\u001b[0m\u001b[1;33m\u001b[0m\u001b[0m\n\u001b[0;32m   1226\u001b[0m                     \u001b[1;32mbreak\u001b[0m\u001b[1;33m\u001b[0m\u001b[1;33m\u001b[0m\u001b[0m\n",
      "\u001b[1;32m~\\anaconda3\\envs\\tf_gpu\\lib\\zipfile.py\u001b[0m in \u001b[0;36mread\u001b[1;34m(self, n)\u001b[0m\n\u001b[0;32m    928\u001b[0m         \u001b[0mself\u001b[0m\u001b[1;33m.\u001b[0m\u001b[0m_offset\u001b[0m \u001b[1;33m=\u001b[0m \u001b[1;36m0\u001b[0m\u001b[1;33m\u001b[0m\u001b[1;33m\u001b[0m\u001b[0m\n\u001b[0;32m    929\u001b[0m         \u001b[1;32mwhile\u001b[0m \u001b[0mn\u001b[0m \u001b[1;33m>\u001b[0m \u001b[1;36m0\u001b[0m \u001b[1;32mand\u001b[0m \u001b[1;32mnot\u001b[0m \u001b[0mself\u001b[0m\u001b[1;33m.\u001b[0m\u001b[0m_eof\u001b[0m\u001b[1;33m:\u001b[0m\u001b[1;33m\u001b[0m\u001b[1;33m\u001b[0m\u001b[0m\n\u001b[1;32m--> 930\u001b[1;33m             \u001b[0mdata\u001b[0m \u001b[1;33m=\u001b[0m \u001b[0mself\u001b[0m\u001b[1;33m.\u001b[0m\u001b[0m_read1\u001b[0m\u001b[1;33m(\u001b[0m\u001b[0mn\u001b[0m\u001b[1;33m)\u001b[0m\u001b[1;33m\u001b[0m\u001b[1;33m\u001b[0m\u001b[0m\n\u001b[0m\u001b[0;32m    931\u001b[0m             \u001b[1;32mif\u001b[0m \u001b[0mn\u001b[0m \u001b[1;33m<\u001b[0m \u001b[0mlen\u001b[0m\u001b[1;33m(\u001b[0m\u001b[0mdata\u001b[0m\u001b[1;33m)\u001b[0m\u001b[1;33m:\u001b[0m\u001b[1;33m\u001b[0m\u001b[1;33m\u001b[0m\u001b[0m\n\u001b[0;32m    932\u001b[0m                 \u001b[0mself\u001b[0m\u001b[1;33m.\u001b[0m\u001b[0m_readbuffer\u001b[0m \u001b[1;33m=\u001b[0m \u001b[0mdata\u001b[0m\u001b[1;33m\u001b[0m\u001b[1;33m\u001b[0m\u001b[0m\n",
      "\u001b[1;32m~\\anaconda3\\envs\\tf_gpu\\lib\\zipfile.py\u001b[0m in \u001b[0;36m_read1\u001b[1;34m(self, n)\u001b[0m\n\u001b[0;32m   1004\u001b[0m         \u001b[1;32melif\u001b[0m \u001b[0mself\u001b[0m\u001b[1;33m.\u001b[0m\u001b[0m_compress_type\u001b[0m \u001b[1;33m==\u001b[0m \u001b[0mZIP_DEFLATED\u001b[0m\u001b[1;33m:\u001b[0m\u001b[1;33m\u001b[0m\u001b[1;33m\u001b[0m\u001b[0m\n\u001b[0;32m   1005\u001b[0m             \u001b[0mn\u001b[0m \u001b[1;33m=\u001b[0m \u001b[0mmax\u001b[0m\u001b[1;33m(\u001b[0m\u001b[0mn\u001b[0m\u001b[1;33m,\u001b[0m \u001b[0mself\u001b[0m\u001b[1;33m.\u001b[0m\u001b[0mMIN_READ_SIZE\u001b[0m\u001b[1;33m)\u001b[0m\u001b[1;33m\u001b[0m\u001b[1;33m\u001b[0m\u001b[0m\n\u001b[1;32m-> 1006\u001b[1;33m             \u001b[0mdata\u001b[0m \u001b[1;33m=\u001b[0m \u001b[0mself\u001b[0m\u001b[1;33m.\u001b[0m\u001b[0m_decompressor\u001b[0m\u001b[1;33m.\u001b[0m\u001b[0mdecompress\u001b[0m\u001b[1;33m(\u001b[0m\u001b[0mdata\u001b[0m\u001b[1;33m,\u001b[0m \u001b[0mn\u001b[0m\u001b[1;33m)\u001b[0m\u001b[1;33m\u001b[0m\u001b[1;33m\u001b[0m\u001b[0m\n\u001b[0m\u001b[0;32m   1007\u001b[0m             self._eof = (self._decompressor.eof or\n\u001b[0;32m   1008\u001b[0m                          \u001b[0mself\u001b[0m\u001b[1;33m.\u001b[0m\u001b[0m_compress_left\u001b[0m \u001b[1;33m<=\u001b[0m \u001b[1;36m0\u001b[0m \u001b[1;32mand\u001b[0m\u001b[1;33m\u001b[0m\u001b[1;33m\u001b[0m\u001b[0m\n",
      "\u001b[1;31mKeyboardInterrupt\u001b[0m: "
     ]
    }
   ],
   "source": [
    "df = pd.read_excel(\"../../preprocessed_data/original_data.xlsx\") # Open original data\n",
    "df = df[[\"Time (UTC+10)\", \"Regions VIC Trading Price ($/MWh)\"]] # Select time and victoria prices\n",
    "df.columns = [\"Time\", \"Price\"] # Rename columns\n",
    "df[\"Time\"] = pd.to_datetime(df[\"Time\"]) # Convert data type\n",
    "df = df.sort_values(\"Time\").reset_index(drop = True) # Finalise"
   ]
  },
  {
   "cell_type": "code",
   "execution_count": null,
   "id": "248df9f3",
   "metadata": {},
   "outputs": [],
   "source": [
    "final_result = SandwichModel(df)\n",
    "\n",
    "print(f\"Total Revenue for this dataset is : {pm.computeRevenue(final_result)}\")"
   ]
  },
  {
   "cell_type": "markdown",
   "id": "719acede",
   "metadata": {},
   "source": [
    "### Training Set"
   ]
  },
  {
   "cell_type": "code",
   "execution_count": null,
   "id": "aabd9cf1",
   "metadata": {},
   "outputs": [],
   "source": [
    "train_df = pd.read_excel(\"../../preprocessed_data/training_data.xlsx\") # Open original data\n",
    "train_df = train_df[[\"Time (UTC+10)\", \"Regions VIC Trading Price ($/MWh)\"]] # Select time and victoria prices\n",
    "train_df.columns = [\"Time\", \"Price\"] # Rename columns\n",
    "train_df[\"Time\"] = pd.to_datetime(train_df[\"Time\"]) # Convert data type\n",
    "train_df = train_df.sort_values(\"Time\").reset_index(drop = True) # Finalise"
   ]
  },
  {
   "cell_type": "code",
   "execution_count": null,
   "id": "de509610",
   "metadata": {},
   "outputs": [],
   "source": [
    "final_training_result = SandwichModel(train_df)\n",
    "\n",
    "print(f\"Total Revenue for this dataset is : {pm.computeRevenue(final_training_result)}\")"
   ]
  },
  {
   "cell_type": "markdown",
   "id": "ccd165f2",
   "metadata": {},
   "source": [
    "### Testing Set"
   ]
  },
  {
   "cell_type": "code",
   "execution_count": 5,
   "id": "d0414f2a",
   "metadata": {},
   "outputs": [],
   "source": [
    "test_df = pd.read_excel(\"../../preprocessed_data/testing_data.xlsx\") # Open original data\n",
    "test_df = test_df[[\"Time (UTC+10)\", \"Regions VIC Trading Price ($/MWh)\"]] # Select time and victoria prices\n",
    "test_df.columns = [\"Time\", \"Price\"] # Rename columns\n",
    "test_df[\"Time\"] = pd.to_datetime(test_df[\"Time\"]) # Convert data type\n",
    "test_df = test_df.sort_values(\"Time\").reset_index(drop = True) # Finalise"
   ]
  },
  {
   "cell_type": "code",
   "execution_count": 6,
   "id": "6634c94c",
   "metadata": {
    "scrolled": true
   },
   "outputs": [
    {
     "name": "stdout",
     "output_type": "stream",
     "text": [
      "Calculating First Step\n",
      "It took 4.222799301147461 seconds for First Step\n",
      "#######################\n",
      "\n",
      "Calculating Second Step\n",
      "           Time (UTC+10)  Regions VIC Trading Price ($/MWh)  Raw Power (MW)  \\\n",
      "0    2021-07-01 00:30:00                              90.51            -0.0   \n",
      "1    2021-07-01 01:00:00                              73.91            -0.0   \n",
      "2    2021-07-01 01:30:00                              33.79          -300.0   \n",
      "3    2021-07-01 02:00:00                              43.57            -0.0   \n",
      "4    2021-07-01 02:30:00                              45.90           270.0   \n",
      "...                  ...                                ...             ...   \n",
      "2155 2021-08-14 22:00:00                              49.93            -0.0   \n",
      "2156 2021-08-14 22:30:00                              62.86            -0.0   \n",
      "2157 2021-08-14 23:00:00                              32.26            -0.0   \n",
      "2158 2021-08-14 23:30:00                              25.10            -0.0   \n",
      "2159 2021-08-15 00:00:00                               8.73            -0.0   \n",
      "\n",
      "      Market Dispatch (MWh)  Opening Capacity (MWh)  Closing Capacity (MWh)  \n",
      "0                      -0.0                     0.0                     0.0  \n",
      "1                      -0.0                     0.0                     0.0  \n",
      "2                    -150.0                     0.0                   135.0  \n",
      "3                      -0.0                   135.0                   135.0  \n",
      "4                     121.5                   135.0                     0.0  \n",
      "...                     ...                     ...                     ...  \n",
      "2155                   -0.0                   580.0                   580.0  \n",
      "2156                   -0.0                   580.0                   580.0  \n",
      "2157                   -0.0                   580.0                   580.0  \n",
      "2158                   -0.0                   580.0                   580.0  \n",
      "2159                   -0.0                   580.0                   580.0  \n",
      "\n",
      "[2160 rows x 6 columns]\n",
      "It took 35.72234535217285 seconds for Second Step\n",
      "#######################\n",
      "\n",
      "Calculating Final Step\n",
      "It took 0.0 seconds for Third Step\n",
      "#######################\n",
      "\n",
      "In total cooking time took 39.94514465332031 seconds\n",
      "Total Revenue for this dataset is : 6018898.407898388\n"
     ]
    }
   ],
   "source": [
    "final_testing_result = SandwichModel(test_df)\n",
    "\n",
    "print(f\"Total Revenue for this dataset is : {pm.computeRevenue(final_testing_result)}\")"
   ]
  },
  {
   "cell_type": "markdown",
   "id": "0e52d55b",
   "metadata": {},
   "source": [
    "## User Usage"
   ]
  },
  {
   "cell_type": "code",
   "execution_count": null,
   "id": "2a796f55",
   "metadata": {},
   "outputs": [],
   "source": [
    "input_filepath = '' # Add filepath here (include extension)\n",
    "output_filepath = '' # Add filepath here (include extension)"
   ]
  },
  {
   "cell_type": "markdown",
   "id": "ebbe22b0",
   "metadata": {},
   "source": [
    "### IF INPUT IS EXCEL FILE EXTENSION"
   ]
  },
  {
   "cell_type": "code",
   "execution_count": null,
   "id": "1eda238f",
   "metadata": {},
   "outputs": [],
   "source": [
    "dataframe = pd.read_excel(input_filepath)\n",
    "dataframe = dataframe[[\"Time (UTC+10)\", \"Regions VIC Trading Price ($/MWh)\"]] # Select time and victoria prices\n",
    "dataframe.columns = [\"Time\", \"Price\"] # Rename columns\n",
    "dataframe[\"Time\"] = pd.to_datetime(dataframe[\"Time\"]) # Convert data type\n",
    "dataframe = dataframe.sort_values(\"Time\").reset_index(drop = True) # Finalise\n",
    "result = SandwichModel(dataframe)\n",
    "print(f\"Total Revenue for this dataset is : {pm.computeRevenue(result)}\")"
   ]
  },
  {
   "cell_type": "markdown",
   "id": "486a559c",
   "metadata": {},
   "source": [
    "### IF INPUT IS CSV FILE EXTENSTION"
   ]
  },
  {
   "cell_type": "code",
   "execution_count": null,
   "id": "4103e84f",
   "metadata": {},
   "outputs": [],
   "source": [
    "dataframe = pd.read_csv(input_filepath)\n",
    "dataframe = dataframe[[\"Time (UTC+10)\", \"Regions VIC Trading Price ($/MWh)\"]] # Select time and victoria prices\n",
    "dataframe.columns = [\"Time\", \"Price\"] # Rename columns\n",
    "dataframe[\"Time\"] = pd.to_datetime(dataframe[\"Time\"]) # Convert data type\n",
    "dataframe = dataframe.sort_values(\"Time\").reset_index(drop = True) # Finalise\n",
    "result = SandwichModel(dataframe)\n",
    "print(f\"Total Revenue for this dataset is : {pm.computeRevenue(result)}\")"
   ]
  },
  {
   "cell_type": "markdown",
   "id": "89be7fd1",
   "metadata": {},
   "source": [
    "### SAVE TO EXCEL"
   ]
  },
  {
   "cell_type": "code",
   "execution_count": null,
   "id": "5c32d870",
   "metadata": {},
   "outputs": [],
   "source": [
    "result.to_excel(output_filepath, index = False)"
   ]
  },
  {
   "cell_type": "markdown",
   "id": "b91c9e18",
   "metadata": {},
   "source": [
    "### SAVE TO CSV"
   ]
  },
  {
   "cell_type": "code",
   "execution_count": null,
   "id": "36e6e9d7",
   "metadata": {},
   "outputs": [],
   "source": [
    "result.to_csv(output_filepath, index = False)"
   ]
  }
 ],
 "metadata": {
  "kernelspec": {
   "display_name": "Python 3 (ipykernel)",
   "language": "python",
   "name": "python3"
  },
  "language_info": {
   "codemirror_mode": {
    "name": "ipython",
    "version": 3
   },
   "file_extension": ".py",
   "mimetype": "text/x-python",
   "name": "python",
   "nbconvert_exporter": "python",
   "pygments_lexer": "ipython3",
   "version": "3.7.11"
  }
 },
 "nbformat": 4,
 "nbformat_minor": 5
}
