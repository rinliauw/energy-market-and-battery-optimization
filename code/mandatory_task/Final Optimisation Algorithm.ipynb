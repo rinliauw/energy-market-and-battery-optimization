{
 "cells": [
  {
   "cell_type": "code",
   "execution_count": 1,
   "id": "5f1cd9b9",
   "metadata": {},
   "outputs": [],
   "source": [
    "import pandas as pd\n",
    "import numpy as np\n",
    "import time\n",
    "\n",
    "import PeriodMaximisation as pm\n",
    "from Battery import Battery\n",
    "\n",
    "%run ./FirstModel.ipynb"
   ]
  },
  {
   "cell_type": "code",
   "execution_count": 2,
   "id": "246824f4",
   "metadata": {},
   "outputs": [],
   "source": [
    "def ConvertFormat_StoA(df):\n",
    "    \n",
    "    # Converting simple format to actual format\n",
    "    df[\"Power\"] = np.where(df[\"Status\"] == \"Charge\", df[\"Actual\"] * 2, df[\"Actual\"] * 2 / 0.9)\n",
    "    df = pm.renameColumns(df[[\"Time\", \"Price\", \"Power\", \"Actual\", \"Opening Capacity\", \"Closing Capacity\"]])\n",
    "    \n",
    "    return df\n",
    "\n",
    "def ConvertFormat_AtoS(act, df):\n",
    "    \n",
    "    # Converting actual format to simple format\n",
    "    act = act[[\"Time (UTC+10)\", \"Regions VIC Trading Price ($/MWh)\", \n",
    "               \"Market Dispatch (MWh)\", \"Opening Capacity (MWh)\", \n",
    "               \"Closing Capacity (MWh)\"]] # Select time and victoria prices\n",
    "    act.columns = [\"Time\", \"Price\", \"Actual\", \"Opening Capacity\", \"Closing Capacity\"] # Rename columns\n",
    "    #act[\"Time\"] = pd.to_datetime(df[\"Time\"]) # Convert data type\n",
    "    #act = act.sort_values(\"Time\").reset_index(drop = True) # Finalise\n",
    "    act[\"Restrict\"] = - np.where(act[\"Actual\"] <= 0, act[\"Actual\"] * 0.9, act[\"Actual\"] / 0.9)\n",
    "    act[\"Status\"] = np.where(act[\"Actual\"] < 0, \"Charge\", np.where(act[\"Actual\"] > 0, \"Discharge\", \"Do Nothing\"))\n",
    "    #act.index += 1\n",
    "    #sim = pd.merge(df[\"Time\"], act.drop(\"Time\", axis = 1), left_index = True, right_index = True)\n",
    "    # Questions:\n",
    "    # why merge instead of just selecting and use the actual? and you don't need to convert it todatetime as it already datetime\n",
    "    # when you read the file.\n",
    "    \n",
    "    return act"
   ]
  },
  {
   "cell_type": "code",
   "execution_count": 3,
   "id": "725bcdf2",
   "metadata": {},
   "outputs": [],
   "source": [
    "def model1(df, n = 17):\n",
    "    Model = MovingAverage(n, df)\n",
    "    Model = Maximisation(Model, df)\n",
    "    Model = LossRemoval(Model)\n",
    "    Model = Stationary(Model, df)\n",
    "    Model = ShiftAction(Model, df)\n",
    "    \n",
    "    return Model\n",
    "\n",
    "def model2(df):\n",
    "    \n",
    "    # Converting format\n",
    "    df = ConvertFormat_StoA(df)\n",
    "    \n",
    "    # Get time period\n",
    "    time = pm.getTimePeriod(df)\n",
    "    \n",
    "    # Run Dependendy Optimisation Algorithm\n",
    "    findf = pm.DependencyOptimisation(df, time)\n",
    "    \n",
    "    # Convert back format\n",
    "    findf = ConvertFormat_AtoS(findf, df)\n",
    "    \n",
    "    return findf\n",
    "\n",
    "def model3(df):\n",
    "    \n",
    "    Model = Maximisation(df = df)\n",
    "    Model = Stationary(Model)\n",
    "    Model = ShiftAction(Model)\n",
    "\n",
    "    return Model\n",
    "\n",
    "def finalModel(original_data):\n",
    "    tmp = original_data.copy()\n",
    "    start = time.time()\n",
    "    print(\"Calculating First Step\")\n",
    "    df = model1(tmp, n = 17)\n",
    "    first = time.time()\n",
    "    print(f\"It took {first - start} seconds for First Step\")\n",
    "    print(\"Calculating Second Step\")\n",
    "    df = model2(df)\n",
    "    second = time.time()\n",
    "    print(f\"It took {second - first} seconds for Second Step\")\n",
    "    print(\"Calculating Final Step\")\n",
    "    df = model3(df)\n",
    "    third = time.time()\n",
    "    print(f\"It took {third - second} seconds for Third Step\")\n",
    "    print(\"\\n\")\n",
    "    total = time.time()\n",
    "    print(f\"In total it took {total - start} seconds\")\n",
    "    return df"
   ]
  },
  {
   "cell_type": "markdown",
   "id": "302468e4",
   "metadata": {},
   "source": [
    "### All Data"
   ]
  },
  {
   "cell_type": "code",
   "execution_count": null,
   "id": "43f50e01",
   "metadata": {},
   "outputs": [],
   "source": [
    "df = pd.read_excel(\"../../preprocessed_data/original_data.xlsx\") # Open original data\n",
    "df = df[[\"Time (UTC+10)\", \"Regions VIC Trading Price ($/MWh)\"]] # Select time and victoria prices\n",
    "df.columns = [\"Time\", \"Price\"] # Rename columns\n",
    "df[\"Time\"] = pd.to_datetime(df[\"Time\"]) # Convert data type\n",
    "df = df.sort_values(\"Time\").reset_index(drop = True) # Finalise"
   ]
  },
  {
   "cell_type": "code",
   "execution_count": null,
   "id": "248df9f3",
   "metadata": {},
   "outputs": [],
   "source": [
    "final_result = finalModel(df)"
   ]
  },
  {
   "cell_type": "markdown",
   "id": "719acede",
   "metadata": {},
   "source": [
    "### Training Set"
   ]
  },
  {
   "cell_type": "code",
   "execution_count": null,
   "id": "aabd9cf1",
   "metadata": {},
   "outputs": [],
   "source": [
    "train_df = pd.read_excel(\"../../preprocessed_data/training_data.xlsx\") # Open original data\n",
    "train_df = train_df[[\"Time (UTC+10)\", \"Regions VIC Trading Price ($/MWh)\"]] # Select time and victoria prices\n",
    "train_df.columns = [\"Time\", \"Price\"] # Rename columns\n",
    "train_df[\"Time\"] = pd.to_datetime(train_df[\"Time\"]) # Convert data type\n",
    "train_df = train_df.sort_values(\"Time\").reset_index(drop = True) # Finalise"
   ]
  },
  {
   "cell_type": "code",
   "execution_count": null,
   "id": "b0e7257a",
   "metadata": {},
   "outputs": [],
   "source": [
    "train_df"
   ]
  },
  {
   "cell_type": "markdown",
   "id": "ccd165f2",
   "metadata": {},
   "source": [
    "### Testing Set"
   ]
  },
  {
   "cell_type": "code",
   "execution_count": 4,
   "id": "d0414f2a",
   "metadata": {},
   "outputs": [],
   "source": [
    "test_df = pd.read_excel(\"../../preprocessed_data/testing_data.xlsx\") # Open original data\n",
    "test_df = test_df[[\"Time (UTC+10)\", \"Regions VIC Trading Price ($/MWh)\"]] # Select time and victoria prices\n",
    "test_df.columns = [\"Time\", \"Price\"] # Rename columns\n",
    "test_df[\"Time\"] = pd.to_datetime(test_df[\"Time\"]) # Convert data type\n",
    "test_df = test_df.sort_values(\"Time\").reset_index(drop = True) # Finalise"
   ]
  },
  {
   "cell_type": "code",
   "execution_count": 5,
   "id": "bb81ab18",
   "metadata": {},
   "outputs": [
    {
     "data": {
      "text/html": [
       "<div>\n",
       "<style scoped>\n",
       "    .dataframe tbody tr th:only-of-type {\n",
       "        vertical-align: middle;\n",
       "    }\n",
       "\n",
       "    .dataframe tbody tr th {\n",
       "        vertical-align: top;\n",
       "    }\n",
       "\n",
       "    .dataframe thead th {\n",
       "        text-align: right;\n",
       "    }\n",
       "</style>\n",
       "<table border=\"1\" class=\"dataframe\">\n",
       "  <thead>\n",
       "    <tr style=\"text-align: right;\">\n",
       "      <th></th>\n",
       "      <th>Time</th>\n",
       "      <th>Price</th>\n",
       "    </tr>\n",
       "  </thead>\n",
       "  <tbody>\n",
       "    <tr>\n",
       "      <th>0</th>\n",
       "      <td>2021-07-01 00:30:00</td>\n",
       "      <td>90.51</td>\n",
       "    </tr>\n",
       "    <tr>\n",
       "      <th>1</th>\n",
       "      <td>2021-07-01 01:00:00</td>\n",
       "      <td>73.91</td>\n",
       "    </tr>\n",
       "    <tr>\n",
       "      <th>2</th>\n",
       "      <td>2021-07-01 01:30:00</td>\n",
       "      <td>33.79</td>\n",
       "    </tr>\n",
       "    <tr>\n",
       "      <th>3</th>\n",
       "      <td>2021-07-01 02:00:00</td>\n",
       "      <td>43.57</td>\n",
       "    </tr>\n",
       "    <tr>\n",
       "      <th>4</th>\n",
       "      <td>2021-07-01 02:30:00</td>\n",
       "      <td>45.90</td>\n",
       "    </tr>\n",
       "    <tr>\n",
       "      <th>...</th>\n",
       "      <td>...</td>\n",
       "      <td>...</td>\n",
       "    </tr>\n",
       "    <tr>\n",
       "      <th>2155</th>\n",
       "      <td>2021-08-14 22:00:00</td>\n",
       "      <td>49.93</td>\n",
       "    </tr>\n",
       "    <tr>\n",
       "      <th>2156</th>\n",
       "      <td>2021-08-14 22:30:00</td>\n",
       "      <td>62.86</td>\n",
       "    </tr>\n",
       "    <tr>\n",
       "      <th>2157</th>\n",
       "      <td>2021-08-14 23:00:00</td>\n",
       "      <td>32.26</td>\n",
       "    </tr>\n",
       "    <tr>\n",
       "      <th>2158</th>\n",
       "      <td>2021-08-14 23:30:00</td>\n",
       "      <td>25.10</td>\n",
       "    </tr>\n",
       "    <tr>\n",
       "      <th>2159</th>\n",
       "      <td>2021-08-15 00:00:00</td>\n",
       "      <td>8.73</td>\n",
       "    </tr>\n",
       "  </tbody>\n",
       "</table>\n",
       "<p>2160 rows × 2 columns</p>\n",
       "</div>"
      ],
      "text/plain": [
       "                    Time  Price\n",
       "0    2021-07-01 00:30:00  90.51\n",
       "1    2021-07-01 01:00:00  73.91\n",
       "2    2021-07-01 01:30:00  33.79\n",
       "3    2021-07-01 02:00:00  43.57\n",
       "4    2021-07-01 02:30:00  45.90\n",
       "...                  ...    ...\n",
       "2155 2021-08-14 22:00:00  49.93\n",
       "2156 2021-08-14 22:30:00  62.86\n",
       "2157 2021-08-14 23:00:00  32.26\n",
       "2158 2021-08-14 23:30:00  25.10\n",
       "2159 2021-08-15 00:00:00   8.73\n",
       "\n",
       "[2160 rows x 2 columns]"
      ]
     },
     "execution_count": 5,
     "metadata": {},
     "output_type": "execute_result"
    }
   ],
   "source": [
    "test_df"
   ]
  },
  {
   "cell_type": "code",
   "execution_count": 6,
   "id": "6634c94c",
   "metadata": {
    "scrolled": true
   },
   "outputs": [
    {
     "name": "stdout",
     "output_type": "stream",
     "text": [
      "Calculating First Step\n",
      "It took 4.111382484436035 seconds for First Step\n",
      "Calculating Second Step\n",
      "It took 33.51155948638916 seconds for Second Step\n",
      "Calculating Final Step\n"
     ]
    },
    {
     "ename": "TypeError",
     "evalue": "Maximisation() missing 1 required positional argument: 'MX'",
     "output_type": "error",
     "traceback": [
      "\u001b[1;31m---------------------------------------------------------------------------\u001b[0m",
      "\u001b[1;31mTypeError\u001b[0m                                 Traceback (most recent call last)",
      "\u001b[1;32m~\\AppData\\Local\\Temp/ipykernel_18416/2543077958.py\u001b[0m in \u001b[0;36m<module>\u001b[1;34m\u001b[0m\n\u001b[1;32m----> 1\u001b[1;33m \u001b[0mfinal_testing_result\u001b[0m \u001b[1;33m=\u001b[0m \u001b[0mfinalModel\u001b[0m\u001b[1;33m(\u001b[0m\u001b[0mtest_df\u001b[0m\u001b[1;33m)\u001b[0m\u001b[1;33m\u001b[0m\u001b[1;33m\u001b[0m\u001b[0m\n\u001b[0m",
      "\u001b[1;32m~\\AppData\\Local\\Temp/ipykernel_18416/1984448976.py\u001b[0m in \u001b[0;36mfinalModel\u001b[1;34m(original_data)\u001b[0m\n\u001b[0;32m     44\u001b[0m     \u001b[0mprint\u001b[0m\u001b[1;33m(\u001b[0m\u001b[1;34mf\"It took {second - first} seconds for Second Step\"\u001b[0m\u001b[1;33m)\u001b[0m\u001b[1;33m\u001b[0m\u001b[1;33m\u001b[0m\u001b[0m\n\u001b[0;32m     45\u001b[0m     \u001b[0mprint\u001b[0m\u001b[1;33m(\u001b[0m\u001b[1;34m\"Calculating Final Step\"\u001b[0m\u001b[1;33m)\u001b[0m\u001b[1;33m\u001b[0m\u001b[1;33m\u001b[0m\u001b[0m\n\u001b[1;32m---> 46\u001b[1;33m     \u001b[0mdf\u001b[0m \u001b[1;33m=\u001b[0m \u001b[0mmodel3\u001b[0m\u001b[1;33m(\u001b[0m\u001b[0mdf\u001b[0m\u001b[1;33m)\u001b[0m\u001b[1;33m\u001b[0m\u001b[1;33m\u001b[0m\u001b[0m\n\u001b[0m\u001b[0;32m     47\u001b[0m     \u001b[0mthird\u001b[0m \u001b[1;33m=\u001b[0m \u001b[0mtime\u001b[0m\u001b[1;33m.\u001b[0m\u001b[0mtime\u001b[0m\u001b[1;33m(\u001b[0m\u001b[1;33m)\u001b[0m\u001b[1;33m\u001b[0m\u001b[1;33m\u001b[0m\u001b[0m\n\u001b[0;32m     48\u001b[0m     \u001b[0mprint\u001b[0m\u001b[1;33m(\u001b[0m\u001b[1;34mf\"It took {third - second} seconds for Third Step\"\u001b[0m\u001b[1;33m)\u001b[0m\u001b[1;33m\u001b[0m\u001b[1;33m\u001b[0m\u001b[0m\n",
      "\u001b[1;32m~\\AppData\\Local\\Temp/ipykernel_18416/1984448976.py\u001b[0m in \u001b[0;36mmodel3\u001b[1;34m(df)\u001b[0m\n\u001b[0;32m     26\u001b[0m \u001b[1;32mdef\u001b[0m \u001b[0mmodel3\u001b[0m\u001b[1;33m(\u001b[0m\u001b[0mdf\u001b[0m\u001b[1;33m)\u001b[0m\u001b[1;33m:\u001b[0m\u001b[1;33m\u001b[0m\u001b[1;33m\u001b[0m\u001b[0m\n\u001b[0;32m     27\u001b[0m \u001b[1;33m\u001b[0m\u001b[0m\n\u001b[1;32m---> 28\u001b[1;33m     \u001b[0mModel\u001b[0m \u001b[1;33m=\u001b[0m \u001b[0mMaximisation\u001b[0m\u001b[1;33m(\u001b[0m\u001b[0mdf\u001b[0m \u001b[1;33m=\u001b[0m \u001b[0mdf\u001b[0m\u001b[1;33m)\u001b[0m\u001b[1;33m\u001b[0m\u001b[1;33m\u001b[0m\u001b[0m\n\u001b[0m\u001b[0;32m     29\u001b[0m     \u001b[0mModel\u001b[0m \u001b[1;33m=\u001b[0m \u001b[0mStationary\u001b[0m\u001b[1;33m(\u001b[0m\u001b[0mModel\u001b[0m\u001b[1;33m)\u001b[0m\u001b[1;33m\u001b[0m\u001b[1;33m\u001b[0m\u001b[0m\n\u001b[0;32m     30\u001b[0m     \u001b[0mModel\u001b[0m \u001b[1;33m=\u001b[0m \u001b[0mShiftAction\u001b[0m\u001b[1;33m(\u001b[0m\u001b[0mModel\u001b[0m\u001b[1;33m)\u001b[0m\u001b[1;33m\u001b[0m\u001b[1;33m\u001b[0m\u001b[0m\n",
      "\u001b[1;31mTypeError\u001b[0m: Maximisation() missing 1 required positional argument: 'MX'"
     ]
    }
   ],
   "source": [
    "final_testing_result = finalModel(test_df)"
   ]
  },
  {
   "cell_type": "code",
   "execution_count": null,
   "id": "87f0d689",
   "metadata": {},
   "outputs": [],
   "source": []
  }
 ],
 "metadata": {
  "kernelspec": {
   "display_name": "Python 3 (ipykernel)",
   "language": "python",
   "name": "python3"
  },
  "language_info": {
   "codemirror_mode": {
    "name": "ipython",
    "version": 3
   },
   "file_extension": ".py",
   "mimetype": "text/x-python",
   "name": "python",
   "nbconvert_exporter": "python",
   "pygments_lexer": "ipython3",
   "version": "3.7.11"
  }
 },
 "nbformat": 4,
 "nbformat_minor": 5
}
