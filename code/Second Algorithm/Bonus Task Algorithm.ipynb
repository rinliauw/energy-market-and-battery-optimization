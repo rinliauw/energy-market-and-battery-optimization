{
 "cells": [
  {
   "cell_type": "code",
   "execution_count": 1,
   "id": "36599683",
   "metadata": {},
   "outputs": [],
   "source": [
    "import tensorflow as tf\n",
    "import matplotlib.pyplot as plt\n",
    "import numpy as np\n",
    "import pandas as pd\n",
    "import seaborn as sns\n",
    "import math"
   ]
  },
  {
   "cell_type": "code",
   "execution_count": 12,
   "id": "3953f426",
   "metadata": {},
   "outputs": [],
   "source": [
    "market_data = pd.read_excel(\"../../raw_data/market_data.xlsx\")\n",
    "market_data.drop(index=market_data.index[0], axis=0, inplace=True)\n",
    "market_data = market_data.reset_index(drop = True)\n",
    "\n",
    "# Create a period for a whole day which are 48 as\n",
    "# Spot prices are taken by the 30 minutes mark.\n",
    "period = []\n",
    "count = 1\n",
    "for i in range(1, len(market_data) + 1):\n",
    "    period.append(count)\n",
    "    count += 1\n",
    "    if (i % 48) == 0:\n",
    "        count = 1\n",
    "        \n",
    "market_data['Period'] = pd.Series(period)\n",
    "market_data['Time (UTC+10)'] = pd.to_datetime(market_data['Time (UTC+10)'])"
   ]
  },
  {
   "cell_type": "code",
   "execution_count": 14,
   "id": "7dc1d678",
   "metadata": {},
   "outputs": [],
   "source": [
    "vic_data = market_data[['Time (UTC+10)','Regions VIC Trading Price ($/MWh)']].copy()\n",
    "vic_data.set_index('Time (UTC+10)', inplace = True)"
   ]
  },
  {
   "cell_type": "code",
   "execution_count": 24,
   "id": "5dc1a0ba",
   "metadata": {},
   "outputs": [
    {
     "data": {
      "image/png": "[encoded data removed]",
      "text/plain": [
       "<Figure size 1296x360 with 1 Axes>"
      ]
     },
     "metadata": {
      "needs_background": "light"
     },
     "output_type": "display_data"
    }
   ],
   "source": [
    "train = vic_data.iloc[:61296, :].copy()\n",
    "test = vic_data.iloc[61296:, :].copy()\n",
    "\n",
    "plt.figure(figsize=(18,5))\n",
    "plt.title('Victoria Spot Price')\n",
    "plt.plot(train['Regions VIC Trading Price ($/MWh)'], color='teal')\n",
    "plt.plot(test['Regions VIC Trading Price ($/MWh)'], color='orangered')\n",
    "plt.legend(['Train','Test'])\n",
    "plt.xlabel('DateTime')\n",
    "plt.ylabel('Spot Price')\n",
    "plt.show()"
   ]
  },
  {
   "cell_type": "markdown",
   "id": "bbe3687f",
   "metadata": {},
   "source": [
    "### Rescaling both Training and Testing dataset"
   ]
  },
  {
   "cell_type": "code",
   "execution_count": 25,
   "id": "c7b36f22",
   "metadata": {},
   "outputs": [],
   "source": [
    "from sklearn.preprocessing import MinMaxScaler\n",
    "\n",
    "scaler = MinMaxScaler(feature_range = (0, 1))"
   ]
  },
  {
   "cell_type": "code",
   "execution_count": 26,
   "id": "a28e6219",
   "metadata": {},
   "outputs": [
    {
     "data": {
      "text/plain": [
       "array([[0.05000075],\n",
       "       [0.04968598],\n",
       "       [0.04874037],\n",
       "       ...,\n",
       "       [0.04790012],\n",
       "       [0.04879045],\n",
       "       [0.04735058]])"
      ]
     },
     "execution_count": 26,
     "metadata": {},
     "output_type": "execute_result"
    }
   ],
   "source": [
    "scaled_train = scaler.fit_transform(train.values)\n",
    "scaled_train"
   ]
  },
  {
   "cell_type": "code",
   "execution_count": 27,
   "id": "f26f9740",
   "metadata": {},
   "outputs": [
    {
     "data": {
      "text/plain": [
       "array([[0.05980948],\n",
       "       [0.05363473],\n",
       "       [0.03871119],\n",
       "       ...,\n",
       "       [0.03814207],\n",
       "       [0.03547875],\n",
       "       [0.02938956]])"
      ]
     },
     "execution_count": 27,
     "metadata": {},
     "output_type": "execute_result"
    }
   ],
   "source": [
    "scaled_test = scaler.fit_transform(test.values)\n",
    "scaled_test"
   ]
  },
  {
   "cell_type": "markdown",
   "id": "b7b023cf",
   "metadata": {},
   "source": [
    "### Splitting Training and Validation into features and target variables "
   ]
  },
  {
   "cell_type": "code",
   "execution_count": 29,
   "id": "1eddbf39",
   "metadata": {},
   "outputs": [],
   "source": [
    "PERIOD = 48\n",
    "\n",
    "train_data = scaled_train[0 : len(scaled_train), :]\n",
    "X_train = []\n",
    "y_train = []\n",
    "\n",
    "for i in range(PERIOD, len(train_data)):\n",
    "    X_train.append(train_data[i - PERIOD:i, 0])\n",
    "    y_train.append(train_data[i, 0])"
   ]
  },
  {
   "cell_type": "code",
   "execution_count": null,
   "id": "325ffc9a",
   "metadata": {},
   "outputs": [],
   "source": [
    "valid_data = scaled_vic_train[training_data_len - PERIOD:, :]\n",
    "\n",
    "X_valid = []\n",
    "y_valid = vic_train_data.values[training_data_len:, :]\n",
    "\n",
    "for i in range(PERIOD, len(valid_data)):\n",
    "    X_valid.append(valid_data[i - PERIOD:i, 0])"
   ]
  },
  {
   "cell_type": "markdown",
   "id": "2b93a436",
   "metadata": {},
   "source": [
    "### Convert Splitted Dataset into Numpy Arrays and Reshaping"
   ]
  },
  {
   "cell_type": "code",
   "execution_count": null,
   "id": "584323fe",
   "metadata": {},
   "outputs": [],
   "source": [
    "X_train, y_train = np.array(X_train), np.array(y_train)\n",
    "X_train = np.reshape(X_train, (X_train.shape[0], X_train.shape[1], 1))\n",
    "\n",
    "X_valid = np.array(X_valid)\n",
    "X_valid = np.reshape(X_valid, (X_valid.shape[0], X_valid.shape[1], 1))"
   ]
  },
  {
   "cell_type": "markdown",
   "id": "5efab5e2",
   "metadata": {},
   "source": [
    "## Model Training"
   ]
  },
  {
   "cell_type": "code",
   "execution_count": null,
   "id": "58950bcc",
   "metadata": {},
   "outputs": [],
   "source": [
    "from tensorflow.keras import Sequential\n",
    "from tensorflow.keras.layers import Dense, LSTM"
   ]
  },
  {
   "cell_type": "markdown",
   "id": "14d672a4",
   "metadata": {},
   "source": [
    "### Vanilla LSTM Model with Spot Price"
   ]
  },
  {
   "cell_type": "code",
   "execution_count": null,
   "id": "38d690a4",
   "metadata": {},
   "outputs": [],
   "source": [
    "model = Sequential()\n",
    "model.add(LSTM(50, return_sequences = True, input_shape = (48, 1)))\n",
    "model.add(LSTM(50, return_sequences = False))\n",
    "model.add(Dense(25))\n",
    "model.add(Dense(1))"
   ]
  },
  {
   "cell_type": "code",
   "execution_count": null,
   "id": "bf195f5f",
   "metadata": {},
   "outputs": [],
   "source": [
    "model.compile(optimizer = 'sgd', loss = 'mse')"
   ]
  },
  {
   "cell_type": "code",
   "execution_count": null,
   "id": "4f544eac",
   "metadata": {},
   "outputs": [],
   "source": [
    "model.fit(X_train, y_train, batch_size = 1, epochs = 1)"
   ]
  },
  {
   "cell_type": "markdown",
   "id": "afae233f",
   "metadata": {},
   "source": [
    "### Predictions"
   ]
  },
  {
   "cell_type": "code",
   "execution_count": null,
   "id": "63a6f5d8",
   "metadata": {},
   "outputs": [],
   "source": [
    "predictions = model.predict(X_valid)\n",
    "predictions = scaler.inverse_transform(predictions)"
   ]
  },
  {
   "cell_type": "code",
   "execution_count": null,
   "id": "6602ad57",
   "metadata": {},
   "outputs": [],
   "source": [
    "rmse = np.sqrt(np.mean(predictions - y_valid)**2)\n",
    "rmse"
   ]
  },
  {
   "cell_type": "markdown",
   "id": "9e32d7c3",
   "metadata": {},
   "source": [
    "### Plot the data"
   ]
  },
  {
   "cell_type": "code",
   "execution_count": null,
   "id": "b97a790e",
   "metadata": {},
   "outputs": [],
   "source": [
    "train = training_set[:training_data_len]\n",
    "valid = training_set[training_data_len:]\n",
    "valid['Predictions'] = predictions\n",
    "\n",
    "plt.figure(figsize = (16, 8))\n",
    "plt.title('Model')\n",
    "plt.xlabel(\"DateTime\", fontsize = 18)\n",
    "plt.ylabel(\"Victoria Spot Price per 30 min\", fontsize = 18)\n",
    "plt.plot(train['Regions VIC Trading Price ($/MWh)'])\n",
    "plt.plot(valid['Regions VIC Trading Price ($/MWh)', 'Predictions'])\n",
    "plt.legends(['Train', 'Val', 'Predictions'], loc = 'lower right')\n",
    "plt.show()"
   ]
  },
  {
   "cell_type": "code",
   "execution_count": null,
   "id": "30dd37db",
   "metadata": {},
   "outputs": [],
   "source": []
  }
 ],
 "metadata": {
  "kernelspec": {
   "display_name": "Python 3 (ipykernel)",
   "language": "python",
   "name": "python3"
  },
  "language_info": {
   "codemirror_mode": {
    "name": "ipython",
    "version": 3
   },
   "file_extension": ".py",
   "mimetype": "text/x-python",
   "name": "python",
   "nbconvert_exporter": "python",
   "pygments_lexer": "ipython3",
   "version": "3.7.11"
  },
  "varInspector": {
   "cols": {
    "lenName": 16,
    "lenType": 16,
    "lenVar": 40
   },
   "kernels_config": {
    "python": {
     "delete_cmd_postfix": "",
     "delete_cmd_prefix": "del ",
     "library": "var_list.py",
     "varRefreshCmd": "print(var_dic_list())"
    },
    "r": {
     "delete_cmd_postfix": ") ",
     "delete_cmd_prefix": "rm(",
     "library": "var_list.r",
     "varRefreshCmd": "cat(var_dic_list()) "
    }
   },
   "types_to_exclude": [
    "module",
    "function",
    "builtin_function_or_method",
    "instance",
    "_Feature"
   ],
   "window_display": false
  }
 },
 "nbformat": 4,
 "nbformat_minor": 5
}
