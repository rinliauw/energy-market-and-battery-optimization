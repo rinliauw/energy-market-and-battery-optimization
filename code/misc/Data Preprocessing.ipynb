{
 "cells": [
  {
   "cell_type": "code",
   "execution_count": 3,
   "id": "4a37bb69",
   "metadata": {},
   "outputs": [],
   "source": [
    "import pandas as pd"
   ]
  },
  {
   "cell_type": "code",
   "execution_count": 4,
   "id": "33de27d5",
   "metadata": {},
   "outputs": [],
   "source": [
    "df = pd.read_excel(\"../../raw_data/market_data.xlsx\") # Open original data"
   ]
  },
  {
   "cell_type": "code",
   "execution_count": 5,
   "id": "0d5b9750",
   "metadata": {},
   "outputs": [],
   "source": [
    "# Drop first column as it is 00:00:00 and not the first period\n",
    "df.drop(index=df.index[0], axis=0, inplace=True)\n",
    "df = df.reset_index(drop = True)\n",
    "df.to_excel(\"../../preprocessed_data/original_data.xlsx\", index = False)"
   ]
  },
  {
   "cell_type": "markdown",
   "id": "400a6198",
   "metadata": {},
   "source": [
    "### Training Set"
   ]
  },
  {
   "cell_type": "code",
   "execution_count": 8,
   "id": "74d8ac26",
   "metadata": {},
   "outputs": [],
   "source": [
    "# TRAINING SET\n",
    "# Training period IS FROM 01/01/2018 to 30/06/2021 PROVIDED IN THE SPEC (3.5 YEARS)\n",
    "train_start_period = '2018-01-01 00:30:00'\n",
    "train_end_period   = '2021-07-01 00:00:00'\n",
    "\n",
    "train_period = (df['Time (UTC+10)'] >= train_start_period) & \\\n",
    "               (df['Time (UTC+10)'] <= train_end_period)\n",
    "\n",
    "train_data = df[train_period]\n",
    "train_data.to_excel(\"../../preprocessed_data/training_data.xlsx\", index = False)"
   ]
  },
  {
   "cell_type": "code",
   "execution_count": 9,
   "id": "e4ab2f51",
   "metadata": {},
   "outputs": [],
   "source": [
    "# TESTING SET\n",
    "# TESTING PERIOD IS FROM 01/07/2021 TO 14/08/2021 PROVIDED IN THE SPEC (6 WEEKS)\n",
    "test_start_period = '2021-07-01 00:30:00'\n",
    "test_end_period = '2021-08-15 00:00:00'\n",
    "\n",
    "test_period = (df['Time (UTC+10)'] >= test_start_period) & \\\n",
    "               (df['Time (UTC+10)'] <= test_end_period)\n",
    "\n",
    "test_data = df[test_period]\n",
    "test_data.to_excel(\"../../preprocessed_data/testing_data.xlsx\", index = False)"
   ]
  }
 ],
 "metadata": {
  "kernelspec": {
   "display_name": "Python 3 (ipykernel)",
   "language": "python",
   "name": "python3"
  },
  "language_info": {
   "codemirror_mode": {
    "name": "ipython",
    "version": 3
   },
   "file_extension": ".py",
   "mimetype": "text/x-python",
   "name": "python",
   "nbconvert_exporter": "python",
   "pygments_lexer": "ipython3",
   "version": "3.7.11"
  }
 },
 "nbformat": 4,
 "nbformat_minor": 5
}
