{
 "cells": [
  {
   "cell_type": "code",
   "execution_count": 1,
   "id": "ad7cf1c5",
   "metadata": {},
   "outputs": [
    {
     "name": "stdout",
     "output_type": "stream",
     "text": [
      "Collecting package metadata (current_repodata.json): done\n",
      "Solving environment: done\n",
      "\n",
      "# All requested packages already installed.\n",
      "\n"
     ]
    }
   ],
   "source": [
    "# Uncomment the below command if you don't have openpyxl\n",
    "!conda install openpyxl"
   ]
  },
  {
   "cell_type": "code",
<<<<<<< HEAD:deprecated/Mandatory Task DP.ipynb
=======
   "execution_count": 1,
   "id": "47bca762",
   "metadata": {},
   "outputs": [
    {
     "name": "stdout",
     "output_type": "stream",
     "text": [
      "Requirement already satisfied: xlrd==1.2.0 in /opt/anaconda3/lib/python3.7/site-packages (1.2.0)\n",
      "Note: you may need to restart the kernel to use updated packages.\n"
     ]
    }
   ],
   "source": [
    "pip install xlrd==1.2.0\n"
   ]
  },
  {
   "cell_type": "code",
>>>>>>> main:code/misc/Mandatory Task DP.ipynb
   "execution_count": 2,
   "id": "917ec2ff",
   "metadata": {},
   "outputs": [],
   "source": [
    "import pandas as pd\n",
    "import seaborn as sns\n",
    "import matplotlib.pyplot as plt"
   ]
  },
  {
   "cell_type": "code",
   "execution_count": 3,
   "id": "82a16e71",
   "metadata": {
    "scrolled": true
   },
   "outputs": [],
   "source": [
    "market_data = pd.read_excel(\"../../raw_data/market_data.xlsx\")"
   ]
  },
  {
   "cell_type": "markdown",
   "id": "a407af46",
   "metadata": {},
   "source": [
    "### Missing Values"
   ]
  },
  {
   "cell_type": "code",
   "execution_count": 4,
   "id": "93dc3293",
   "metadata": {
    "scrolled": true
   },
   "outputs": [
    {
     "data": {
      "text/plain": [
       "Time (UTC+10)                                             0\n",
       "Regions NSW Trading Price ($/MWh)                         0\n",
       "Regions SA Trading Price ($/MWh)                          0\n",
       "Regions TAS Trading Price ($/MWh)                         0\n",
       "Regions VIC Trading Price ($/MWh)                         0\n",
       "Regions NSW Trading Total Intermittent Generation (MW)    0\n",
       "Regions SA Trading Total Intermittent Generation (MW)     0\n",
       "Regions TAS Trading Total Intermittent Generation (MW)    0\n",
       "Regions VIC Trading Total Intermittent Generation (MW)    0\n",
       "Regions NSW Operational Demand (MW)                       0\n",
       "Regions SA Operational Demand (MW)                        0\n",
       "Regions TAS Operational Demand (MW)                       0\n",
       "Regions VIC Operational Demand (MW)                       0\n",
       "dtype: int64"
      ]
     },
     "execution_count": 4,
     "metadata": {},
     "output_type": "execute_result"
    }
   ],
   "source": [
    "market_data.isnull().sum()"
   ]
  },
  {
   "cell_type": "markdown",
   "id": "62dff2e5",
   "metadata": {},
   "source": [
    "> Apparently, no missing values are found!"
   ]
  },
  {
   "cell_type": "markdown",
   "id": "6525be9f",
   "metadata": {},
   "source": [
    "### Mandatory Task Training and Test set"
   ]
  },
  {
   "cell_type": "code",
   "execution_count": 5,
   "id": "6cc744ee",
   "metadata": {},
   "outputs": [],
   "source": [
    "# NOTE DATETIME IS IN 'YYYY-MM-DD HH:mm:ss' FORMAT\n",
    "market_data['Time (UTC+10)'] = pd.to_datetime(market_data['Time (UTC+10)'])"
   ]
  },
  {
   "cell_type": "code",
   "execution_count": 6,
<<<<<<< HEAD:deprecated/Mandatory Task DP.ipynb
   "id": "a7f9cb0e",
   "metadata": {},
   "outputs": [
    {
     "data": {
      "text/html": [
       "<div>\n",
       "<style scoped>\n",
       "    .dataframe tbody tr th:only-of-type {\n",
       "        vertical-align: middle;\n",
       "    }\n",
       "\n",
       "    .dataframe tbody tr th {\n",
       "        vertical-align: top;\n",
       "    }\n",
       "\n",
       "    .dataframe thead th {\n",
       "        text-align: right;\n",
       "    }\n",
       "</style>\n",
       "<table border=\"1\" class=\"dataframe\">\n",
       "  <thead>\n",
       "    <tr style=\"text-align: right;\">\n",
       "      <th></th>\n",
       "      <th>Time (UTC+10)</th>\n",
       "      <th>Regions NSW Trading Price ($/MWh)</th>\n",
       "      <th>Regions SA Trading Price ($/MWh)</th>\n",
       "      <th>Regions TAS Trading Price ($/MWh)</th>\n",
       "      <th>Regions VIC Trading Price ($/MWh)</th>\n",
       "      <th>Regions NSW Trading Total Intermittent Generation (MW)</th>\n",
       "      <th>Regions SA Trading Total Intermittent Generation (MW)</th>\n",
       "      <th>Regions TAS Trading Total Intermittent Generation (MW)</th>\n",
       "      <th>Regions VIC Trading Total Intermittent Generation (MW)</th>\n",
       "      <th>Regions NSW Operational Demand (MW)</th>\n",
       "      <th>Regions SA Operational Demand (MW)</th>\n",
       "      <th>Regions TAS Operational Demand (MW)</th>\n",
       "      <th>Regions VIC Operational Demand (MW)</th>\n",
       "    </tr>\n",
       "  </thead>\n",
       "  <tbody>\n",
       "    <tr>\n",
       "      <th>43806</th>\n",
       "      <td>2020-07-01 15:00:00</td>\n",
       "      <td>33.71</td>\n",
       "      <td>19.69</td>\n",
       "      <td>25.11</td>\n",
       "      <td>20.7</td>\n",
       "      <td>79.79</td>\n",
       "      <td>268.63</td>\n",
       "      <td>102.42</td>\n",
       "      <td>335.54</td>\n",
       "      <td>7779</td>\n",
       "      <td>1145</td>\n",
       "      <td>1189</td>\n",
       "      <td>5101</td>\n",
       "    </tr>\n",
       "  </tbody>\n",
       "</table>\n",
       "</div>"
      ],
      "text/plain": [
       "            Time (UTC+10)  Regions NSW Trading Price ($/MWh)  \\\n",
       "43806 2020-07-01 15:00:00                              33.71   \n",
       "\n",
       "       Regions SA Trading Price ($/MWh)  Regions TAS Trading Price ($/MWh)  \\\n",
       "43806                             19.69                              25.11   \n",
       "\n",
       "       Regions VIC Trading Price ($/MWh)  \\\n",
       "43806                               20.7   \n",
       "\n",
       "       Regions NSW Trading Total Intermittent Generation (MW)  \\\n",
       "43806                                              79.79        \n",
       "\n",
       "       Regions SA Trading Total Intermittent Generation (MW)  \\\n",
       "43806                                             268.63       \n",
       "\n",
       "       Regions TAS Trading Total Intermittent Generation (MW)  \\\n",
       "43806                                             102.42        \n",
       "\n",
       "       Regions VIC Trading Total Intermittent Generation (MW)  \\\n",
       "43806                                             335.54        \n",
       "\n",
       "       Regions NSW Operational Demand (MW)  \\\n",
       "43806                                 7779   \n",
       "\n",
       "       Regions SA Operational Demand (MW)  \\\n",
       "43806                                1145   \n",
       "\n",
       "       Regions TAS Operational Demand (MW)  \\\n",
       "43806                                 1189   \n",
       "\n",
       "       Regions VIC Operational Demand (MW)  \n",
       "43806                                 5101  "
      ]
     },
     "execution_count": 6,
     "metadata": {},
     "output_type": "execute_result"
    }
   ],
   "source": [
    "market_data.loc[market_data['Time (UTC+10)'] == \"2020-07-01 15:00:00\"]"
   ]
  },
  {
   "cell_type": "markdown",
   "id": "e056b8a8",
   "metadata": {},
   "source": [
    "> Checkpoint 2 Spot prices at 01/07/2020 15:00 is 55.93 ($/MWh)"
   ]
  },
  {
   "cell_type": "code",
   "execution_count": 5,
=======
>>>>>>> main:code/misc/Mandatory Task DP.ipynb
   "id": "1fad635c",
   "metadata": {},
   "outputs": [],
   "source": [
    "# TRAINING SET\n",
<<<<<<< HEAD:deprecated/Mandatory Task DP.ipynb
    "# Training period is from 01/01/2018 to 30/06/2021 provided in the spec\n",
    "train_start_period = '2018-07-17 00:00:00'\n",
    "train_end_period   = '2021-07-18 23:30:00'\n",
=======
    "# Training period IS FROM 01/01/2018 to 30/06/2021 PROVIDED IN THE SPEC (3.5 YEARS)\n",
    "train_start_period = '2018-01-01 00:30:00'\n",
    "train_end_period   = '2021-07-01 00:00:00'\n",
    "\n",
>>>>>>> main:code/misc/Mandatory Task DP.ipynb
    "\n",
    "train_period = (market_data['Time (UTC+10)'] >= train_start_period) & \\\n",
    "               (market_data['Time (UTC+10)'] <= train_end_period)"
   ]
  },
  {
   "cell_type": "code",
   "execution_count": 7,
   "id": "f6aeea0b",
   "metadata": {},
   "outputs": [],
   "source": [
    "train_data = market_data.loc[train_period]"
   ]
  },
  {
   "cell_type": "code",
   "execution_count": 8,
   "id": "93ff876f",
   "metadata": {},
   "outputs": [
    {
     "data": {
      "text/html": [
       "<div>\n",
       "<style scoped>\n",
       "    .dataframe tbody tr th:only-of-type {\n",
       "        vertical-align: middle;\n",
       "    }\n",
       "\n",
       "    .dataframe tbody tr th {\n",
       "        vertical-align: top;\n",
       "    }\n",
       "\n",
       "    .dataframe thead th {\n",
       "        text-align: right;\n",
       "    }\n",
       "</style>\n",
       "<table border=\"1\" class=\"dataframe\">\n",
       "  <thead>\n",
       "    <tr style=\"text-align: right;\">\n",
       "      <th></th>\n",
       "      <th>Time (UTC+10)</th>\n",
       "      <th>Regions NSW Trading Price ($/MWh)</th>\n",
       "      <th>Regions SA Trading Price ($/MWh)</th>\n",
       "      <th>Regions TAS Trading Price ($/MWh)</th>\n",
       "      <th>Regions VIC Trading Price ($/MWh)</th>\n",
       "      <th>Regions NSW Trading Total Intermittent Generation (MW)</th>\n",
       "      <th>Regions SA Trading Total Intermittent Generation (MW)</th>\n",
       "      <th>Regions TAS Trading Total Intermittent Generation (MW)</th>\n",
       "      <th>Regions VIC Trading Total Intermittent Generation (MW)</th>\n",
       "      <th>Regions NSW Operational Demand (MW)</th>\n",
       "      <th>Regions SA Operational Demand (MW)</th>\n",
       "      <th>Regions TAS Operational Demand (MW)</th>\n",
       "      <th>Regions VIC Operational Demand (MW)</th>\n",
       "    </tr>\n",
       "  </thead>\n",
       "  <tbody>\n",
       "    <tr>\n",
       "      <th>1</th>\n",
       "      <td>2018-01-01 00:30:00</td>\n",
       "      <td>91.86</td>\n",
       "      <td>107.17</td>\n",
       "      <td>92.28</td>\n",
       "      <td>92.46</td>\n",
       "      <td>0.15</td>\n",
       "      <td>43.07</td>\n",
       "      <td>118.73</td>\n",
       "      <td>131.68</td>\n",
       "      <td>6974</td>\n",
       "      <td>1359</td>\n",
       "      <td>1082</td>\n",
       "      <td>4398</td>\n",
       "    </tr>\n",
       "  </tbody>\n",
       "</table>\n",
       "</div>"
      ],
      "text/plain": [
       "        Time (UTC+10)  Regions NSW Trading Price ($/MWh)  \\\n",
       "1 2018-01-01 00:30:00                              91.86   \n",
       "\n",
       "   Regions SA Trading Price ($/MWh)  Regions TAS Trading Price ($/MWh)  \\\n",
       "1                            107.17                              92.28   \n",
       "\n",
       "   Regions VIC Trading Price ($/MWh)  \\\n",
       "1                              92.46   \n",
       "\n",
       "   Regions NSW Trading Total Intermittent Generation (MW)  \\\n",
       "1                                               0.15        \n",
       "\n",
       "   Regions SA Trading Total Intermittent Generation (MW)  \\\n",
       "1                                              43.07       \n",
       "\n",
       "   Regions TAS Trading Total Intermittent Generation (MW)  \\\n",
       "1                                             118.73        \n",
       "\n",
       "   Regions VIC Trading Total Intermittent Generation (MW)  \\\n",
       "1                                             131.68        \n",
       "\n",
       "   Regions NSW Operational Demand (MW)  Regions SA Operational Demand (MW)  \\\n",
       "1                                 6974                                1359   \n",
       "\n",
       "   Regions TAS Operational Demand (MW)  Regions VIC Operational Demand (MW)  \n",
       "1                                 1082                                 4398  "
      ]
     },
     "execution_count": 8,
     "metadata": {},
     "output_type": "execute_result"
    }
   ],
   "source": [
    "train_data.head(1)"
   ]
  },
  {
   "cell_type": "code",
   "execution_count": 9,
   "id": "252308d6",
   "metadata": {},
   "outputs": [
    {
     "data": {
      "text/html": [
       "<div>\n",
       "<style scoped>\n",
       "    .dataframe tbody tr th:only-of-type {\n",
       "        vertical-align: middle;\n",
       "    }\n",
       "\n",
       "    .dataframe tbody tr th {\n",
       "        vertical-align: top;\n",
       "    }\n",
       "\n",
       "    .dataframe thead th {\n",
       "        text-align: right;\n",
       "    }\n",
       "</style>\n",
       "<table border=\"1\" class=\"dataframe\">\n",
       "  <thead>\n",
       "    <tr style=\"text-align: right;\">\n",
       "      <th></th>\n",
       "      <th>Time (UTC+10)</th>\n",
       "      <th>Regions NSW Trading Price ($/MWh)</th>\n",
       "      <th>Regions SA Trading Price ($/MWh)</th>\n",
       "      <th>Regions TAS Trading Price ($/MWh)</th>\n",
       "      <th>Regions VIC Trading Price ($/MWh)</th>\n",
       "      <th>Regions NSW Trading Total Intermittent Generation (MW)</th>\n",
       "      <th>Regions SA Trading Total Intermittent Generation (MW)</th>\n",
       "      <th>Regions TAS Trading Total Intermittent Generation (MW)</th>\n",
       "      <th>Regions VIC Trading Total Intermittent Generation (MW)</th>\n",
       "      <th>Regions NSW Operational Demand (MW)</th>\n",
       "      <th>Regions SA Operational Demand (MW)</th>\n",
       "      <th>Regions TAS Operational Demand (MW)</th>\n",
       "      <th>Regions VIC Operational Demand (MW)</th>\n",
       "    </tr>\n",
       "  </thead>\n",
       "  <tbody>\n",
       "    <tr>\n",
       "      <th>61296</th>\n",
       "      <td>2021-07-01</td>\n",
       "      <td>73.25</td>\n",
       "      <td>102.24</td>\n",
       "      <td>60.91</td>\n",
       "      <td>51.71</td>\n",
       "      <td>4.35</td>\n",
       "      <td>4.76</td>\n",
       "      <td>83.7</td>\n",
       "      <td>184.6</td>\n",
       "      <td>8521</td>\n",
       "      <td>1706</td>\n",
       "      <td>1197</td>\n",
       "      <td>5410</td>\n",
       "    </tr>\n",
       "  </tbody>\n",
       "</table>\n",
       "</div>"
      ],
      "text/plain": [
       "      Time (UTC+10)  Regions NSW Trading Price ($/MWh)  \\\n",
       "61296    2021-07-01                              73.25   \n",
       "\n",
       "       Regions SA Trading Price ($/MWh)  Regions TAS Trading Price ($/MWh)  \\\n",
       "61296                            102.24                              60.91   \n",
       "\n",
       "       Regions VIC Trading Price ($/MWh)  \\\n",
       "61296                              51.71   \n",
       "\n",
       "       Regions NSW Trading Total Intermittent Generation (MW)  \\\n",
       "61296                                               4.35        \n",
       "\n",
       "       Regions SA Trading Total Intermittent Generation (MW)  \\\n",
       "61296                                               4.76       \n",
       "\n",
       "       Regions TAS Trading Total Intermittent Generation (MW)  \\\n",
       "61296                                               83.7        \n",
       "\n",
       "       Regions VIC Trading Total Intermittent Generation (MW)  \\\n",
       "61296                                              184.6        \n",
       "\n",
       "       Regions NSW Operational Demand (MW)  \\\n",
       "61296                                 8521   \n",
       "\n",
       "       Regions SA Operational Demand (MW)  \\\n",
       "61296                                1706   \n",
       "\n",
       "       Regions TAS Operational Demand (MW)  \\\n",
       "61296                                 1197   \n",
       "\n",
       "       Regions VIC Operational Demand (MW)  \n",
       "61296                                 5410  "
      ]
     },
     "execution_count": 9,
     "metadata": {},
     "output_type": "execute_result"
    }
   ],
   "source": [
    "train_data.tail(1)"
   ]
  },
  {
   "cell_type": "code",
   "execution_count": 10,
   "id": "7efead6d",
   "metadata": {},
   "outputs": [],
   "source": [
    "# TESTING SET\n",
    "# Testing period is from 01/07/2021 to 11/08/2021 provided in the spec\n",
<<<<<<< HEAD:deprecated/Mandatory Task DP.ipynb
    "test_start_period = '2021-07-01 00:30:00'\n",
    "test_end_period   = '2021-08-11 23:30:00'\n",
=======
    "test_start_period = '2021-07-01 00:00:00'\n",
    "test_end_period   = '2021-08-15 23:30:00'\n",
>>>>>>> main:code/misc/Mandatory Task DP.ipynb
    "\n",
    "test_period = (market_data['Time (UTC+10)'] >= test_start_period) & \\\n",
    "               (market_data['Time (UTC+10)'] <= test_end_period)"
   ]
  },
  {
   "cell_type": "code",
   "execution_count": 11,
   "id": "3cf6722a",
   "metadata": {},
   "outputs": [],
   "source": [
    "test_data = market_data.loc[test_period]"
   ]
  },
  {
   "cell_type": "code",
   "execution_count": 12,
   "id": "8e45a1ee",
   "metadata": {},
   "outputs": [
    {
     "data": {
      "text/html": [
       "<div>\n",
       "<style scoped>\n",
       "    .dataframe tbody tr th:only-of-type {\n",
       "        vertical-align: middle;\n",
       "    }\n",
       "\n",
       "    .dataframe tbody tr th {\n",
       "        vertical-align: top;\n",
       "    }\n",
       "\n",
       "    .dataframe thead th {\n",
       "        text-align: right;\n",
       "    }\n",
       "</style>\n",
       "<table border=\"1\" class=\"dataframe\">\n",
       "  <thead>\n",
       "    <tr style=\"text-align: right;\">\n",
       "      <th></th>\n",
       "      <th>Time (UTC+10)</th>\n",
       "      <th>Regions NSW Trading Price ($/MWh)</th>\n",
       "      <th>Regions SA Trading Price ($/MWh)</th>\n",
       "      <th>Regions TAS Trading Price ($/MWh)</th>\n",
       "      <th>Regions VIC Trading Price ($/MWh)</th>\n",
       "      <th>Regions NSW Trading Total Intermittent Generation (MW)</th>\n",
       "      <th>Regions SA Trading Total Intermittent Generation (MW)</th>\n",
       "      <th>Regions TAS Trading Total Intermittent Generation (MW)</th>\n",
       "      <th>Regions VIC Trading Total Intermittent Generation (MW)</th>\n",
       "      <th>Regions NSW Operational Demand (MW)</th>\n",
       "      <th>Regions SA Operational Demand (MW)</th>\n",
       "      <th>Regions TAS Operational Demand (MW)</th>\n",
       "      <th>Regions VIC Operational Demand (MW)</th>\n",
       "    </tr>\n",
       "  </thead>\n",
       "  <tbody>\n",
       "    <tr>\n",
       "      <th>61297</th>\n",
       "      <td>2021-07-01 00:30:00</td>\n",
       "      <td>190.22</td>\n",
       "      <td>96.47</td>\n",
       "      <td>99.43</td>\n",
       "      <td>90.51</td>\n",
       "      <td>5.26</td>\n",
       "      <td>4.92</td>\n",
       "      <td>77.71</td>\n",
       "      <td>175.53</td>\n",
       "      <td>8402</td>\n",
       "      <td>1679</td>\n",
       "      <td>1154</td>\n",
       "      <td>5192</td>\n",
       "    </tr>\n",
       "  </tbody>\n",
       "</table>\n",
       "</div>"
      ],
      "text/plain": [
       "            Time (UTC+10)  Regions NSW Trading Price ($/MWh)  \\\n",
       "61297 2021-07-01 00:30:00                             190.22   \n",
       "\n",
       "       Regions SA Trading Price ($/MWh)  Regions TAS Trading Price ($/MWh)  \\\n",
       "61297                             96.47                              99.43   \n",
       "\n",
       "       Regions VIC Trading Price ($/MWh)  \\\n",
       "61297                              90.51   \n",
       "\n",
       "       Regions NSW Trading Total Intermittent Generation (MW)  \\\n",
       "61297                                               5.26        \n",
       "\n",
       "       Regions SA Trading Total Intermittent Generation (MW)  \\\n",
       "61297                                               4.92       \n",
       "\n",
       "       Regions TAS Trading Total Intermittent Generation (MW)  \\\n",
       "61297                                              77.71        \n",
       "\n",
       "       Regions VIC Trading Total Intermittent Generation (MW)  \\\n",
       "61297                                             175.53        \n",
       "\n",
       "       Regions NSW Operational Demand (MW)  \\\n",
       "61297                                 8402   \n",
       "\n",
       "       Regions SA Operational Demand (MW)  \\\n",
       "61297                                1679   \n",
       "\n",
       "       Regions TAS Operational Demand (MW)  \\\n",
       "61297                                 1154   \n",
       "\n",
       "       Regions VIC Operational Demand (MW)  \n",
       "61297                                 5192  "
      ]
     },
     "execution_count": 12,
     "metadata": {},
     "output_type": "execute_result"
    }
   ],
   "source": [
    "test_data.head(1)"
   ]
  },
  {
   "cell_type": "code",
   "execution_count": 13,
   "id": "4cf6ddf4",
   "metadata": {},
   "outputs": [
    {
     "data": {
      "text/html": [
       "<div>\n",
       "<style scoped>\n",
       "    .dataframe tbody tr th:only-of-type {\n",
       "        vertical-align: middle;\n",
       "    }\n",
       "\n",
       "    .dataframe tbody tr th {\n",
       "        vertical-align: top;\n",
       "    }\n",
       "\n",
       "    .dataframe thead th {\n",
       "        text-align: right;\n",
       "    }\n",
       "</style>\n",
       "<table border=\"1\" class=\"dataframe\">\n",
       "  <thead>\n",
       "    <tr style=\"text-align: right;\">\n",
       "      <th></th>\n",
       "      <th>Time (UTC+10)</th>\n",
       "      <th>Regions NSW Trading Price ($/MWh)</th>\n",
       "      <th>Regions SA Trading Price ($/MWh)</th>\n",
       "      <th>Regions TAS Trading Price ($/MWh)</th>\n",
       "      <th>Regions VIC Trading Price ($/MWh)</th>\n",
       "      <th>Regions NSW Trading Total Intermittent Generation (MW)</th>\n",
       "      <th>Regions SA Trading Total Intermittent Generation (MW)</th>\n",
       "      <th>Regions TAS Trading Total Intermittent Generation (MW)</th>\n",
       "      <th>Regions VIC Trading Total Intermittent Generation (MW)</th>\n",
       "      <th>Regions NSW Operational Demand (MW)</th>\n",
       "      <th>Regions SA Operational Demand (MW)</th>\n",
       "      <th>Regions TAS Operational Demand (MW)</th>\n",
       "      <th>Regions VIC Operational Demand (MW)</th>\n",
       "    </tr>\n",
       "  </thead>\n",
       "  <tbody>\n",
       "    <tr>\n",
       "      <th>63456</th>\n",
       "      <td>2021-08-15</td>\n",
       "      <td>48.69</td>\n",
       "      <td>83.68</td>\n",
       "      <td>23.87</td>\n",
       "      <td>8.73</td>\n",
       "      <td>8.07</td>\n",
       "      <td>47.47</td>\n",
       "      <td>156.92</td>\n",
       "      <td>251.75</td>\n",
       "      <td>7867</td>\n",
       "      <td>1680</td>\n",
       "      <td>1139</td>\n",
       "      <td>5244</td>\n",
       "    </tr>\n",
       "  </tbody>\n",
       "</table>\n",
       "</div>"
      ],
      "text/plain": [
       "      Time (UTC+10)  Regions NSW Trading Price ($/MWh)  \\\n",
       "63456    2021-08-15                              48.69   \n",
       "\n",
       "       Regions SA Trading Price ($/MWh)  Regions TAS Trading Price ($/MWh)  \\\n",
       "63456                             83.68                              23.87   \n",
       "\n",
       "       Regions VIC Trading Price ($/MWh)  \\\n",
       "63456                               8.73   \n",
       "\n",
       "       Regions NSW Trading Total Intermittent Generation (MW)  \\\n",
       "63456                                               8.07        \n",
       "\n",
       "       Regions SA Trading Total Intermittent Generation (MW)  \\\n",
       "63456                                              47.47       \n",
       "\n",
       "       Regions TAS Trading Total Intermittent Generation (MW)  \\\n",
       "63456                                             156.92        \n",
       "\n",
       "       Regions VIC Trading Total Intermittent Generation (MW)  \\\n",
       "63456                                             251.75        \n",
       "\n",
       "       Regions NSW Operational Demand (MW)  \\\n",
       "63456                                 7867   \n",
       "\n",
       "       Regions SA Operational Demand (MW)  \\\n",
       "63456                                1680   \n",
       "\n",
       "       Regions TAS Operational Demand (MW)  \\\n",
       "63456                                 1139   \n",
       "\n",
       "       Regions VIC Operational Demand (MW)  \n",
       "63456                                 5244  "
      ]
     },
     "execution_count": 13,
     "metadata": {},
     "output_type": "execute_result"
    }
   ],
   "source": [
    "test_data.tail(1)"
   ]
  },
  {
   "cell_type": "code",
   "execution_count": 14,
   "id": "6208c4cc",
   "metadata": {},
   "outputs": [],
   "source": [
    "# SAVE TRAIN AND TEST SET TO CSV\n",
    "train_data.to_csv('../../preprocessed_data/mandatory_train.csv')\n",
    "test_data.to_csv('../../preprocessed_data/mandatory_test.csv')"
   ]
  }
 ],
 "metadata": {
  "kernelspec": {
   "display_name": "Python 3",
   "language": "python",
   "name": "python3"
  },
  "language_info": {
   "codemirror_mode": {
    "name": "ipython",
    "version": 3
   },
   "file_extension": ".py",
   "mimetype": "text/x-python",
   "name": "python",
   "nbconvert_exporter": "python",
   "pygments_lexer": "ipython3",
<<<<<<< HEAD:deprecated/Mandatory Task DP.ipynb
   "version": "3.9.7"
=======
   "version": "3.7.11"
>>>>>>> main:code/misc/Mandatory Task DP.ipynb
  },
  "varInspector": {
   "cols": {
    "lenName": 16,
    "lenType": 16,
    "lenVar": 40
   },
   "kernels_config": {
    "python": {
     "delete_cmd_postfix": "",
     "delete_cmd_prefix": "del ",
     "library": "var_list.py",
     "varRefreshCmd": "print(var_dic_list())"
    },
    "r": {
     "delete_cmd_postfix": ") ",
     "delete_cmd_prefix": "rm(",
     "library": "var_list.r",
     "varRefreshCmd": "cat(var_dic_list()) "
    }
   },
   "types_to_exclude": [
    "module",
    "function",
    "builtin_function_or_method",
    "instance",
    "_Feature"
   ],
   "window_display": false
  }
 },
 "nbformat": 4,
 "nbformat_minor": 5
}
