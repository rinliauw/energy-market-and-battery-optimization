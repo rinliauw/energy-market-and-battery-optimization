{
 "cells": [
  {
   "cell_type": "code",
   "execution_count": null,
   "id": "dc91d262",
   "metadata": {},
   "outputs": [],
   "source": [
    "#!pip install openpyxl # Uncomment to install openpyxl"
   ]
  },
  {
   "cell_type": "markdown",
   "id": "58687304",
   "metadata": {},
   "source": [
    "# Instructions\n",
    "1. Run `Libraries`.\n",
    "1. Run `Optimisation Algorithm` (Top to Bottom).\n",
    "1. Make sure `MiniModels.ipynb`, `PeriodMaximisation.py` and `Battery.py` are in the same directory with this notebook.\n",
    "1. Go to `User Usage` Section, put the `input` and `output` filepath including the formats.\n",
    "1. Go to respective sections, run and save to respective formats (Top to Bottom)."
   ]
  },
  {
   "cell_type": "markdown",
   "id": "79a2b40b",
   "metadata": {},
   "source": [
    "### Libraries"
   ]
  },
  {
   "cell_type": "code",
   "execution_count": 1,
   "id": "5f1cd9b9",
   "metadata": {},
   "outputs": [],
   "source": [
    "import pandas as pd\n",
    "import numpy as np\n",
    "import time\n",
    "\n",
    "import PeriodMaximisation as pm\n",
    "from Battery import Battery\n",
    "\n",
    "%run ./MiniModels.ipynb"
   ]
  },
  {
   "cell_type": "markdown",
   "id": "1b2c2093",
   "metadata": {},
   "source": [
    "## Optimisation Algorithm"
   ]
  },
  {
   "cell_type": "code",
   "execution_count": 2,
   "id": "246824f4",
   "metadata": {},
   "outputs": [],
   "source": [
    "def ConvertFormat_BunToMeat(df):\n",
    "    \n",
    "    # Converting simple format to actual format\n",
    "    df[\"Power\"] = np.where(df[\"Status\"] == \"Charge\", df[\"Actual\"] * 2, df[\"Actual\"] * 2 / 0.9)\n",
    "    df = pm.renameColumns(df[[\"Time\", \"Price\", \"Power\", \"Actual\", \"Opening Capacity\", \"Closing Capacity\"]])\n",
    "    \n",
    "    return df\n",
    "\n",
    "def ConvertFormat_MeatToBun(act, df):\n",
    "    \n",
    "    # Converting actual format to simple format\n",
    "    act = act[[\"Time (UTC+10)\", \"Regions VIC Trading Price ($/MWh)\", \n",
    "               \"Market Dispatch (MWh)\", \"Opening Capacity (MWh)\", \n",
    "               \"Closing Capacity (MWh)\"]] # Select time and victoria prices\n",
    "    act.columns = [\"Time\", \"Price\", \"Actual\", \"Opening Capacity\", \"Closing Capacity\"] # Rename columns\n",
    "    act[\"Time\"] = pd.to_datetime(df[\"Time\"]) # Convert data type\n",
    "    act = act.sort_values(\"Time\").reset_index(drop = True) # Finalise\n",
    "    act[\"Restrict\"] = - np.where(act[\"Actual\"] <= 0, act[\"Actual\"] * 0.9, act[\"Actual\"] / 0.9)\n",
    "    act[\"Status\"] = np.where(act[\"Actual\"] < 0, \"Charge\", np.where(act[\"Actual\"] > 0, \"Discharge\", \"Do Nothing\"))\n",
    "\n",
    "    sim = pd.merge(df[\"Time\"], act.drop(\"Time\", axis = 1), left_index = True, right_index = True)\n",
    "\n",
    "    return sim"
   ]
  },
  {
   "cell_type": "code",
   "execution_count": 3,
   "id": "725bcdf2",
   "metadata": {},
   "outputs": [],
   "source": [
    "def TopBun(df, n = 17):\n",
    "    Model = MovingAverage(n, df) # Moving Average\n",
    "    Model = Maximisation(Model, df) # Region Maximisation\n",
    "    Model = LossRemoval(Model) # Loss Removal\n",
    "    Model = Stationary(Model, df) # Stationary Maximisation\n",
    "    Model = ShiftAction(Model, df) # Action Shift\n",
    "    \n",
    "    return Model\n",
    "\n",
    "def Meat(df):\n",
    "    tmp = df.copy()\n",
    "    # Converting format\n",
    "    tmp = ConvertFormat_BunToMeat(tmp)\n",
    "    \n",
    "    # Get time period\n",
    "    time = pm.getTimePeriod(tmp)\n",
    "    \n",
    "    # Run Dependendy Optimisation Algorithm\n",
    "    tmp = pm.DependencyOptimisation(tmp, time) # PeriodOptimisation\n",
    "    \n",
    "    # Convert back format\n",
    "    tmp = ConvertFormat_MeatToBun(tmp, df)\n",
    "    \n",
    "    return tmp\n",
    "\n",
    "def LowerBun(Model, df):\n",
    "    \n",
    "    Model = Maximisation(Model, df = df, Chronos = False) # Region Maximisation\n",
    "    Model = Stationary(Model, df = df) # Stationary Maximisation\n",
    "    Model = ShiftAction(Model, df = df) # Action Shift\n",
    "\n",
    "    return Model\n",
    "\n",
    "def SandwichModel(original_data):\n",
    "    tmp = original_data.copy()\n",
    "    \n",
    "    start = time.time()\n",
    "    print(\"Calculating First Step\")\n",
    "    tmp = TopBun(tmp, n = 17)\n",
    "    first = time.time()\n",
    "    print(f\"It took {first - start} seconds for First Step\")\n",
    "    \n",
    "    print(\"#######################\\n\")\n",
    "    \n",
    "    print(\"Calculating Second Step\")\n",
    "    tmp = Meat(tmp)\n",
    "    second = time.time()\n",
    "    print(f\"It took {second - first} seconds for Second Step\")\n",
    "    \n",
    "    print(\"#######################\\n\")\n",
    "    \n",
    "    print(\"Calculating Final Step\")\n",
    "    tmp = LowerBun(tmp, original_data)\n",
    "    third = time.time()\n",
    "    print(f\"It took {third - second} seconds for Third Step\")\n",
    "    total = time.time()\n",
    "    \n",
    "    print(\"#######################\\n\")\n",
    "    \n",
    "    print(f\"In total cooking time took {total - start} seconds\")\n",
    "    tmp = ConvertFormat_BunToMeat(tmp)\n",
    "    return tmp"
   ]
  },
  {
   "cell_type": "markdown",
   "id": "302468e4",
   "metadata": {},
   "source": [
    "### All Data"
   ]
  },
  {
   "cell_type": "code",
   "execution_count": null,
   "id": "43f50e01",
   "metadata": {},
   "outputs": [],
   "source": [
    "df = pd.read_excel(\"../original_data.xlsx\") # Open original data\n",
    "df = df[[\"Time (UTC+10)\", \"Regions VIC Trading Price ($/MWh)\"]] # Select time and victoria prices\n",
    "df.columns = [\"Time\", \"Price\"] # Rename columns\n",
    "df[\"Time\"] = pd.to_datetime(df[\"Time\"]) # Convert data type\n",
    "df = df.sort_values(\"Time\").reset_index(drop = True) # Finalise"
   ]
  },
  {
   "cell_type": "code",
   "execution_count": null,
   "id": "248df9f3",
   "metadata": {},
   "outputs": [],
   "source": [
    "final_result = SandwichModel(df)\n",
    "\n",
    "print(f\"Total Revenue for this dataset is : {pm.computeRevenue(final_result)}\")"
   ]
  },
  {
   "cell_type": "code",
   "execution_count": null,
   "id": "4cb9aee2",
   "metadata": {},
   "outputs": [],
   "source": [
    "final_result.to_excel(\"mandatory_all_timeline.xlsx\", index = False)"
   ]
  },
  {
   "cell_type": "markdown",
   "id": "719acede",
   "metadata": {},
   "source": [
    "### Training Set"
   ]
  },
  {
   "cell_type": "code",
   "execution_count": null,
   "id": "aabd9cf1",
   "metadata": {},
   "outputs": [],
   "source": [
    "train_df = pd.read_excel(\"../../preprocessed_data/training_data.xlsx\") # Open original data\n",
    "train_df = train_df[[\"Time (UTC+10)\", \"Regions VIC Trading Price ($/MWh)\"]] # Select time and victoria prices\n",
    "train_df.columns = [\"Time\", \"Price\"] # Rename columns\n",
    "train_df[\"Time\"] = pd.to_datetime(train_df[\"Time\"]) # Convert data type\n",
    "train_df = train_df.sort_values(\"Time\").reset_index(drop = True) # Finalise"
   ]
  },
  {
   "cell_type": "code",
   "execution_count": null,
   "id": "de509610",
   "metadata": {},
   "outputs": [],
   "source": [
    "final_training_result = SandwichModel(train_df)\n",
    "\n",
    "print(f\"Total Revenue for this dataset is : {pm.computeRevenue(final_training_result)}\")"
   ]
  },
  {
   "cell_type": "markdown",
   "id": "ccd165f2",
   "metadata": {},
   "source": [
    "### Testing Set"
   ]
  },
  {
   "cell_type": "code",
   "execution_count": 4,
   "id": "d0414f2a",
   "metadata": {},
   "outputs": [],
   "source": [
    "test_df = pd.read_excel(\"../testing_data.xlsx\") # Open original data\n",
    "test_df = test_df[[\"Time (UTC+10)\", \"Regions VIC Trading Price ($/MWh)\"]] # Select time and victoria prices\n",
    "test_df.columns = [\"Time\", \"Price\"] # Rename columns\n",
    "test_df[\"Time\"] = pd.to_datetime(test_df[\"Time\"]) # Convert data type\n",
    "test_df = test_df.sort_values(\"Time\").reset_index(drop = True) # Finalise"
   ]
  },
  {
   "cell_type": "code",
   "execution_count": 5,
   "id": "6634c94c",
   "metadata": {
    "scrolled": false
   },
   "outputs": [
    {
     "name": "stdout",
     "output_type": "stream",
     "text": [
      "Calculating First Step\n",
      "It took 4.210745811462402 seconds for First Step\n",
      "#######################\n",
      "\n",
      "Calculating Second Step\n",
      "It took 36.63127326965332 seconds for Second Step\n",
      "#######################\n",
      "\n",
      "Calculating Final Step\n",
      "It took 1.953749418258667 seconds for Third Step\n",
      "#######################\n",
      "\n",
      "In total cooking time took 42.79576849937439 seconds\n",
      "Total Revenue for this dataset is : 6047221.096586371\n"
     ]
    }
   ],
   "source": [
    "final_testing_result = SandwichModel(test_df)\n",
    "\n",
    "print(f\"Total Revenue for this dataset is : {pm.computeRevenue(final_testing_result)}\")"
   ]
  },
  {
   "cell_type": "code",
   "execution_count": 6,
   "id": "f61e54c5",
   "metadata": {},
   "outputs": [],
   "source": [
    "final_testing_result.to_excel('../test_result.xlsx', index= False)"
   ]
  },
  {
   "cell_type": "markdown",
   "id": "0e52d55b",
   "metadata": {},
   "source": [
    "## User Usage"
   ]
  },
  {
   "cell_type": "code",
   "execution_count": null,
   "id": "2a796f55",
   "metadata": {},
   "outputs": [],
   "source": [
    "input_filepath = '' # Add filepath here (include extension)\n",
    "output_filepath = '' # Add filepath here (include extension)"
   ]
  },
  {
   "cell_type": "markdown",
   "id": "ebbe22b0",
   "metadata": {},
   "source": [
    "### IF INPUT IS EXCEL FILE EXTENSION"
   ]
  },
  {
   "cell_type": "code",
   "execution_count": null,
   "id": "1eda238f",
   "metadata": {},
   "outputs": [],
   "source": [
    "dataframe = pd.read_excel(input_filepath)\n",
    "dataframe = dataframe[[\"Time (UTC+10)\", \"Regions VIC Trading Price ($/MWh)\"]] # Select time and victoria prices\n",
    "dataframe.columns = [\"Time\", \"Price\"] # Rename columns\n",
    "dataframe[\"Time\"] = pd.to_datetime(dataframe[\"Time\"]) # Convert data type\n",
    "dataframe = dataframe.sort_values(\"Time\").reset_index(drop = True) # Finalise\n",
    "result = SandwichModel(dataframe)\n",
    "print(f\"Total Revenue for this dataset is : {pm.computeRevenue(result)}\")"
   ]
  },
  {
   "cell_type": "markdown",
   "id": "486a559c",
   "metadata": {},
   "source": [
    "### IF INPUT IS CSV FILE EXTENSTION"
   ]
  },
  {
   "cell_type": "code",
   "execution_count": null,
   "id": "4103e84f",
   "metadata": {},
   "outputs": [],
   "source": [
    "dataframe = pd.read_csv(input_filepath)\n",
    "dataframe = dataframe[[\"Time (UTC+10)\", \"Regions VIC Trading Price ($/MWh)\"]] # Select time and victoria prices\n",
    "dataframe.columns = [\"Time\", \"Price\"] # Rename columns\n",
    "dataframe[\"Time\"] = pd.to_datetime(dataframe[\"Time\"]) # Convert data type\n",
    "dataframe = dataframe.sort_values(\"Time\").reset_index(drop = True) # Finalise\n",
    "result = SandwichModel(dataframe)\n",
    "print(f\"Total Revenue for this dataset is : {pm.computeRevenue(result)}\")"
   ]
  },
  {
   "cell_type": "markdown",
   "id": "89be7fd1",
   "metadata": {},
   "source": [
    "### SAVE TO EXCEL"
   ]
  },
  {
   "cell_type": "code",
   "execution_count": null,
   "id": "5c32d870",
   "metadata": {},
   "outputs": [],
   "source": [
    "result.to_excel(output_filepath, index = False)"
   ]
  },
  {
   "cell_type": "markdown",
   "id": "b91c9e18",
   "metadata": {},
   "source": [
    "### SAVE TO CSV"
   ]
  },
  {
   "cell_type": "code",
   "execution_count": null,
   "id": "36e6e9d7",
   "metadata": {},
   "outputs": [],
   "source": [
    "result.to_csv(output_filepath, index = False)"
   ]
  }
 ],
 "metadata": {
  "kernelspec": {
   "display_name": "Python 3 (ipykernel)",
   "language": "python",
   "name": "python3"
  },
  "language_info": {
   "codemirror_mode": {
    "name": "ipython",
    "version": 3
   },
   "file_extension": ".py",
   "mimetype": "text/x-python",
   "name": "python",
   "nbconvert_exporter": "python",
   "pygments_lexer": "ipython3",
   "version": "3.7.11"
  },
  "varInspector": {
   "cols": {
    "lenName": 16,
    "lenType": 16,
    "lenVar": 40
   },
   "kernels_config": {
    "python": {
     "delete_cmd_postfix": "",
     "delete_cmd_prefix": "del ",
     "library": "var_list.py",
     "varRefreshCmd": "print(var_dic_list())"
    },
    "r": {
     "delete_cmd_postfix": ") ",
     "delete_cmd_prefix": "rm(",
     "library": "var_list.r",
     "varRefreshCmd": "cat(var_dic_list()) "
    }
   },
   "types_to_exclude": [
    "module",
    "function",
    "builtin_function_or_method",
    "instance",
    "_Feature"
   ],
   "window_display": false
  }
 },
 "nbformat": 4,
 "nbformat_minor": 5
}
